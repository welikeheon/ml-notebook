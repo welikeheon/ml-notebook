{
 "cells": [
  {
   "cell_type": "markdown",
   "metadata": {
    "id": "Ss6WwQxZcyB3"
   },
   "source": [
    "# 머신 러닝 교과서 3판"
   ]
  },
  {
   "cell_type": "markdown",
   "metadata": {
    "id": "lTv_uMjxcyB4"
   },
   "source": [
    "# 8장 - 감성 분석에 머신 러닝 적용\u001c"
   ]
  },
  {
   "cell_type": "markdown",
   "metadata": {
    "id": "qeuUzWpZcyB5"
   },
   "source": [
    "**아래 링크를 통해 이 노트북을 주피터 노트북 뷰어(nbviewer.jupyter.org)로 보거나 구글 코랩(colab.research.google.com)에서 실행할 수 있습니다.**\n",
    "\n",
    "<table class=\"tfo-notebook-buttons\" align=\"left\">\n",
    "  <td>\n",
    "    <a target=\"_blank\" href=\"https://nbviewer.jupyter.org/github/rickiepark/python-machine-learning-book-3rd-edition/blob/master/ch08/ch08.ipynb\"><img src=\"https://jupyter.org/assets/main-logo.svg\" width=\"28\" />주피터 노트북 뷰어로 보기</a>\n",
    "  </td>\n",
    "  <td>\n",
    "    <a target=\"_blank\" href=\"https://colab.research.google.com/github/rickiepark/python-machine-learning-book-3rd-edition/blob/master/ch08/ch08.ipynb\"><img src=\"https://www.tensorflow.org/images/colab_logo_32px.png\" />구글 코랩(Colab)에서 실행하기</a>\n",
    "  </td>\n",
    "</table>"
   ]
  },
  {
   "cell_type": "markdown",
   "metadata": {
    "id": "6Ss0AF_gcyB5"
   },
   "source": [
    "### 목차"
   ]
  },
  {
   "cell_type": "markdown",
   "metadata": {
    "id": "kkpNAjXtcyB5"
   },
   "source": [
    "- 텍스트 처리용 IMDb 영화 리뷰 데이터 준비 \n",
    "    - 영화 리뷰 데이터셋 구하기 \n",
    "    -영화 리뷰 데이터셋을 더 간편한 형태로 전처리 \n",
    "- BoW 모델 소개 \n",
    "    - 단어를 특성 벡터로 변환 \n",
    "    - tf-idf를 사용하여 단어 적합성 평가 \n",
    "    - 텍스트 데이터 정제 \n",
    "    - 문서를 토큰으로 나누기 \n",
    "- 문서 분류를 위한 로지스틱 회귀 모델 훈련 \n",
    "- 대용량 데이터 처리: 온라인 알고리즘과 외부 메모리 학습 \n",
    "- 잠재 디리클레 할당을 사용한 토픽 모델링 \n",
    "    - LDA를 사용한 텍스트 문서 분해 \n",
    "    - 사이킷런의 LDA\n",
    "- 요약"
   ]
  },
  {
   "cell_type": "markdown",
   "metadata": {
    "id": "WPm8CyFWcyB5"
   },
   "source": [
    "<br>\n",
    "<br>"
   ]
  },
  {
   "cell_type": "code",
   "execution_count": 1,
   "metadata": {
    "colab": {
     "base_uri": "https://localhost:8080/"
    },
    "id": "uA7sENBzcyB5",
    "outputId": "8f29b76b-b12c-4cc8-dc3b-c83ee8664394"
   },
   "outputs": [
    {
     "name": "stdout",
     "output_type": "stream",
     "text": [
      "Collecting scikit-learn\n",
      "\u001b[?25l  Downloading https://files.pythonhosted.org/packages/e2/4c/6111b9a325f29527d7f262e2ee8c730d354b47a728d955e186dacad57a0d/scikit_learn-0.24.1-cp36-cp36m-manylinux2010_x86_64.whl (22.2MB)\n",
      "\u001b[K     |████████████████████████████████| 22.2MB 1.3MB/s \n",
      "\u001b[?25hCollecting threadpoolctl>=2.0.0\n",
      "  Downloading https://files.pythonhosted.org/packages/f7/12/ec3f2e203afa394a149911729357aa48affc59c20e2c1c8297a60f33f133/threadpoolctl-2.1.0-py3-none-any.whl\n",
      "Requirement already satisfied, skipping upgrade: numpy>=1.13.3 in /usr/local/lib/python3.6/dist-packages (from scikit-learn) (1.19.5)\n",
      "Requirement already satisfied, skipping upgrade: scipy>=0.19.1 in /usr/local/lib/python3.6/dist-packages (from scikit-learn) (1.4.1)\n",
      "Requirement already satisfied, skipping upgrade: joblib>=0.11 in /usr/local/lib/python3.6/dist-packages (from scikit-learn) (1.0.0)\n",
      "Installing collected packages: threadpoolctl, scikit-learn\n",
      "  Found existing installation: scikit-learn 0.22.2.post1\n",
      "    Uninstalling scikit-learn-0.22.2.post1:\n",
      "      Successfully uninstalled scikit-learn-0.22.2.post1\n",
      "Successfully installed scikit-learn-0.24.1 threadpoolctl-2.1.0\n"
     ]
    }
   ],
   "source": [
    "# 코랩에서 실행할 경우 최신 버전의 사이킷런을 설치합니다.\n",
    "!pip install --upgrade scikit-learn"
   ]
  },
  {
   "cell_type": "markdown",
   "metadata": {
    "id": "OqHmARyScyB6"
   },
   "source": [
    "# 텍스트 처리용 IMDb 영화 리뷰 데이터 준비 "
   ]
  },
  {
   "cell_type": "markdown",
   "metadata": {
    "id": "agsmeXazcyB6"
   },
   "source": [
    "## 영화 리뷰 데이터셋 구하기 "
   ]
  },
  {
   "cell_type": "markdown",
   "metadata": {
    "id": "qMsd8qjbcyB6"
   },
   "source": [
    "IMDB 영화 리뷰 데이터셋은 [http://ai.stanford.edu/~amaas/data/sentiment/aclImdb_v1.tar.gz](http://ai.stanford.edu/~amaas/data/sentiment/aclImdb_v1.tar.gz)에서 내려받을 수 있습니다. 다운로드된 후 파일 압축을 해제합니다.\n",
    "\n",
    "A) 리눅스(Linux)나 macOS를 사용하면 새로운 터미널(Terminal) 윈도우를 열고 `cd` 명령으로 다운로드 디렉터리로 이동하여 다음 명령을 실행하세요. \n",
    "\n",
    "`tar -zxf aclImdb_v1.tar.gz`\n",
    "\n",
    "B) 윈도(Windows)를 사용하면 7-Zip(http://www.7-zip.org) 같은 무료 압축 유틸리티를 설치하여 다운로드한 파일의 압축을 풀 수 있습니다."
   ]
  },
  {
   "cell_type": "markdown",
   "metadata": {
    "id": "30Y2_kwrcyB6"
   },
   "source": [
    "**다음처럼 파이썬에서 다운로드하고 압축을 풀 수도 있습니다:**"
   ]
  },
  {
   "cell_type": "code",
   "execution_count": 2,
   "metadata": {
    "colab": {
     "base_uri": "https://localhost:8080/"
    },
    "execution": {
     "iopub.execute_input": "2020-11-29T02:03:47.558045Z",
     "iopub.status.busy": "2020-11-29T02:03:47.556202Z",
     "iopub.status.idle": "2020-11-29T02:03:47.563846Z",
     "shell.execute_reply": "2020-11-29T02:03:47.565347Z"
    },
    "id": "eOs3FJPTcyB7",
    "outputId": "eb9a2dc5-ab01-4cd0-cadf-db97aa972ab3"
   },
   "outputs": [
    {
     "name": "stdout",
     "output_type": "stream",
     "text": [
      "100% | 80 MB | 6.83 MB/s | 11 sec elapsed"
     ]
    }
   ],
   "source": [
    "import os\n",
    "import sys\n",
    "import tarfile\n",
    "import time\n",
    "import urllib.request\n",
    "\n",
    "\n",
    "source = 'http://ai.stanford.edu/~amaas/data/sentiment/aclImdb_v1.tar.gz'\n",
    "target = 'aclImdb_v1.tar.gz'\n",
    "\n",
    "\n",
    "def reporthook(count, block_size, total_size):\n",
    "    global start_time\n",
    "    if count == 0:\n",
    "        start_time = time.time()\n",
    "        return\n",
    "    duration = time.time() - start_time\n",
    "    progress_size = int(count * block_size)\n",
    "    speed = progress_size / (1024.**2 * duration)\n",
    "    percent = count * block_size * 100. / total_size\n",
    "\n",
    "    sys.stdout.write(\"\\r%d%% | %d MB | %.2f MB/s | %d sec elapsed\" %\n",
    "                    (percent, progress_size / (1024.**2), speed, duration))\n",
    "    sys.stdout.flush()\n",
    "\n",
    "\n",
    "if not os.path.isdir('aclImdb') and not os.path.isfile('aclImdb_v1.tar.gz'):\n",
    "    urllib.request.urlretrieve(source, target, reporthook)"
   ]
  },
  {
   "cell_type": "code",
   "execution_count": 3,
   "metadata": {
    "execution": {
     "iopub.execute_input": "2020-11-29T02:03:47.574548Z",
     "iopub.status.busy": "2020-11-29T02:03:47.573428Z",
     "iopub.status.idle": "2020-11-29T02:03:47.576743Z",
     "shell.execute_reply": "2020-11-29T02:03:47.577675Z"
    },
    "id": "WB9vcQJ9cyB7"
   },
   "outputs": [],
   "source": [
    "if not os.path.isdir('aclImdb'):\n",
    "\n",
    "    with tarfile.open(target, 'r:gz') as tar:\n",
    "        tar.extractall()"
   ]
  },
  {
   "cell_type": "markdown",
   "metadata": {
    "id": "mhTLvtAdcyB7"
   },
   "source": [
    "## 영화 리뷰 데이터셋을 더 간편한 형태로 전처리 "
   ]
  },
  {
   "cell_type": "markdown",
   "metadata": {
    "id": "729l0colcyB7"
   },
   "source": [
    "`pyprind`는 주피터 노트북에서 진행바를 출력하기 위한 유틸리티입니다. `pyprind` 패키지를 설치하려면 다음 셀을 실행하세요."
   ]
  },
  {
   "cell_type": "code",
   "execution_count": 6,
   "metadata": {
    "colab": {
     "base_uri": "https://localhost:8080/"
    },
    "execution": {
     "iopub.execute_input": "2020-11-29T02:03:47.584782Z",
     "iopub.status.busy": "2020-11-29T02:03:47.583688Z",
     "iopub.status.idle": "2020-11-29T02:03:47.587802Z",
     "shell.execute_reply": "2020-11-29T02:03:47.586861Z"
    },
    "id": "4NUkjwFLcyB7",
    "outputId": "dae85c57-3dbf-4ea0-ff8f-57821ede4d4c",
    "scrolled": true
   },
   "outputs": [
    {
     "name": "stdout",
     "output_type": "stream",
     "text": [
      "Collecting pyprind\n",
      "  Downloading https://files.pythonhosted.org/packages/1e/30/e76fb0c45da8aef49ea8d2a90d4e7a6877b45894c25f12fb961f009a891e/PyPrind-2.11.2-py3-none-any.whl\n",
      "Installing collected packages: pyprind\n",
      "Successfully installed pyprind-2.11.2\n"
     ]
    }
   ],
   "source": [
    "!pip install pyprind"
   ]
  },
  {
   "cell_type": "code",
   "execution_count": 7,
   "metadata": {
    "colab": {
     "base_uri": "https://localhost:8080/"
    },
    "execution": {
     "iopub.execute_input": "2020-11-29T02:03:47.603300Z",
     "iopub.status.busy": "2020-11-29T02:03:47.602172Z",
     "iopub.status.idle": "2020-11-29T02:09:22.924616Z",
     "shell.execute_reply": "2020-11-29T02:09:22.925969Z"
    },
    "id": "xcfgFFkDcyB7",
    "outputId": "242877d1-d019-41bb-ca9d-54a7686deb8b"
   },
   "outputs": [
    {
     "name": "stderr",
     "output_type": "stream",
     "text": [
      "0% [##############################] 100% | ETA: 00:00:00\n",
      "Total time elapsed: 00:01:44\n"
     ]
    }
   ],
   "source": [
    "import pyprind\n",
    "import pandas as pd\n",
    "import os\n",
    "\n",
    "# `basepath`를 압축 해제된 영화 리뷰 데이터셋이 있는\n",
    "# 디렉토리로 바꾸세요\n",
    "\n",
    "basepath = 'aclImdb'\n",
    "\n",
    "labels = {'pos': 1, 'neg': 0}\n",
    "pbar = pyprind.ProgBar(50000)\n",
    "df = pd.DataFrame()\n",
    "for s in ('test', 'train'):\n",
    "    for l in ('pos', 'neg'):\n",
    "        path = os.path.join(basepath, s, l)\n",
    "        for file in sorted(os.listdir(path)):\n",
    "            with open(os.path.join(path, file), \n",
    "                      'r', encoding='utf-8') as infile:\n",
    "                txt = infile.read()\n",
    "            df = df.append([[txt, labels[l]]], \n",
    "                           ignore_index=True)\n",
    "            pbar.update()\n",
    "df.columns = ['review', 'sentiment']"
   ]
  },
  {
   "cell_type": "markdown",
   "metadata": {
    "id": "of8QKAPocyB8"
   },
   "source": [
    "데이터프레임을 섞습니다:"
   ]
  },
  {
   "cell_type": "code",
   "execution_count": 8,
   "metadata": {
    "execution": {
     "iopub.execute_input": "2020-11-29T02:09:22.938416Z",
     "iopub.status.busy": "2020-11-29T02:09:22.935659Z",
     "iopub.status.idle": "2020-11-29T02:09:22.948612Z",
     "shell.execute_reply": "2020-11-29T02:09:22.949895Z"
    },
    "id": "1b7BhbYxcyB8"
   },
   "outputs": [],
   "source": [
    "import numpy as np\n",
    "\n",
    "np.random.seed(0)\n",
    "df = df.reindex(np.random.permutation(df.index))"
   ]
  },
  {
   "cell_type": "markdown",
   "metadata": {
    "id": "djnDKKULcyB8"
   },
   "source": [
    "선택사항: 만들어진 데이터를 CSV 파일로 저장합니다:"
   ]
  },
  {
   "cell_type": "code",
   "execution_count": 9,
   "metadata": {
    "execution": {
     "iopub.execute_input": "2020-11-29T02:09:22.959190Z",
     "iopub.status.busy": "2020-11-29T02:09:22.957602Z",
     "iopub.status.idle": "2020-11-29T02:09:26.106172Z",
     "shell.execute_reply": "2020-11-29T02:09:26.107659Z"
    },
    "id": "kyV0QwoXcyB9"
   },
   "outputs": [],
   "source": [
    "df.to_csv('movie_data.csv', index=False, encoding='utf-8')"
   ]
  },
  {
   "cell_type": "code",
   "execution_count": 10,
   "metadata": {
    "colab": {
     "base_uri": "https://localhost:8080/",
     "height": 138
    },
    "execution": {
     "iopub.execute_input": "2020-11-29T02:09:26.117970Z",
     "iopub.status.busy": "2020-11-29T02:09:26.116707Z",
     "iopub.status.idle": "2020-11-29T02:09:26.682830Z",
     "shell.execute_reply": "2020-11-29T02:09:26.684289Z"
    },
    "id": "7LNPVvAKcyB9",
    "outputId": "1444106d-8cbe-4e00-fa59-d05c77214b35"
   },
   "outputs": [
    {
     "data": {
      "text/html": [
       "<div>\n",
       "<style scoped>\n",
       "    .dataframe tbody tr th:only-of-type {\n",
       "        vertical-align: middle;\n",
       "    }\n",
       "\n",
       "    .dataframe tbody tr th {\n",
       "        vertical-align: top;\n",
       "    }\n",
       "\n",
       "    .dataframe thead th {\n",
       "        text-align: right;\n",
       "    }\n",
       "</style>\n",
       "<table border=\"1\" class=\"dataframe\">\n",
       "  <thead>\n",
       "    <tr style=\"text-align: right;\">\n",
       "      <th></th>\n",
       "      <th>review</th>\n",
       "      <th>sentiment</th>\n",
       "    </tr>\n",
       "  </thead>\n",
       "  <tbody>\n",
       "    <tr>\n",
       "      <th>0</th>\n",
       "      <td>In 1974, the teenager Martha Moxley (Maggie Gr...</td>\n",
       "      <td>1</td>\n",
       "    </tr>\n",
       "    <tr>\n",
       "      <th>1</th>\n",
       "      <td>OK... so... I really like Kris Kristofferson a...</td>\n",
       "      <td>0</td>\n",
       "    </tr>\n",
       "    <tr>\n",
       "      <th>2</th>\n",
       "      <td>***SPOILER*** Do not read this, if you think a...</td>\n",
       "      <td>0</td>\n",
       "    </tr>\n",
       "  </tbody>\n",
       "</table>\n",
       "</div>"
      ],
      "text/plain": [
       "                                              review  sentiment\n",
       "0  In 1974, the teenager Martha Moxley (Maggie Gr...          1\n",
       "1  OK... so... I really like Kris Kristofferson a...          0\n",
       "2  ***SPOILER*** Do not read this, if you think a...          0"
      ]
     },
     "execution_count": 10,
     "metadata": {
      "tags": []
     },
     "output_type": "execute_result"
    }
   ],
   "source": [
    "import pandas as pd\n",
    "\n",
    "df = pd.read_csv('movie_data.csv', encoding='utf-8')\n",
    "df.head(3)"
   ]
  },
  {
   "cell_type": "code",
   "execution_count": 11,
   "metadata": {
    "colab": {
     "base_uri": "https://localhost:8080/"
    },
    "execution": {
     "iopub.execute_input": "2020-11-29T02:09:26.694041Z",
     "iopub.status.busy": "2020-11-29T02:09:26.692715Z",
     "iopub.status.idle": "2020-11-29T02:09:26.696964Z",
     "shell.execute_reply": "2020-11-29T02:09:26.697828Z"
    },
    "id": "7cR49jwpcyB9",
    "outputId": "bdaeb28e-2d58-4b7b-c66b-1a9429b939e1"
   },
   "outputs": [
    {
     "data": {
      "text/plain": [
       "(50000, 2)"
      ]
     },
     "execution_count": 11,
     "metadata": {
      "tags": []
     },
     "output_type": "execute_result"
    }
   ],
   "source": [
    "df.shape"
   ]
  },
  {
   "cell_type": "markdown",
   "metadata": {
    "id": "phyGy5GScyB9"
   },
   "source": [
    "---\n",
    "\n",
    "### 노트\n",
    "\n",
    "`movie_data.csv` 파일을 만드는데 문제가 있다면 https://github.com/rickiepark/python-machine-learning-book-3rd-edition/tree/master/ch08/ 에서 zip 압축된 버전을 다운로드할 수 있습니다.\n",
    "\n",
    "---"
   ]
  },
  {
   "cell_type": "markdown",
   "metadata": {
    "id": "WbiutklPcyB9"
   },
   "source": [
    "<br>\n",
    "<br>"
   ]
  },
  {
   "cell_type": "markdown",
   "metadata": {
    "id": "7OISRfu-cyB9"
   },
   "source": [
    "# BoW 모델 소개 "
   ]
  },
  {
   "cell_type": "markdown",
   "metadata": {
    "id": "Bz1g5S6scyB-"
   },
   "source": [
    "..."
   ]
  },
  {
   "cell_type": "markdown",
   "metadata": {
    "id": "qL4sPT17cyB-"
   },
   "source": [
    "## 단어를 특성 벡터로 변환 "
   ]
  },
  {
   "cell_type": "markdown",
   "metadata": {
    "id": "bmEJ2BPtcyB-"
   },
   "source": [
    "CountVectorizer의 fit_transform 메서드를 호출하여 BoW 모델의 어휘사전을 만들고 다음 세 문장을 희소한 특성 벡터로 변환합니다:\n",
    "1. The sun is shining\n",
    "2. The weather is sweet\n",
    "3. The sun is shining, the weather is sweet, and one and one is two"
   ]
  },
  {
   "cell_type": "code",
   "execution_count": 12,
   "metadata": {
    "execution": {
     "iopub.execute_input": "2020-11-29T02:09:26.709618Z",
     "iopub.status.busy": "2020-11-29T02:09:26.708356Z",
     "iopub.status.idle": "2020-11-29T02:09:27.679938Z",
     "shell.execute_reply": "2020-11-29T02:09:27.681399Z"
    },
    "id": "Q5rK2FRicyB-"
   },
   "outputs": [],
   "source": [
    "import numpy as np\n",
    "from sklearn.feature_extraction.text import CountVectorizer\n",
    "\n",
    "count = CountVectorizer()\n",
    "docs = np.array([\n",
    "        'The sun is shining',\n",
    "        'The weather is sweet',\n",
    "        'The sun is shining, the weather is sweet, and one and one is two'])\n",
    "bag = count.fit_transform(docs)"
   ]
  },
  {
   "cell_type": "markdown",
   "metadata": {
    "id": "pgjoT97McyB-"
   },
   "source": [
    "어휘 사전의 내용을 출력해 보면 BoW 모델의 개념을 이해하는 데 도움이 됩니다:"
   ]
  },
  {
   "cell_type": "code",
   "execution_count": 13,
   "metadata": {
    "colab": {
     "base_uri": "https://localhost:8080/"
    },
    "execution": {
     "iopub.execute_input": "2020-11-29T02:09:27.690050Z",
     "iopub.status.busy": "2020-11-29T02:09:27.688421Z",
     "iopub.status.idle": "2020-11-29T02:09:27.693526Z",
     "shell.execute_reply": "2020-11-29T02:09:27.694396Z"
    },
    "id": "ZgYsyO_WcyB-",
    "outputId": "2407736c-f04b-4fca-b221-8d7d70c038f8"
   },
   "outputs": [
    {
     "name": "stdout",
     "output_type": "stream",
     "text": [
      "{'the': 6, 'sun': 4, 'is': 1, 'shining': 3, 'weather': 8, 'sweet': 5, 'and': 0, 'one': 2, 'two': 7}\n"
     ]
    }
   ],
   "source": [
    "print(count.vocabulary_)"
   ]
  },
  {
   "cell_type": "markdown",
   "metadata": {
    "id": "s4MkGIeccyB-"
   },
   "source": [
    "이전 결과에서 볼 수 있듯이 어휘 사전은 고유 단어와 정수 인덱스가 매핑된 파이썬 딕셔너리에 저장되어 있습니다. 그다음 만들어진 특성 벡터를 출력해 봅시다:"
   ]
  },
  {
   "cell_type": "markdown",
   "metadata": {
    "id": "LqefbeRYcyB_"
   },
   "source": [
    "특성 벡터의 각 인덱스는 CountVectorizer의 어휘 사전 딕셔너리에 저장된 정수 값에 해당됩니다. 예를 들어 인덱스 0에 있는 첫 번째 특성은 ‘and’ 단어의 카운트를 의미합니다. 이 단어는 마지막 문서에만 나타나네요. 인덱스 1에 있는 (특성 벡터의 두 번째 열) 단어 ‘is’는 세 문장에 모두 등장합니다. 특성 벡터의 이런 값들을 단어 빈도(term frequency) 라고도 부릅니다. 문서 d에 등장한 단어 t의 횟수를 *tf (t,d)*와 같이 씁니다."
   ]
  },
  {
   "cell_type": "code",
   "execution_count": 14,
   "metadata": {
    "colab": {
     "base_uri": "https://localhost:8080/"
    },
    "execution": {
     "iopub.execute_input": "2020-11-29T02:09:27.702907Z",
     "iopub.status.busy": "2020-11-29T02:09:27.701860Z",
     "iopub.status.idle": "2020-11-29T02:09:27.706981Z",
     "shell.execute_reply": "2020-11-29T02:09:27.707853Z"
    },
    "id": "mKbtk17XcyB_",
    "outputId": "7db21920-a4f3-4a7c-a44f-b72754071564"
   },
   "outputs": [
    {
     "name": "stdout",
     "output_type": "stream",
     "text": [
      "[[0 1 0 1 1 0 1 0 0]\n",
      " [0 1 0 0 0 1 1 0 1]\n",
      " [2 3 2 1 1 1 2 1 1]]\n"
     ]
    }
   ],
   "source": [
    "print(bag.toarray())"
   ]
  },
  {
   "cell_type": "markdown",
   "metadata": {
    "id": "7Gm1_TVecyB_"
   },
   "source": [
    "<br>"
   ]
  },
  {
   "cell_type": "markdown",
   "metadata": {
    "id": "FWOx1Z7_cyB_"
   },
   "source": [
    "## tf-idf를 사용하여 단어 적합성 평가 "
   ]
  },
  {
   "cell_type": "code",
   "execution_count": 15,
   "metadata": {
    "execution": {
     "iopub.execute_input": "2020-11-29T02:09:27.715807Z",
     "iopub.status.busy": "2020-11-29T02:09:27.714710Z",
     "iopub.status.idle": "2020-11-29T02:09:27.718179Z",
     "shell.execute_reply": "2020-11-29T02:09:27.719107Z"
    },
    "id": "6heXG7odcyB_"
   },
   "outputs": [],
   "source": [
    "np.set_printoptions(precision=2)"
   ]
  },
  {
   "cell_type": "markdown",
   "metadata": {
    "id": "tnWdHBptcyB_"
   },
   "source": [
    "텍스트 데이터를 분석할 때 클래스 레이블이 다른 문서에 같은 단어들이 나타나는 경우를 종종 보게 됩니다. 일반적으로 자주 등장하는 단어는 유용하거나 판별에 필요한 정보를 가지고 있지 않습니다. 이 절에서 특성 벡터에서 자주 등장하는 단어의 가중치를 낮추는 기법인 tf-idf(term frequency-inverse document frequency)에 대해 배우겠습니다. tf-idf는 단어 빈도와 역문서 빈도(inverse document frequency)의 곱으로 정의됩니다:\n",
    "\n",
    "$$\\text{tf-idf}(t,d)=\\text{tf (t,d)}\\times \\text{idf}(t,d)$$\n",
    "\n",
    "여기에서 tf(t, d)는 이전 절에서 보았던 단어 빈도입니다. *idf(t, d)*는 역문서 빈도로 다음과 같이 계산합니다:\n",
    "\n",
    "$$\\text{idf}(t,d) = \\text{log}\\frac{n_d}{1+\\text{df}(d, t)},$$\n",
    "\n",
    "여기에서 $n_d$는 전체 문서 개수이고 *df(d, t)*는 단어 t가 포함된 문서 d의 개수입니다. 분모에 상수 1을 추가하는 것은 선택 사항입니다. 훈련 샘플에 한 번도 등장하지 않는 단어가 있는 경우 분모가 0이 되지 않게 만듭니다. log는 문서 빈도 *df(d, t)*가 낮을 때 역문서 빈도 값이 너무 커지지 않도록 만듭니다.\n",
    "\n",
    "사이킷런 라이브러리에는 `CountVectorizer` 클래스에서 만든 단어 빈도를 입력받아 tf-idf로 변환하는 `TfidfTransformer` 클래스가 구현되어 있습니다:"
   ]
  },
  {
   "cell_type": "code",
   "execution_count": 16,
   "metadata": {
    "colab": {
     "base_uri": "https://localhost:8080/"
    },
    "execution": {
     "iopub.execute_input": "2020-11-29T02:09:27.732931Z",
     "iopub.status.busy": "2020-11-29T02:09:27.731709Z",
     "iopub.status.idle": "2020-11-29T02:09:27.736758Z",
     "shell.execute_reply": "2020-11-29T02:09:27.737773Z"
    },
    "id": "397IiqLvcyB_",
    "outputId": "cb8a5874-4077-4310-c96d-ce3fe43177d7"
   },
   "outputs": [
    {
     "name": "stdout",
     "output_type": "stream",
     "text": [
      "[[0.   0.43 0.   0.56 0.56 0.   0.43 0.   0.  ]\n",
      " [0.   0.43 0.   0.   0.   0.56 0.43 0.   0.56]\n",
      " [0.5  0.45 0.5  0.19 0.19 0.19 0.3  0.25 0.19]]\n"
     ]
    }
   ],
   "source": [
    "from sklearn.feature_extraction.text import TfidfTransformer\n",
    "\n",
    "tfidf = TfidfTransformer(use_idf=True, \n",
    "                         norm='l2', \n",
    "                         smooth_idf=True)\n",
    "print(tfidf.fit_transform(count.fit_transform(docs))\n",
    "      .toarray())"
   ]
  },
  {
   "cell_type": "markdown",
   "metadata": {
    "id": "UyUxVvv-cyCA"
   },
   "source": [
    "이전 절에서 보았듯이 세 번째 문서에서 단어 ‘is’가 가장 많이 나타났기 때문에 단어 빈도가 가장 컸습니다. 동일한 특성 벡터를 tf-idf로 변환하면 단어 ‘is’는 비교적 작은 tf-idf를 가집니다(0.45). 이 단어는 첫 번째와 두 번째 문서에도 나타나므로 판별에 유용한 정보를 가지고 있지 않을 것입니다."
   ]
  },
  {
   "cell_type": "markdown",
   "metadata": {
    "id": "U9h-50XUcyCA"
   },
   "source": [
    "수동으로 특성 벡터에 있는 각 단어의 tf-idf를 계산해 보면 `TfidfTransformer`가 앞서 정의한 표준 tf-idf 공식과 조금 다르게 계산한다는 것을 알 수 있습니다. 사이킷런에 구현된 역문서 빈도 공식은 다음과 같습니다."
   ]
  },
  {
   "cell_type": "markdown",
   "metadata": {
    "id": "UuC9xxiTcyCA"
   },
   "source": [
    "$$\\text{idf} (t,d) = log\\frac{1 + n_d}{1 + \\text{df}(d, t)}$$\n",
    "\n",
    "비슷하게 사이킷런에서 계산하는 tf-idf는 앞서 정의한 공식과 조금 다릅니다:\n",
    "\n",
    "$$\\text{tf-idf}(t,d) = \\text{tf}(t,d) \\times (\\text{idf}(t,d)+1)$$\n",
    "\n",
    "일반적으로 tf-idf를 계산하기 전에 단어 빈도(tf)를 정규화하지만 `TfidfTransformer` 클래스는 tf-idf를 직접 정규화합니다. 사이킷런의 `TfidfTransformer`는 기본적으로 L2 정규화를 적용합니다(norm=’l2’). 정규화되지 않은 특성 벡터 v를 L2-노름으로 나누면 길이가 1인 벡터가 반환됩니다:\n",
    "\n",
    "$$v_{\\text{norm}} = \\frac{v}{||v||_2} = \\frac{v}{\\sqrt{v_{1}^{2} + v_{2}^{2} + \\dots + v_{n}^{2}}} = \\frac{v}{\\big (\\sum_{i=1}^{n} v_{i}^{2}\\big)^\\frac{1}{2}}$$\n",
    "\n",
    "TfidfTransformer의 작동 원리를 이해하기 위해 세 번째 문서에 있는 단어 ‘is'의 tf-idf를 예로 들어 계산해 보죠.\n",
    "\n",
    "세 번째 문서에서 단어 ‘is’의 단어 빈도는 3입니다(tf=3). 이 단어는 세 개 문서에 모두 나타나기 때문에 문서 빈도가 3입니다(df=3). 따라서 역문서 빈도는 다음과 같이 계산됩니다:\n",
    "\n",
    "$$\\text{idf}(\"is\", d3) = log \\frac{1+3}{1+3} = 0$$\n",
    "\n",
    "이제 tf-idf를 계산하기 위해 역문서 빈도에 1을 더하고 단어 빈도를 곱합니다:\n",
    "\n",
    "$$\\text{tf-idf}(\"is\",d3)= 3 \\times (0+1) = 3$$"
   ]
  },
  {
   "cell_type": "code",
   "execution_count": 17,
   "metadata": {
    "colab": {
     "base_uri": "https://localhost:8080/"
    },
    "execution": {
     "iopub.execute_input": "2020-11-29T02:09:27.747622Z",
     "iopub.status.busy": "2020-11-29T02:09:27.746361Z",
     "iopub.status.idle": "2020-11-29T02:09:27.750719Z",
     "shell.execute_reply": "2020-11-29T02:09:27.751634Z"
    },
    "id": "DuhA5F0mcyCA",
    "outputId": "650e7083-3a4d-4790-8bb1-a4bcc5a6fc0e"
   },
   "outputs": [
    {
     "name": "stdout",
     "output_type": "stream",
     "text": [
      "tf-idf of term \"is\" = 3.00\n"
     ]
    }
   ],
   "source": [
    "tf_is = 3\n",
    "n_docs = 3\n",
    "idf_is = np.log((n_docs+1) / (3+1))\n",
    "tfidf_is = tf_is * (idf_is + 1)\n",
    "print('tf-idf of term \"is\" = %.2f' % tfidf_is)"
   ]
  },
  {
   "cell_type": "markdown",
   "metadata": {
    "id": "p3sEX98ocyCA"
   },
   "source": [
    "세 번째 문서에 있는 모든 단어에 대해 이런 계산을 반복하면 tf-idf 벡터 [3.39, 3.0, 3.39, 1.29, 1.29, 1.29, 2.0, 1.69, 1.29]를 얻습니다. 이 특성 벡터의 값은 앞서 사용했던 TfidfTransformer에서 얻은 값과 다릅니다. tf-idf 계산에서 빠트린 마지막 단계는 다음과 같은 L2-정규화입니다::"
   ]
  },
  {
   "cell_type": "markdown",
   "metadata": {
    "id": "hrFAsgmdcyCA"
   },
   "source": [
    "$$\\text{tfi-df}_{norm} = \\frac{[3.39, 3.0, 3.39, 1.29, 1.29, 1.29, 2.0 , 1.69, 1.29]}{\\sqrt{[3.39^2, 3.0^2, 3.39^2, 1.29^2, 1.29^2, 1.29^2, 2.0^2 , 1.69^2, 1.29^2]}}$$\n",
    "\n",
    "$$=[0.5, 0.45, 0.5, 0.19, 0.19, 0.19, 0.3, 0.25, 0.19]$$\n",
    "\n",
    "$$\\Rightarrow \\text{tfi-df}_{norm}(\"is\", d3) = 0.45$$"
   ]
  },
  {
   "cell_type": "markdown",
   "metadata": {
    "id": "WL6MVgwPcyCA"
   },
   "source": [
    "결과에서 보듯이 사이킷런의 `TfidfTransformer`에서 반환된 결과와 같아졌습니다. tf-idf 계산 방법을 이해했으므로 다음 절로 넘어가 이 개념을 영화 리뷰 데이터셋에 적용해 보죠."
   ]
  },
  {
   "cell_type": "code",
   "execution_count": 18,
   "metadata": {
    "colab": {
     "base_uri": "https://localhost:8080/"
    },
    "execution": {
     "iopub.execute_input": "2020-11-29T02:09:27.765015Z",
     "iopub.status.busy": "2020-11-29T02:09:27.763529Z",
     "iopub.status.idle": "2020-11-29T02:09:27.768549Z",
     "shell.execute_reply": "2020-11-29T02:09:27.769782Z"
    },
    "id": "0MJlrxXJcyCB",
    "outputId": "de20970c-7dc2-4620-bec0-5e1ac6099039"
   },
   "outputs": [
    {
     "data": {
      "text/plain": [
       "array([3.39, 3.  , 3.39, 1.29, 1.29, 1.29, 2.  , 1.69, 1.29])"
      ]
     },
     "execution_count": 18,
     "metadata": {
      "tags": []
     },
     "output_type": "execute_result"
    }
   ],
   "source": [
    "tfidf = TfidfTransformer(use_idf=True, norm=None, smooth_idf=True)\n",
    "raw_tfidf = tfidf.fit_transform(count.fit_transform(docs)).toarray()[-1]\n",
    "raw_tfidf "
   ]
  },
  {
   "cell_type": "code",
   "execution_count": 19,
   "metadata": {
    "colab": {
     "base_uri": "https://localhost:8080/"
    },
    "execution": {
     "iopub.execute_input": "2020-11-29T02:09:27.778624Z",
     "iopub.status.busy": "2020-11-29T02:09:27.777572Z",
     "iopub.status.idle": "2020-11-29T02:09:27.782388Z",
     "shell.execute_reply": "2020-11-29T02:09:27.781487Z"
    },
    "id": "aIJOmCCTcyCB",
    "outputId": "4dbb1f12-a549-4602-b511-142351fc62b5"
   },
   "outputs": [
    {
     "data": {
      "text/plain": [
       "array([0.5 , 0.45, 0.5 , 0.19, 0.19, 0.19, 0.3 , 0.25, 0.19])"
      ]
     },
     "execution_count": 19,
     "metadata": {
      "tags": []
     },
     "output_type": "execute_result"
    }
   ],
   "source": [
    "l2_tfidf = raw_tfidf / np.sqrt(np.sum(raw_tfidf**2))\n",
    "l2_tfidf"
   ]
  },
  {
   "cell_type": "markdown",
   "metadata": {
    "id": "yREuvKk8cyCB"
   },
   "source": [
    "<br>"
   ]
  },
  {
   "cell_type": "markdown",
   "metadata": {
    "id": "qY754xCtcyCB"
   },
   "source": [
    "## 텍스트 데이터 정제 "
   ]
  },
  {
   "cell_type": "code",
   "execution_count": 20,
   "metadata": {
    "colab": {
     "base_uri": "https://localhost:8080/",
     "height": 35
    },
    "execution": {
     "iopub.execute_input": "2020-11-29T02:09:27.790091Z",
     "iopub.status.busy": "2020-11-29T02:09:27.788987Z",
     "iopub.status.idle": "2020-11-29T02:09:27.796464Z",
     "shell.execute_reply": "2020-11-29T02:09:27.795545Z"
    },
    "id": "N6mpkSpEcyCB",
    "outputId": "73325eb5-4c94-4e01-b7d7-169942e27b2a"
   },
   "outputs": [
    {
     "data": {
      "application/vnd.google.colaboratory.intrinsic+json": {
       "type": "string"
      },
      "text/plain": [
       "'is seven.<br /><br />Title (Brazil): Not Available'"
      ]
     },
     "execution_count": 20,
     "metadata": {
      "tags": []
     },
     "output_type": "execute_result"
    }
   ],
   "source": [
    "df.loc[0, 'review'][-50:]"
   ]
  },
  {
   "cell_type": "code",
   "execution_count": 21,
   "metadata": {
    "execution": {
     "iopub.execute_input": "2020-11-29T02:09:27.806756Z",
     "iopub.status.busy": "2020-11-29T02:09:27.805641Z",
     "iopub.status.idle": "2020-11-29T02:09:27.809167Z",
     "shell.execute_reply": "2020-11-29T02:09:27.810100Z"
    },
    "id": "COv5qDRwcyCB"
   },
   "outputs": [],
   "source": [
    "import re\n",
    "def preprocessor(text):\n",
    "    text = re.sub('<[^>]*>', '', text)\n",
    "    emoticons = re.findall('(?::|;|=)(?:-)?(?:\\)|\\(|D|P)',\n",
    "                           text)\n",
    "    text = (re.sub('[\\W]+', ' ', text.lower()) +\n",
    "            ' '.join(emoticons).replace('-', ''))\n",
    "    return text"
   ]
  },
  {
   "cell_type": "code",
   "execution_count": 22,
   "metadata": {
    "colab": {
     "base_uri": "https://localhost:8080/",
     "height": 35
    },
    "execution": {
     "iopub.execute_input": "2020-11-29T02:09:27.819214Z",
     "iopub.status.busy": "2020-11-29T02:09:27.818033Z",
     "iopub.status.idle": "2020-11-29T02:09:27.823869Z",
     "shell.execute_reply": "2020-11-29T02:09:27.822893Z"
    },
    "id": "kvJb2z2wcyCC",
    "outputId": "b9a21cd2-8796-423a-fbb2-0ab50cbce0c4"
   },
   "outputs": [
    {
     "data": {
      "application/vnd.google.colaboratory.intrinsic+json": {
       "type": "string"
      },
      "text/plain": [
       "'is seven title brazil not available'"
      ]
     },
     "execution_count": 22,
     "metadata": {
      "tags": []
     },
     "output_type": "execute_result"
    }
   ],
   "source": [
    "preprocessor(df.loc[0, 'review'][-50:])"
   ]
  },
  {
   "cell_type": "code",
   "execution_count": 23,
   "metadata": {
    "colab": {
     "base_uri": "https://localhost:8080/",
     "height": 35
    },
    "execution": {
     "iopub.execute_input": "2020-11-29T02:09:27.832083Z",
     "iopub.status.busy": "2020-11-29T02:09:27.830486Z",
     "iopub.status.idle": "2020-11-29T02:09:27.834842Z",
     "shell.execute_reply": "2020-11-29T02:09:27.835762Z"
    },
    "id": "92Bvy1TWcyCC",
    "outputId": "9820e2d7-4b83-47f1-a2d8-db874991cf90"
   },
   "outputs": [
    {
     "data": {
      "application/vnd.google.colaboratory.intrinsic+json": {
       "type": "string"
      },
      "text/plain": [
       "'this is a test :) :( :)'"
      ]
     },
     "execution_count": 23,
     "metadata": {
      "tags": []
     },
     "output_type": "execute_result"
    }
   ],
   "source": [
    "preprocessor(\"</a>This :) is :( a test :-)!\")"
   ]
  },
  {
   "cell_type": "code",
   "execution_count": 24,
   "metadata": {
    "execution": {
     "iopub.execute_input": "2020-11-29T02:09:27.848637Z",
     "iopub.status.busy": "2020-11-29T02:09:27.843321Z",
     "iopub.status.idle": "2020-11-29T02:09:36.216680Z",
     "shell.execute_reply": "2020-11-29T02:09:36.215092Z"
    },
    "id": "j_jzzuN8cyCC"
   },
   "outputs": [],
   "source": [
    "df['review'] = df['review'].apply(preprocessor)"
   ]
  },
  {
   "cell_type": "markdown",
   "metadata": {
    "id": "6IG2tpmUcyCC"
   },
   "source": [
    "<br>"
   ]
  },
  {
   "cell_type": "markdown",
   "metadata": {
    "id": "i_r0KbbWcyCC"
   },
   "source": [
    "## 문서를 토큰으로 나누기 "
   ]
  },
  {
   "cell_type": "code",
   "execution_count": 25,
   "metadata": {
    "execution": {
     "iopub.execute_input": "2020-11-29T02:09:36.226069Z",
     "iopub.status.busy": "2020-11-29T02:09:36.224474Z",
     "iopub.status.idle": "2020-11-29T02:09:36.508684Z",
     "shell.execute_reply": "2020-11-29T02:09:36.510116Z"
    },
    "id": "kLpd983UcyCC"
   },
   "outputs": [],
   "source": [
    "from nltk.stem.porter import PorterStemmer\n",
    "\n",
    "porter = PorterStemmer()\n",
    "\n",
    "def tokenizer(text):\n",
    "    return text.split()\n",
    "\n",
    "\n",
    "def tokenizer_porter(text):\n",
    "    return [porter.stem(word) for word in text.split()]"
   ]
  },
  {
   "cell_type": "code",
   "execution_count": 26,
   "metadata": {
    "colab": {
     "base_uri": "https://localhost:8080/"
    },
    "execution": {
     "iopub.execute_input": "2020-11-29T02:09:36.532063Z",
     "iopub.status.busy": "2020-11-29T02:09:36.530340Z",
     "iopub.status.idle": "2020-11-29T02:09:36.536666Z",
     "shell.execute_reply": "2020-11-29T02:09:36.535499Z"
    },
    "id": "Ol5jOif8cyCC",
    "outputId": "3cac6fb7-2c80-44d8-f882-5262acc5ec3b"
   },
   "outputs": [
    {
     "data": {
      "text/plain": [
       "['runners', 'like', 'running', 'and', 'thus', 'they', 'run']"
      ]
     },
     "execution_count": 26,
     "metadata": {
      "tags": []
     },
     "output_type": "execute_result"
    }
   ],
   "source": [
    "tokenizer('runners like running and thus they run')"
   ]
  },
  {
   "cell_type": "code",
   "execution_count": 27,
   "metadata": {
    "colab": {
     "base_uri": "https://localhost:8080/"
    },
    "execution": {
     "iopub.execute_input": "2020-11-29T02:09:36.543200Z",
     "iopub.status.busy": "2020-11-29T02:09:36.541874Z",
     "iopub.status.idle": "2020-11-29T02:09:36.546104Z",
     "shell.execute_reply": "2020-11-29T02:09:36.546909Z"
    },
    "id": "fF_2aZy4cyCD",
    "outputId": "0756c645-1314-463d-e9b8-6e7ab93ed0e7"
   },
   "outputs": [
    {
     "data": {
      "text/plain": [
       "['runner', 'like', 'run', 'and', 'thu', 'they', 'run']"
      ]
     },
     "execution_count": 27,
     "metadata": {
      "tags": []
     },
     "output_type": "execute_result"
    }
   ],
   "source": [
    "tokenizer_porter('runners like running and thus they run')"
   ]
  },
  {
   "cell_type": "code",
   "execution_count": 28,
   "metadata": {
    "colab": {
     "base_uri": "https://localhost:8080/"
    },
    "execution": {
     "iopub.execute_input": "2020-11-29T02:09:36.556629Z",
     "iopub.status.busy": "2020-11-29T02:09:36.555666Z",
     "iopub.status.idle": "2020-11-29T02:09:37.069909Z",
     "shell.execute_reply": "2020-11-29T02:09:37.070902Z"
    },
    "id": "AokNRHlgcyCD",
    "outputId": "bc350ff2-dc5f-4b49-9231-a05ff3e758ff"
   },
   "outputs": [
    {
     "name": "stdout",
     "output_type": "stream",
     "text": [
      "[nltk_data] Downloading package stopwords to /root/nltk_data...\n",
      "[nltk_data]   Unzipping corpora/stopwords.zip.\n"
     ]
    },
    {
     "data": {
      "text/plain": [
       "True"
      ]
     },
     "execution_count": 28,
     "metadata": {
      "tags": []
     },
     "output_type": "execute_result"
    }
   ],
   "source": [
    "import nltk\n",
    "\n",
    "nltk.download('stopwords')"
   ]
  },
  {
   "cell_type": "code",
   "execution_count": 29,
   "metadata": {
    "colab": {
     "base_uri": "https://localhost:8080/"
    },
    "execution": {
     "iopub.execute_input": "2020-11-29T02:09:37.080151Z",
     "iopub.status.busy": "2020-11-29T02:09:37.078889Z",
     "iopub.status.idle": "2020-11-29T02:09:37.086509Z",
     "shell.execute_reply": "2020-11-29T02:09:37.087384Z"
    },
    "id": "9nnbYs76cyCD",
    "outputId": "58dea70d-8158-421d-eb08-0f9ef49906c8"
   },
   "outputs": [
    {
     "data": {
      "text/plain": [
       "['runner', 'like', 'run', 'run', 'lot']"
      ]
     },
     "execution_count": 29,
     "metadata": {
      "tags": []
     },
     "output_type": "execute_result"
    }
   ],
   "source": [
    "from nltk.corpus import stopwords\n",
    "\n",
    "stop = stopwords.words('english')\n",
    "[w for w in tokenizer_porter('a runner likes running and runs a lot')[-10:]\n",
    "if w not in stop]"
   ]
  },
  {
   "cell_type": "markdown",
   "metadata": {
    "id": "TTNaG1HgcyCD"
   },
   "source": [
    "<br>\n",
    "<br>"
   ]
  },
  {
   "cell_type": "markdown",
   "metadata": {
    "id": "Z-9h1iZPcyCD"
   },
   "source": [
    "# 문서 분류를 위한 로지스틱 회귀 모델 훈련 "
   ]
  },
  {
   "cell_type": "markdown",
   "metadata": {
    "id": "LxZR-OXGcyCD"
   },
   "source": [
    "GridSearch 속도를 높이기 위해 HTML과 구두점을 삭제합니다:"
   ]
  },
  {
   "cell_type": "code",
   "execution_count": 30,
   "metadata": {
    "execution": {
     "iopub.execute_input": "2020-11-29T02:09:37.098693Z",
     "iopub.status.busy": "2020-11-29T02:09:37.097433Z",
     "iopub.status.idle": "2020-11-29T02:09:37.101798Z",
     "shell.execute_reply": "2020-11-29T02:09:37.100690Z"
    },
    "id": "D82QePVRcyCD"
   },
   "outputs": [],
   "source": [
    "X_train = df.loc[:25000, 'review'].values\n",
    "y_train = df.loc[:25000, 'sentiment'].values\n",
    "X_test = df.loc[25000:, 'review'].values\n",
    "y_test = df.loc[25000:, 'sentiment'].values"
   ]
  },
  {
   "cell_type": "code",
   "execution_count": 31,
   "metadata": {
    "execution": {
     "iopub.execute_input": "2020-11-29T02:09:37.120637Z",
     "iopub.status.busy": "2020-11-29T02:09:37.118361Z",
     "iopub.status.idle": "2020-11-29T02:09:37.124213Z",
     "shell.execute_reply": "2020-11-29T02:09:37.125310Z"
    },
    "id": "R-hUDykscyCE"
   },
   "outputs": [],
   "source": [
    "from sklearn.pipeline import Pipeline\n",
    "from sklearn.linear_model import LogisticRegression\n",
    "from sklearn.feature_extraction.text import TfidfVectorizer\n",
    "from sklearn.model_selection import GridSearchCV\n",
    "\n",
    "tfidf = TfidfVectorizer(strip_accents=None,\n",
    "                        lowercase=False,\n",
    "                        preprocessor=None)\n",
    "\n",
    "param_grid = [{'vect__ngram_range': [(1, 1)],\n",
    "               'vect__stop_words': [stop, None],\n",
    "               'vect__tokenizer': [tokenizer, tokenizer_porter],\n",
    "               'clf__penalty': ['l1', 'l2'],\n",
    "               'clf__C': [1.0, 10.0, 100.0]},\n",
    "              {'vect__ngram_range': [(1, 1)],\n",
    "               'vect__stop_words': [stop, None],\n",
    "               'vect__tokenizer': [tokenizer, tokenizer_porter],\n",
    "               'vect__use_idf':[False],\n",
    "               'vect__norm':[None],\n",
    "               'clf__penalty': ['l1', 'l2'],\n",
    "               'clf__C': [1.0, 10.0, 100.0]},\n",
    "              ]\n",
    "\n",
    "lr_tfidf = Pipeline([('vect', tfidf),\n",
    "                     ('clf', LogisticRegression(random_state=0, solver='liblinear'))])\n",
    "\n",
    "gs_lr_tfidf = GridSearchCV(lr_tfidf, param_grid,\n",
    "                           scoring='accuracy',\n",
    "                           cv=5,\n",
    "                           n_jobs=-1)"
   ]
  },
  {
   "cell_type": "markdown",
   "metadata": {
    "id": "O6lOUGvwcyCE"
   },
   "source": [
    "**`n_jobs` 매개변수에 대하여**\n",
    "\n",
    "앞의 코드 예제에서 컴퓨터에 있는 모든 CPU 코어를 사용해 그리드 서치의 속도를 높이려면 (`n_jobs=1` 대신) `n_jobs=-1`로 지정하는 것이 좋습니다. 일부 시스템에서는 멀티프로세싱을 위해 `n_jobs=-1`로 지정할 때 `tokenizer` 와 `tokenizer_porter` 함수의 직렬화에 문제가 발생할 수 있습니다. 이런 경우 `[tokenizer, tokenizer_porter]`를 `[str.split]`로 바꾸어 문제를 해결할 수 있습니다. 다만 `str.split`로 바꾸면 어간 추출을 하지 못합니다."
   ]
  },
  {
   "cell_type": "markdown",
   "metadata": {
    "id": "4urLkAyGcyCE"
   },
   "source": [
    "**코드 실행 시간에 대하여**\n",
    "\n",
    "다음 코드 셀을 실행하면 시스템에 따라 **30~60분 정도 걸릴 수 있습니다**. 매개변수 그리드에서 정의한 대로 2*2*2*3*5 + 2*2*2*3*5 = 240개의 모델을 훈련하기 때문입니다.\n",
    "\n",
    "**코랩을 사용할 경우에도 CPU 코어가 많지 않기 때문에 실행 시간이 오래 걸릴 수 있습니다.**\n",
    "\n",
    "너무 오래 기다리기 어렵다면 데이터셋의 훈련 샘플의 수를 다음처럼 줄일 수 있습니다:\n",
    "\n",
    "    X_train = df.loc[:2500, 'review'].values\n",
    "    y_train = df.loc[:2500, 'sentiment'].values\n",
    "    \n",
    "훈련 세트 크기를 줄이는 것은 모델 성능을 감소시킵니다. 그리드에 지정한 매개변수를 삭제하면 훈련한 모델 수를 줄일 수 있습니다. 예를 들면 다음과 같습니다:\n",
    "\n",
    "    param_grid = [{'vect__ngram_range': [(1, 1)],\n",
    "                   'vect__stop_words': [stop, None],\n",
    "                   'vect__tokenizer': [tokenizer],\n",
    "                   'clf__penalty': ['l1', 'l2'],\n",
    "                   'clf__C': [1.0, 10.0]},\n",
    "                  ]"
   ]
  },
  {
   "cell_type": "code",
   "execution_count": 32,
   "metadata": {
    "colab": {
     "base_uri": "https://localhost:8080/"
    },
    "execution": {
     "iopub.execute_input": "2020-11-29T02:09:37.133697Z",
     "iopub.status.busy": "2020-11-29T02:09:37.132396Z",
     "iopub.status.idle": "2020-11-29T07:04:52.232879Z",
     "shell.execute_reply": "2020-11-29T07:04:52.233449Z"
    },
    "id": "VUm_76rGcyCE",
    "outputId": "fecc2b19-5da3-41bc-eb18-f724eb93133f"
   },
   "outputs": [
    {
     "data": {
      "text/plain": [
       "GridSearchCV(cv=5,\n",
       "             estimator=Pipeline(steps=[('vect',\n",
       "                                        TfidfVectorizer(lowercase=False)),\n",
       "                                       ('clf',\n",
       "                                        LogisticRegression(random_state=0,\n",
       "                                                           solver='liblinear'))]),\n",
       "             n_jobs=-1,\n",
       "             param_grid=[{'clf__C': [1.0, 10.0, 100.0],\n",
       "                          'clf__penalty': ['l1', 'l2'],\n",
       "                          'vect__ngram_range': [(1, 1)],\n",
       "                          'vect__stop_words': [['i', 'me', 'my', 'myself', 'we',\n",
       "                                                'our', 'ours', 'ourselves',\n",
       "                                                'you', \"you're\", \"you've...\n",
       "                                                'our', 'ours', 'ourselves',\n",
       "                                                'you', \"you're\", \"you've\",\n",
       "                                                \"you'll\", \"you'd\", 'your',\n",
       "                                                'yours', 'yourself',\n",
       "                                                'yourselves', 'he', 'him',\n",
       "                                                'his', 'himself', 'she',\n",
       "                                                \"she's\", 'her', 'hers',\n",
       "                                                'herself', 'it', \"it's\", 'its',\n",
       "                                                'itself', ...],\n",
       "                                               None],\n",
       "                          'vect__tokenizer': [<function tokenizer at 0x7f0be1757598>,\n",
       "                                              <function tokenizer_porter at 0x7f0be1757620>],\n",
       "                          'vect__use_idf': [False]}],\n",
       "             scoring='accuracy')"
      ]
     },
     "execution_count": 32,
     "metadata": {
      "tags": []
     },
     "output_type": "execute_result"
    }
   ],
   "source": [
    "gs_lr_tfidf.fit(X_train, y_train)"
   ]
  },
  {
   "cell_type": "code",
   "execution_count": 33,
   "metadata": {
    "colab": {
     "base_uri": "https://localhost:8080/"
    },
    "execution": {
     "iopub.execute_input": "2020-11-29T07:04:52.237177Z",
     "iopub.status.busy": "2020-11-29T07:04:52.236114Z",
     "iopub.status.idle": "2020-11-29T07:04:52.242314Z",
     "shell.execute_reply": "2020-11-29T07:04:52.243138Z"
    },
    "id": "jS5WP6zEcyCF",
    "outputId": "980c9566-ac51-47b3-c7b1-9339afbecff6"
   },
   "outputs": [
    {
     "name": "stdout",
     "output_type": "stream",
     "text": [
      "최적의 매개변수 조합: {'clf__C': 10.0, 'clf__penalty': 'l2', 'vect__ngram_range': (1, 1), 'vect__stop_words': None, 'vect__tokenizer': <function tokenizer at 0x7f0be1757598>} \n",
      "CV 정확도: 0.897\n"
     ]
    }
   ],
   "source": [
    "print('최적의 매개변수 조합: %s ' % gs_lr_tfidf.best_params_)\n",
    "print('CV 정확도: %.3f' % gs_lr_tfidf.best_score_)"
   ]
  },
  {
   "cell_type": "code",
   "execution_count": 34,
   "metadata": {
    "colab": {
     "base_uri": "https://localhost:8080/"
    },
    "execution": {
     "iopub.execute_input": "2020-11-29T07:04:52.248561Z",
     "iopub.status.busy": "2020-11-29T07:04:52.246813Z",
     "iopub.status.idle": "2020-11-29T07:04:55.634994Z",
     "shell.execute_reply": "2020-11-29T07:04:55.633567Z"
    },
    "id": "L9UElDZpcyCF",
    "outputId": "5f2e8dfc-ff9e-4ce0-ceff-a5ea6192b841"
   },
   "outputs": [
    {
     "name": "stdout",
     "output_type": "stream",
     "text": [
      "테스트 정확도: 0.899\n"
     ]
    }
   ],
   "source": [
    "clf = gs_lr_tfidf.best_estimator_\n",
    "print('테스트 정확도: %.3f' % clf.score(X_test, y_test))"
   ]
  },
  {
   "cell_type": "markdown",
   "metadata": {
    "id": "LoTPCB5YcyCF"
   },
   "source": [
    "<hr>\n",
    "<hr>"
   ]
  },
  {
   "cell_type": "markdown",
   "metadata": {
    "id": "3PlVtolxcyCF"
   },
   "source": [
    "####  주석 시작:\n",
    "    \n",
    "Please note that `gs_lr_tfidf.best_score_` is the average k-fold cross-validation score. I.e., if we have a `GridSearchCV` object with 5-fold cross-validation (like the one above), the `best_score_` attribute returns the average score over the 5-folds of the best model. To illustrate this with an example:"
   ]
  },
  {
   "cell_type": "code",
   "execution_count": 35,
   "metadata": {
    "colab": {
     "base_uri": "https://localhost:8080/"
    },
    "execution": {
     "iopub.execute_input": "2020-11-29T07:04:55.660657Z",
     "iopub.status.busy": "2020-11-29T07:04:55.652658Z",
     "iopub.status.idle": "2020-11-29T07:04:55.715795Z",
     "shell.execute_reply": "2020-11-29T07:04:55.716880Z"
    },
    "id": "dqnaINsIcyCF",
    "outputId": "b551adb8-9d87-4c93-c3ae-19c41e76bd45"
   },
   "outputs": [
    {
     "data": {
      "text/plain": [
       "array([0.4, 0.2, 0.6, 0.2, 0.4])"
      ]
     },
     "execution_count": 35,
     "metadata": {
      "tags": []
     },
     "output_type": "execute_result"
    }
   ],
   "source": [
    "from sklearn.linear_model import LogisticRegression\n",
    "import numpy as np\n",
    "\n",
    "from sklearn.model_selection import StratifiedKFold\n",
    "from sklearn.model_selection import cross_val_score\n",
    "\n",
    "np.random.seed(0)\n",
    "np.set_printoptions(precision=6)\n",
    "y = [np.random.randint(3) for i in range(25)]\n",
    "X = (y + np.random.randn(25)).reshape(-1, 1)\n",
    "\n",
    "cv5_idx = list(StratifiedKFold(n_splits=5, shuffle=False).split(X, y))\n",
    "    \n",
    "lr = LogisticRegression(random_state=123, multi_class='ovr', solver='lbfgs')\n",
    "cross_val_score(lr, X, y, cv=cv5_idx)"
   ]
  },
  {
   "cell_type": "markdown",
   "metadata": {
    "id": "_Y0TYRZFcyCG"
   },
   "source": [
    "By executing the code above, we created a simple data set of random integers that shall represent our class labels. Next, we fed the indices of 5 cross-validation folds (`cv3_idx`) to the `cross_val_score` scorer, which returned 5 accuracy scores -- these are the 5 accuracy values for the 5 test folds.  \n",
    "\n",
    "Next, let us use the `GridSearchCV` object and feed it the same 5 cross-validation sets (via the pre-generated `cv3_idx` indices):"
   ]
  },
  {
   "cell_type": "code",
   "execution_count": 36,
   "metadata": {
    "colab": {
     "base_uri": "https://localhost:8080/"
    },
    "execution": {
     "iopub.execute_input": "2020-11-29T07:04:55.756860Z",
     "iopub.status.busy": "2020-11-29T07:04:55.743680Z",
     "iopub.status.idle": "2020-11-29T07:04:55.806493Z",
     "shell.execute_reply": "2020-11-29T07:04:55.807613Z"
    },
    "id": "ieGoMTv5cyCG",
    "outputId": "4d76e498-e554-4d0e-8128-abec6ef666bb"
   },
   "outputs": [
    {
     "name": "stdout",
     "output_type": "stream",
     "text": [
      "Fitting 5 folds for each of 1 candidates, totalling 5 fits\n",
      "[CV 1/5] END ................................................ total time=   0.0s\n",
      "[CV 2/5] END ................................................ total time=   0.0s\n",
      "[CV 3/5] END ................................................ total time=   0.0s\n",
      "[CV 4/5] END ................................................ total time=   0.0s\n",
      "[CV 5/5] END ................................................ total time=   0.0s\n"
     ]
    }
   ],
   "source": [
    "from sklearn.model_selection import GridSearchCV\n",
    "\n",
    "lr = LogisticRegression(solver='lbfgs', multi_class='ovr', random_state=1)\n",
    "gs = GridSearchCV(lr, {}, cv=cv5_idx, verbose=3).fit(X, y) "
   ]
  },
  {
   "cell_type": "markdown",
   "metadata": {
    "id": "7CSWJmkkcyCG"
   },
   "source": [
    "As we can see, the scores for the 5 folds are exactly the same as the ones from `cross_val_score` earlier."
   ]
  },
  {
   "cell_type": "markdown",
   "metadata": {
    "id": "TWOgOEI7cyCG"
   },
   "source": [
    "Now, the best_score_ attribute of the `GridSearchCV` object, which becomes available after `fit`ting, returns the average accuracy score of the best model:"
   ]
  },
  {
   "cell_type": "code",
   "execution_count": 37,
   "metadata": {
    "colab": {
     "base_uri": "https://localhost:8080/"
    },
    "execution": {
     "iopub.execute_input": "2020-11-29T07:04:55.815606Z",
     "iopub.status.busy": "2020-11-29T07:04:55.814263Z",
     "iopub.status.idle": "2020-11-29T07:04:55.818472Z",
     "shell.execute_reply": "2020-11-29T07:04:55.819333Z"
    },
    "id": "KMQFOhwScyCG",
    "outputId": "90f37abf-b65e-4144-d54b-f07449296ee8"
   },
   "outputs": [
    {
     "data": {
      "text/plain": [
       "0.36000000000000004"
      ]
     },
     "execution_count": 37,
     "metadata": {
      "tags": []
     },
     "output_type": "execute_result"
    }
   ],
   "source": [
    "gs.best_score_"
   ]
  },
  {
   "cell_type": "markdown",
   "metadata": {
    "id": "uMEbcfN0cyCG"
   },
   "source": [
    "As we can see, the result above is consistent with the average score computed the `cross_val_score`."
   ]
  },
  {
   "cell_type": "code",
   "execution_count": 38,
   "metadata": {
    "colab": {
     "base_uri": "https://localhost:8080/"
    },
    "execution": {
     "iopub.execute_input": "2020-11-29T07:04:55.843188Z",
     "iopub.status.busy": "2020-11-29T07:04:55.836032Z",
     "iopub.status.idle": "2020-11-29T07:04:55.889182Z",
     "shell.execute_reply": "2020-11-29T07:04:55.890531Z"
    },
    "id": "UwWre_ZocyCH",
    "outputId": "018e35eb-d7bf-423c-e17c-c8fa02906388"
   },
   "outputs": [
    {
     "data": {
      "text/plain": [
       "0.36000000000000004"
      ]
     },
     "execution_count": 38,
     "metadata": {
      "tags": []
     },
     "output_type": "execute_result"
    }
   ],
   "source": [
    "lr = LogisticRegression(solver='lbfgs', multi_class='ovr', random_state=1)\n",
    "cross_val_score(lr, X, y, cv=cv5_idx).mean()"
   ]
  },
  {
   "cell_type": "markdown",
   "metadata": {
    "id": "TNKUcBuNcyCH"
   },
   "source": [
    "#### End comment.\n",
    "\n",
    "<hr>\n",
    "<hr>"
   ]
  },
  {
   "cell_type": "markdown",
   "metadata": {
    "id": "ZCrR18tdcyCH"
   },
   "source": [
    "<br>\n",
    "<br>"
   ]
  },
  {
   "cell_type": "markdown",
   "metadata": {
    "id": "ZAaA7vnucyCH"
   },
   "source": [
    "# 대용량 데이터 처리: 온라인 알고리즘과 외부 메모리 학습 "
   ]
  },
  {
   "cell_type": "code",
   "execution_count": 39,
   "metadata": {
    "execution": {
     "iopub.execute_input": "2020-11-29T07:04:55.902201Z",
     "iopub.status.busy": "2020-11-29T07:04:55.900880Z",
     "iopub.status.idle": "2020-11-29T07:04:55.904331Z",
     "shell.execute_reply": "2020-11-29T07:04:55.905274Z"
    },
    "id": "IbhTytKWcyCH"
   },
   "outputs": [],
   "source": [
    "# 이 셀의 코드는 책에 포함되어 있지 않습니다.\n",
    "# 이전 코드를 실행하지 않고 바로 시작할 수 있도록 편의를 위해 추가했습니다.\n",
    "\n",
    "import os\n",
    "import gzip\n",
    "\n",
    "\n",
    "if not os.path.isfile('movie_data.csv'):\n",
    "    if not os.path.isfile('movie_data.csv.gz'):\n",
    "        print('Please place a copy of the movie_data.csv.gz'\n",
    "              'in this directory. You can obtain it by'\n",
    "              'a) executing the code in the beginning of this'\n",
    "              'notebook or b) by downloading it from GitHub:'\n",
    "              'https://github.com/rickiepark/python-machine-learning-'\n",
    "              'book-3rd-edition/blob/master/ch08/movie_data.csv.gz')\n",
    "    else:\n",
    "        with gzip.open('movie_data.csv.gz', 'rb') as in_f, \\\n",
    "                open('movie_data.csv', 'wb') as out_f:\n",
    "            out_f.write(in_f.read())"
   ]
  },
  {
   "cell_type": "code",
   "execution_count": 40,
   "metadata": {
    "execution": {
     "iopub.execute_input": "2020-11-29T07:04:55.922739Z",
     "iopub.status.busy": "2020-11-29T07:04:55.921546Z",
     "iopub.status.idle": "2020-11-29T07:04:55.925489Z",
     "shell.execute_reply": "2020-11-29T07:04:55.926490Z"
    },
    "id": "b6ZDaEfJcyCH"
   },
   "outputs": [],
   "source": [
    "import numpy as np\n",
    "import re\n",
    "from nltk.corpus import stopwords\n",
    "\n",
    "\n",
    "# `stop` 객체를 앞에서 정의했지만 이전 코드를 실행하지 않고\n",
    "# 편의상 여기에서부터 코드를 실행하기 위해 다시 만듭니다.\n",
    "stop = stopwords.words('english')\n",
    "\n",
    "\n",
    "def tokenizer(text):\n",
    "    text = re.sub('<[^>]*>', '', text)\n",
    "    emoticons = re.findall('(?::|;|=)(?:-)?(?:\\)|\\(|D|P)', text.lower())\n",
    "    text = re.sub('[\\W]+', ' ', text.lower()) +\\\n",
    "        ' '.join(emoticons).replace('-', '')\n",
    "    tokenized = [w for w in text.split() if w not in stop]\n",
    "    return tokenized\n",
    "\n",
    "\n",
    "def stream_docs(path):\n",
    "    with open(path, 'r', encoding='utf-8') as csv:\n",
    "        next(csv)  # 헤더 넘기기\n",
    "        for line in csv:\n",
    "            text, label = line[:-3], int(line[-2])\n",
    "            yield text, label"
   ]
  },
  {
   "cell_type": "code",
   "execution_count": 41,
   "metadata": {
    "colab": {
     "base_uri": "https://localhost:8080/"
    },
    "execution": {
     "iopub.execute_input": "2020-11-29T07:04:55.933239Z",
     "iopub.status.busy": "2020-11-29T07:04:55.931971Z",
     "iopub.status.idle": "2020-11-29T07:04:55.938757Z",
     "shell.execute_reply": "2020-11-29T07:04:55.939626Z"
    },
    "id": "-oHQu4x-cyCH",
    "outputId": "598d45f4-9792-4e78-d47f-cecc58b445ce"
   },
   "outputs": [
    {
     "data": {
      "text/plain": [
       "('\"In 1974, the teenager Martha Moxley (Maggie Grace) moves to the high-class area of Belle Haven, Greenwich, Connecticut. On the Mischief Night, eve of Halloween, she was murdered in the backyard of her house and her murder remained unsolved. Twenty-two years later, the writer Mark Fuhrman (Christopher Meloni), who is a former LA detective that has fallen in disgrace for perjury in O.J. Simpson trial and moved to Idaho, decides to investigate the case with his partner Stephen Weeks (Andrew Mitchell) with the purpose of writing a book. The locals squirm and do not welcome them, but with the support of the retired detective Steve Carroll (Robert Forster) that was in charge of the investigation in the 70\\'s, they discover the criminal and a net of power and money to cover the murder.<br /><br />\"\"Murder in Greenwich\"\" is a good TV movie, with the true story of a murder of a fifteen years old girl that was committed by a wealthy teenager whose mother was a Kennedy. The powerful and rich family used their influence to cover the murder for more than twenty years. However, a snoopy detective and convicted perjurer in disgrace was able to disclose how the hideous crime was committed. The screenplay shows the investigation of Mark and the last days of Martha in parallel, but there is a lack of the emotion in the dramatization. My vote is seven.<br /><br />Title (Brazil): Not Available\"',\n",
       " 1)"
      ]
     },
     "execution_count": 41,
     "metadata": {
      "tags": []
     },
     "output_type": "execute_result"
    }
   ],
   "source": [
    "next(stream_docs(path='movie_data.csv'))"
   ]
  },
  {
   "cell_type": "code",
   "execution_count": 42,
   "metadata": {
    "execution": {
     "iopub.execute_input": "2020-11-29T07:04:55.952097Z",
     "iopub.status.busy": "2020-11-29T07:04:55.950736Z",
     "iopub.status.idle": "2020-11-29T07:04:55.954049Z",
     "shell.execute_reply": "2020-11-29T07:04:55.955169Z"
    },
    "id": "pDIeRNdWcyCH"
   },
   "outputs": [],
   "source": [
    "def get_minibatch(doc_stream, size):\n",
    "    docs, y = [], []\n",
    "    try:\n",
    "        for _ in range(size):\n",
    "            text, label = next(doc_stream)\n",
    "            docs.append(text)\n",
    "            y.append(label)\n",
    "    except StopIteration:\n",
    "        return None, None\n",
    "    return docs, y"
   ]
  },
  {
   "cell_type": "code",
   "execution_count": 43,
   "metadata": {
    "execution": {
     "iopub.execute_input": "2020-11-29T07:04:55.963988Z",
     "iopub.status.busy": "2020-11-29T07:04:55.962641Z",
     "iopub.status.idle": "2020-11-29T07:04:55.965514Z",
     "shell.execute_reply": "2020-11-29T07:04:55.966370Z"
    },
    "id": "Q1Nv4vyicyCI"
   },
   "outputs": [],
   "source": [
    "from sklearn.feature_extraction.text import HashingVectorizer\n",
    "from sklearn.linear_model import SGDClassifier\n",
    "\n",
    "\n",
    "vect = HashingVectorizer(decode_error='ignore', \n",
    "                         n_features=2**21,\n",
    "                         preprocessor=None, \n",
    "                         tokenizer=tokenizer)"
   ]
  },
  {
   "cell_type": "code",
   "execution_count": 44,
   "metadata": {
    "execution": {
     "iopub.execute_input": "2020-11-29T07:04:55.975482Z",
     "iopub.status.busy": "2020-11-29T07:04:55.974446Z",
     "iopub.status.idle": "2020-11-29T07:04:55.977652Z",
     "shell.execute_reply": "2020-11-29T07:04:55.978624Z"
    },
    "id": "Y8mJyKD7cyCI"
   },
   "outputs": [],
   "source": [
    "from distutils.version import LooseVersion as Version\n",
    "from sklearn import __version__ as sklearn_version\n",
    "\n",
    "clf = SGDClassifier(loss='log', random_state=1)\n",
    "\n",
    "\n",
    "doc_stream = stream_docs(path='movie_data.csv')"
   ]
  },
  {
   "cell_type": "code",
   "execution_count": 45,
   "metadata": {
    "colab": {
     "base_uri": "https://localhost:8080/"
    },
    "execution": {
     "iopub.execute_input": "2020-11-29T07:04:55.990667Z",
     "iopub.status.busy": "2020-11-29T07:04:55.989306Z",
     "iopub.status.idle": "2020-11-29T07:05:20.881649Z",
     "shell.execute_reply": "2020-11-29T07:05:20.882085Z"
    },
    "id": "dNGiQGLjcyCI",
    "outputId": "8936027b-74ba-4dba-f9e0-19272e76c0ba"
   },
   "outputs": [
    {
     "name": "stderr",
     "output_type": "stream",
     "text": [
      "0% [##############################] 100% | ETA: 00:00:00\n",
      "Total time elapsed: 00:00:30\n"
     ]
    }
   ],
   "source": [
    "import pyprind\n",
    "pbar = pyprind.ProgBar(45)\n",
    "\n",
    "classes = np.array([0, 1])\n",
    "for _ in range(45):\n",
    "    X_train, y_train = get_minibatch(doc_stream, size=1000)\n",
    "    if not X_train:\n",
    "        break\n",
    "    X_train = vect.transform(X_train)\n",
    "    clf.partial_fit(X_train, y_train, classes=classes)\n",
    "    pbar.update()"
   ]
  },
  {
   "cell_type": "code",
   "execution_count": 46,
   "metadata": {
    "colab": {
     "base_uri": "https://localhost:8080/"
    },
    "execution": {
     "iopub.execute_input": "2020-11-29T07:05:20.887325Z",
     "iopub.status.busy": "2020-11-29T07:05:20.886361Z",
     "iopub.status.idle": "2020-11-29T07:05:23.537650Z",
     "shell.execute_reply": "2020-11-29T07:05:23.539001Z"
    },
    "id": "fMLgSGMHcyCI",
    "outputId": "ca7535a7-b8e8-4c70-aa47-eb0efdb2b628"
   },
   "outputs": [
    {
     "name": "stdout",
     "output_type": "stream",
     "text": [
      "정확도: 0.868\n"
     ]
    }
   ],
   "source": [
    "X_test, y_test = get_minibatch(doc_stream, size=5000)\n",
    "X_test = vect.transform(X_test)\n",
    "print('정확도: %.3f' % clf.score(X_test, y_test))"
   ]
  },
  {
   "cell_type": "code",
   "execution_count": 47,
   "metadata": {
    "execution": {
     "iopub.execute_input": "2020-11-29T07:05:23.551462Z",
     "iopub.status.busy": "2020-11-29T07:05:23.545726Z",
     "iopub.status.idle": "2020-11-29T07:05:23.566207Z",
     "shell.execute_reply": "2020-11-29T07:05:23.566657Z"
    },
    "id": "CjpZRaP0cyCI"
   },
   "outputs": [],
   "source": [
    "clf = clf.partial_fit(X_test, y_test)"
   ]
  },
  {
   "cell_type": "markdown",
   "metadata": {
    "id": "DUuim6rGcyCI"
   },
   "source": [
    "## 잠재 디리클레 할당을 사용한 토픽 모델링 "
   ]
  },
  {
   "cell_type": "markdown",
   "metadata": {
    "id": "VCoicyiUcyCI"
   },
   "source": [
    "### LDA를 사용한 텍스트 문서 분해 "
   ]
  },
  {
   "cell_type": "markdown",
   "metadata": {
    "id": "BgKVwW-WcyCI"
   },
   "source": [
    "### 사이킷런의 LDA"
   ]
  },
  {
   "cell_type": "code",
   "execution_count": 48,
   "metadata": {
    "colab": {
     "base_uri": "https://localhost:8080/",
     "height": 138
    },
    "execution": {
     "iopub.execute_input": "2020-11-29T07:05:23.572117Z",
     "iopub.status.busy": "2020-11-29T07:05:23.571215Z",
     "iopub.status.idle": "2020-11-29T07:05:24.104676Z",
     "shell.execute_reply": "2020-11-29T07:05:24.106181Z"
    },
    "id": "Xd8wHrIicyCJ",
    "outputId": "5aebb8e6-8979-4730-9fc0-5c6bf692cf2d"
   },
   "outputs": [
    {
     "data": {
      "text/html": [
       "<div>\n",
       "<style scoped>\n",
       "    .dataframe tbody tr th:only-of-type {\n",
       "        vertical-align: middle;\n",
       "    }\n",
       "\n",
       "    .dataframe tbody tr th {\n",
       "        vertical-align: top;\n",
       "    }\n",
       "\n",
       "    .dataframe thead th {\n",
       "        text-align: right;\n",
       "    }\n",
       "</style>\n",
       "<table border=\"1\" class=\"dataframe\">\n",
       "  <thead>\n",
       "    <tr style=\"text-align: right;\">\n",
       "      <th></th>\n",
       "      <th>review</th>\n",
       "      <th>sentiment</th>\n",
       "    </tr>\n",
       "  </thead>\n",
       "  <tbody>\n",
       "    <tr>\n",
       "      <th>0</th>\n",
       "      <td>In 1974, the teenager Martha Moxley (Maggie Gr...</td>\n",
       "      <td>1</td>\n",
       "    </tr>\n",
       "    <tr>\n",
       "      <th>1</th>\n",
       "      <td>OK... so... I really like Kris Kristofferson a...</td>\n",
       "      <td>0</td>\n",
       "    </tr>\n",
       "    <tr>\n",
       "      <th>2</th>\n",
       "      <td>***SPOILER*** Do not read this, if you think a...</td>\n",
       "      <td>0</td>\n",
       "    </tr>\n",
       "  </tbody>\n",
       "</table>\n",
       "</div>"
      ],
      "text/plain": [
       "                                              review  sentiment\n",
       "0  In 1974, the teenager Martha Moxley (Maggie Gr...          1\n",
       "1  OK... so... I really like Kris Kristofferson a...          0\n",
       "2  ***SPOILER*** Do not read this, if you think a...          0"
      ]
     },
     "execution_count": 48,
     "metadata": {
      "tags": []
     },
     "output_type": "execute_result"
    }
   ],
   "source": [
    "import pandas as pd\n",
    "\n",
    "df = pd.read_csv('movie_data.csv', encoding='utf-8')\n",
    "df.head(3)"
   ]
  },
  {
   "cell_type": "code",
   "execution_count": 49,
   "metadata": {
    "execution": {
     "iopub.execute_input": "2020-11-29T07:05:24.147382Z",
     "iopub.status.busy": "2020-11-29T07:05:24.112586Z",
     "iopub.status.idle": "2020-11-29T07:05:33.102960Z",
     "shell.execute_reply": "2020-11-29T07:05:33.101343Z"
    },
    "id": "x6iBTTXEcyCJ"
   },
   "outputs": [],
   "source": [
    "from sklearn.feature_extraction.text import CountVectorizer\n",
    "\n",
    "count = CountVectorizer(stop_words='english',\n",
    "                        max_df=.1,\n",
    "                        max_features=5000)\n",
    "X = count.fit_transform(df['review'].values)"
   ]
  },
  {
   "cell_type": "code",
   "execution_count": 50,
   "metadata": {
    "execution": {
     "iopub.execute_input": "2020-11-29T07:05:33.110228Z",
     "iopub.status.busy": "2020-11-29T07:05:33.109206Z",
     "iopub.status.idle": "2020-11-29T07:13:09.366776Z",
     "shell.execute_reply": "2020-11-29T07:13:09.367232Z"
    },
    "id": "Tuj9PLJCcyCJ"
   },
   "outputs": [],
   "source": [
    "from sklearn.decomposition import LatentDirichletAllocation\n",
    "\n",
    "lda = LatentDirichletAllocation(n_components=10,\n",
    "                                random_state=123,\n",
    "                                learning_method='batch')\n",
    "X_topics = lda.fit_transform(X)"
   ]
  },
  {
   "cell_type": "code",
   "execution_count": 51,
   "metadata": {
    "colab": {
     "base_uri": "https://localhost:8080/"
    },
    "execution": {
     "iopub.execute_input": "2020-11-29T07:13:09.376237Z",
     "iopub.status.busy": "2020-11-29T07:13:09.374509Z",
     "iopub.status.idle": "2020-11-29T07:13:09.381611Z",
     "shell.execute_reply": "2020-11-29T07:13:09.380417Z"
    },
    "id": "3Ejgt5FScyCJ",
    "outputId": "794639c4-7d4e-4f8b-b390-710acdbf1aec"
   },
   "outputs": [
    {
     "data": {
      "text/plain": [
       "(10, 5000)"
      ]
     },
     "execution_count": 51,
     "metadata": {
      "tags": []
     },
     "output_type": "execute_result"
    }
   ],
   "source": [
    "lda.components_.shape"
   ]
  },
  {
   "cell_type": "code",
   "execution_count": 52,
   "metadata": {
    "colab": {
     "base_uri": "https://localhost:8080/"
    },
    "execution": {
     "iopub.execute_input": "2020-11-29T07:13:09.403674Z",
     "iopub.status.busy": "2020-11-29T07:13:09.402583Z",
     "iopub.status.idle": "2020-11-29T07:13:09.411503Z",
     "shell.execute_reply": "2020-11-29T07:13:09.412719Z"
    },
    "id": "HEJ6hcpDcyCJ",
    "outputId": "bd4ca5c3-de25-44c2-d5e7-4c067ab7f023"
   },
   "outputs": [
    {
     "name": "stdout",
     "output_type": "stream",
     "text": [
      "Topic 1:\n",
      "worst minutes awful script stupid\n",
      "Topic 2:\n",
      "family mother father children girl\n",
      "Topic 3:\n",
      "american war dvd music tv\n",
      "Topic 4:\n",
      "human audience cinema art sense\n",
      "Topic 5:\n",
      "police guy car dead murder\n",
      "Topic 6:\n",
      "horror house sex girl woman\n",
      "Topic 7:\n",
      "role performance comedy actor performances\n",
      "Topic 8:\n",
      "series episode war episodes tv\n",
      "Topic 9:\n",
      "book version original read novel\n",
      "Topic 10:\n",
      "action fight guy guys cool\n"
     ]
    }
   ],
   "source": [
    "n_top_words = 5\n",
    "feature_names = count.get_feature_names()\n",
    "\n",
    "for topic_idx, topic in enumerate(lda.components_):\n",
    "    print(\"Topic %d:\" % (topic_idx + 1))\n",
    "    print(\" \".join([feature_names[i]\n",
    "                    for i in topic.argsort()\\\n",
    "                        [:-n_top_words - 1:-1]]))"
   ]
  },
  {
   "cell_type": "markdown",
   "metadata": {
    "id": "Nkj0vL2WcyCJ"
   },
   "source": [
    "각 토픽에서 가장 중요한 단어 다섯 개를 기반으로 LDA가 다음 토픽을 구별했다고 추측할 수 있습니다.\n",
    "\n",
    "1.\t대체적으로 형편없는 영화(실제 토픽 카테고리가 되지 못함)\n",
    "2.\t가족 영화\n",
    "3.\t전쟁 영화\n",
    "4.\t예술 영화\n",
    "5.\t범죄 영화\n",
    "6.\t공포 영화\n",
    "7.\t코미디 영화\n",
    "8.\tTV 쇼와 관련된 영화\n",
    "9.\t소설을 원작으로 한 영화\n",
    "10.\t액션 영화"
   ]
  },
  {
   "cell_type": "markdown",
   "metadata": {
    "id": "s4xvfj7EcyCJ"
   },
   "source": [
    "카테고리가 잘 선택됐는지 확인하기 위해 공포 영화 카테고리에서 3개 영화의 리뷰를 출력해 보죠(공포 영화는 카테고리 6이므로 인덱스는 5입니다):"
   ]
  },
  {
   "cell_type": "code",
   "execution_count": 53,
   "metadata": {
    "colab": {
     "base_uri": "https://localhost:8080/"
    },
    "execution": {
     "iopub.execute_input": "2020-11-29T07:13:09.422547Z",
     "iopub.status.busy": "2020-11-29T07:13:09.421453Z",
     "iopub.status.idle": "2020-11-29T07:13:09.436189Z",
     "shell.execute_reply": "2020-11-29T07:13:09.437435Z"
    },
    "id": "v6shgjZfcyCK",
    "outputId": "5a30c273-a9e5-47bf-ea2e-4b1600ff0634",
    "scrolled": true
   },
   "outputs": [
    {
     "name": "stdout",
     "output_type": "stream",
     "text": [
      "\n",
      "공포 영화 #1:\n",
      "House of Dracula works from the same basic premise as House of Frankenstein from the year before; namely that Universal's three most famous monsters; Dracula, Frankenstein's Monster and The Wolf Man are appearing in the movie together. Naturally, the film is rather messy therefore, but the fact that ...\n",
      "\n",
      "공포 영화 #2:\n",
      "Okay, what the hell kind of TRASH have I been watching now? \"The Witches' Mountain\" has got to be one of the most incoherent and insane Spanish exploitation flicks ever and yet, at the same time, it's also strangely compelling. There's absolutely nothing that makes sense here and I even doubt there  ...\n",
      "\n",
      "공포 영화 #3:\n",
      "<br /><br />Horror movie time, Japanese style. Uzumaki/Spiral was a total freakfest from start to finish. A fun freakfest at that, but at times it was a tad too reliant on kitsch rather than the horror. The story is difficult to summarize succinctly: a carefree, normal teenage girl starts coming fac ...\n"
     ]
    }
   ],
   "source": [
    "horror = X_topics[:, 5].argsort()[::-1]\n",
    "\n",
    "for iter_idx, movie_idx in enumerate(horror[:3]):\n",
    "    print('\\n공포 영화 #%d:' % (iter_idx + 1))\n",
    "    print(df['review'][movie_idx][:300], '...')"
   ]
  },
  {
   "cell_type": "markdown",
   "metadata": {
    "id": "QXblpnHrcyCK"
   },
   "source": [
    "앞 코드에서 공포 영화 카테고리 중 최상위 3개의 리뷰에서 300자씩 출력했습니다. 정확히 어떤 영화에 속한 리뷰인지는 모르지만 공포 영화의 리뷰임을 알 수 있습니다(하지만 영화 #2는 1번 카테고리에 속하는 것처럼 보이기도 합니다)."
   ]
  },
  {
   "cell_type": "markdown",
   "metadata": {
    "id": "Dv5Svl-8cyCK"
   },
   "source": [
    "<br>\n",
    "<br>"
   ]
  }
 ],
 "metadata": {
  "anaconda-cloud": {},
  "colab": {
   "name": "ch08.ipynb",
   "provenance": [],
   "toc_visible": true
  },
  "kernelspec": {
   "display_name": "Python 3",
   "language": "python",
   "name": "python3"
  },
  "language_info": {
   "codemirror_mode": {
    "name": "ipython",
    "version": 3
   },
   "file_extension": ".py",
   "mimetype": "text/x-python",
   "name": "python",
   "nbconvert_exporter": "python",
   "pygments_lexer": "ipython3",
   "version": "3.7.3"
  },
  "toc": {
   "nav_menu": {},
   "number_sections": true,
   "sideBar": true,
   "skip_h1_title": false,
   "title_cell": "Table of Contents",
   "title_sidebar": "Contents",
   "toc_cell": false,
   "toc_position": {},
   "toc_section_display": true,
   "toc_window_display": false
  }
 },
 "nbformat": 4,
 "nbformat_minor": 4
}
