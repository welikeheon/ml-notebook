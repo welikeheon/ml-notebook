{
 "cells": [
  {
   "cell_type": "markdown",
   "metadata": {
    "id": "bmTf8Nr0ifCU"
   },
   "source": [
    "# 머신 러닝 교과서 3판"
   ]
  },
  {
   "cell_type": "markdown",
   "metadata": {
    "id": "urDF4hh_ifCV"
   },
   "source": [
    "# 15장 - 심층 합성곱 신경망으로 이미지 분류 (1/2)"
   ]
  },
  {
   "cell_type": "markdown",
   "metadata": {
    "id": "R5cTA0rXifCV"
   },
   "source": [
    "**아래 링크를 통해 이 노트북을 주피터 노트북 뷰어(nbviewer.jupyter.org)로 보거나 구글 코랩(colab.research.google.com)에서 실행할 수 있습니다.**\n",
    "\n",
    "<table class=\"tfo-notebook-buttons\" align=\"left\">\n",
    "  <td>\n",
    "    <a target=\"_blank\" href=\"https://nbviewer.jupyter.org/github/rickiepark/python-machine-learning-book-3rd-edition/blob/master/ch15/ch15_part1.ipynb\"><img src=\"https://jupyter.org/assets/main-logo.svg\" width=\"28\" />주피터 노트북 뷰어로 보기</a>\n",
    "  </td>\n",
    "  <td>\n",
    "    <a target=\"_blank\" href=\"https://colab.research.google.com/github/rickiepark/python-machine-learning-book-3rd-edition/blob/master/ch15/ch15_part1.ipynb\"><img src=\"https://www.tensorflow.org/images/colab_logo_32px.png\" />구글 코랩(Colab)에서 실행하기</a>\n",
    "  </td>\n",
    "</table>"
   ]
  },
  {
   "cell_type": "markdown",
   "metadata": {
    "id": "f27nCXbrifCW"
   },
   "source": [
    "### 목차"
   ]
  },
  {
   "cell_type": "markdown",
   "metadata": {
    "id": "2_7fyte5ifCW"
   },
   "source": [
    "- 합성곱 신경망의 구성 요소\n",
    "    - CNN과 특성 계층 학습\n",
    "    - 이산 합성곱 수행\n",
    "        - 1차원 이산 합성곱 수행\n",
    "        - 출력 특성 맵의 크기를 조절하기 위해 입력에 패딩하기\n",
    "        - 합성곱 출력 크기 계산\n",
    "        - 2D 이산 합성곱 수행\n",
    "    - 서브샘플링\n",
    "- 기본 구성 요소를 사용하여 심층 합성곱 신경망 구성\n",
    "    - 여러 개의 입력 또는 컬러 채널 다루기\n",
    "    - 드롭아웃으로 신경망 규제\n",
    "    - 분류를 위한 손실 함수\n",
    "- 텐서플로를 사용하여 심층 합성곱 신경망 구현\n",
    "    - 다층 CNN 구조\n",
    "    - 데이터 적재와 전처리\n",
    "    - 텐서플로 케라스 API를 사용해 CNN 구현하기\n",
    "        - 케라스에서 CNN 층 설정하기\n",
    "        - 케라스로 CNN 구성하기"
   ]
  },
  {
   "cell_type": "code",
   "execution_count": 1,
   "metadata": {
    "id": "177002meifCW"
   },
   "outputs": [],
   "source": [
    "from IPython.display import Image"
   ]
  },
  {
   "cell_type": "markdown",
   "metadata": {
    "id": "QhoWUw-DifCW"
   },
   "source": [
    "## 합성곱 신경망의 구성 요소\n",
    "\n",
    "### CNN과 특성 계층 학습"
   ]
  },
  {
   "cell_type": "code",
   "execution_count": 2,
   "metadata": {
    "colab": {
     "base_uri": "https://localhost:8080/",
     "height": 304
    },
    "id": "Z1yJcNPqifCW",
    "outputId": "6d14c4aa-960d-49c7-c752-e21b8018b294"
   },
   "outputs": [
    {
     "data": {
      "text/html": [
       "<img src=\"https://git.io/JL5O3\" width=\"700\"/>"
      ],
      "text/plain": [
       "<IPython.core.display.Image object>"
      ]
     },
     "execution_count": 2,
     "metadata": {
      "tags": []
     },
     "output_type": "execute_result"
    }
   ],
   "source": [
    "Image(url='https://git.io/JL5O3', width=700)"
   ]
  },
  {
   "cell_type": "markdown",
   "metadata": {
    "id": "n1CfLNUSifCX"
   },
   "source": [
    "### 이산 합성곱 수행\n",
    "\n",
    "#### 1차원 이산 합성곱 수행"
   ]
  },
  {
   "cell_type": "code",
   "execution_count": 3,
   "metadata": {
    "colab": {
     "base_uri": "https://localhost:8080/",
     "height": 278
    },
    "id": "GKOpZy2TifCX",
    "outputId": "c6e834ec-e540-4706-f40d-08e484ff11bc"
   },
   "outputs": [
    {
     "data": {
      "text/html": [
       "<img src=\"https://git.io/JL5On\" width=\"700\"/>"
      ],
      "text/plain": [
       "<IPython.core.display.Image object>"
      ]
     },
     "execution_count": 3,
     "metadata": {
      "tags": []
     },
     "output_type": "execute_result"
    }
   ],
   "source": [
    "Image(url='https://git.io/JL5On', width=700)"
   ]
  },
  {
   "cell_type": "code",
   "execution_count": 4,
   "metadata": {
    "colab": {
     "base_uri": "https://localhost:8080/",
     "height": 453
    },
    "id": "E3J3_NTNifCY",
    "outputId": "22098915-c7f7-4733-94c1-1ad63b094ae0"
   },
   "outputs": [
    {
     "data": {
      "text/html": [
       "<img src=\"https://git.io/JL5O8\" width=\"700\"/>"
      ],
      "text/plain": [
       "<IPython.core.display.Image object>"
      ]
     },
     "execution_count": 4,
     "metadata": {
      "tags": []
     },
     "output_type": "execute_result"
    }
   ],
   "source": [
    "Image(url='https://git.io/JL5O8', width=700)"
   ]
  },
  {
   "cell_type": "markdown",
   "metadata": {
    "id": "4FylyB5IifCY"
   },
   "source": [
    "#### 출력 특성 맵의 크기를 조절하기 위해 입력에 패딩하기"
   ]
  },
  {
   "cell_type": "code",
   "execution_count": 5,
   "metadata": {
    "colab": {
     "base_uri": "https://localhost:8080/",
     "height": 211
    },
    "id": "atIWe4jRifCY",
    "outputId": "9a4d73bb-0d2c-4e8f-ed00-fb19b5283c5f"
   },
   "outputs": [
    {
     "data": {
      "text/html": [
       "<img src=\"https://git.io/JL5Ow\" width=\"700\"/>"
      ],
      "text/plain": [
       "<IPython.core.display.Image object>"
      ]
     },
     "execution_count": 5,
     "metadata": {
      "tags": []
     },
     "output_type": "execute_result"
    }
   ],
   "source": [
    "Image(url='https://git.io/JL5Ow', width=700)"
   ]
  },
  {
   "cell_type": "markdown",
   "metadata": {
    "id": "fjCOUYGWifCY"
   },
   "source": [
    "#### 합성곱 출력 크기 계산"
   ]
  },
  {
   "cell_type": "code",
   "execution_count": 6,
   "metadata": {
    "colab": {
     "base_uri": "https://localhost:8080/"
    },
    "id": "kLmHMacdifCY",
    "outputId": "66f041a9-276b-4087-8c97-1aa2bc7a0ee8"
   },
   "outputs": [
    {
     "name": "stdout",
     "output_type": "stream",
     "text": [
      "텐서플로 버전: 2.4.0\n",
      "넘파이 버전:  1.19.4\n"
     ]
    }
   ],
   "source": [
    "import tensorflow as tf\n",
    "import numpy as np\n",
    "\n",
    "print('텐서플로 버전:', tf.__version__)\n",
    "print('넘파이 버전: ', np.__version__)"
   ]
  },
  {
   "cell_type": "code",
   "execution_count": 7,
   "metadata": {
    "colab": {
     "base_uri": "https://localhost:8080/"
    },
    "id": "15FDd_AMifCZ",
    "outputId": "4436b866-38df-49f2-d95b-e469bc304e6b"
   },
   "outputs": [
    {
     "name": "stdout",
     "output_type": "stream",
     "text": [
      "Conv1d 구현: [ 5. 14. 16. 26. 24. 34. 19. 22.]\n",
      "넘파이 결과: [ 5 14 16 26 24 34 19 22]\n"
     ]
    }
   ],
   "source": [
    "def conv1d(x, w, p=0, s=1):\n",
    "    w_rot = np.array(w[::-1])\n",
    "    x_padded = np.array(x)\n",
    "    if p > 0:\n",
    "        zero_pad = np.zeros(shape=p)\n",
    "        x_padded = np.concatenate(\n",
    "            [zero_pad, x_padded, zero_pad])\n",
    "    res = []\n",
    "    for i in range(0, int((len(x_padded) - len(w_rot)) / s) + 1, s):\n",
    "        res.append(np.sum(\n",
    "            x_padded[i:i+w_rot.shape[0]] * w_rot))\n",
    "    return np.array(res)\n",
    "\n",
    "\n",
    "## 테스트:\n",
    "x = [1, 3, 2, 4, 5, 6, 1, 3]\n",
    "w = [1, 0, 3, 1, 2]\n",
    "\n",
    "print('Conv1d 구현:',\n",
    "      conv1d(x, w, p=2, s=1))\n",
    "\n",
    "print('넘파이 결과:',\n",
    "      np.convolve(x, w, mode='same')) "
   ]
  },
  {
   "cell_type": "markdown",
   "metadata": {
    "id": "22WjlUkgifCZ"
   },
   "source": [
    "#### 2D 이산 합성곱 수행"
   ]
  },
  {
   "cell_type": "code",
   "execution_count": 8,
   "metadata": {
    "colab": {
     "base_uri": "https://localhost:8080/",
     "height": 413
    },
    "id": "vOAuCO9kifCZ",
    "outputId": "dac854c7-fe2c-4240-c215-09afefedce58"
   },
   "outputs": [
    {
     "data": {
      "text/html": [
       "<img src=\"https://git.io/JL5OP\" width=\"700\"/>"
      ],
      "text/plain": [
       "<IPython.core.display.Image object>"
      ]
     },
     "execution_count": 8,
     "metadata": {
      "tags": []
     },
     "output_type": "execute_result"
    }
   ],
   "source": [
    "Image(url='https://git.io/JL5OP', width=700)"
   ]
  },
  {
   "cell_type": "code",
   "execution_count": 9,
   "metadata": {
    "colab": {
     "base_uri": "https://localhost:8080/",
     "height": 351
    },
    "id": "il5jQ-mZifCZ",
    "outputId": "2ed0ea1e-4a24-4f14-8018-8fb31c46ff61",
    "scrolled": true
   },
   "outputs": [
    {
     "data": {
      "text/html": [
       "<img src=\"https://git.io/JL5OD\" width=\"600\"/>"
      ],
      "text/plain": [
       "<IPython.core.display.Image object>"
      ]
     },
     "execution_count": 9,
     "metadata": {
      "tags": []
     },
     "output_type": "execute_result"
    }
   ],
   "source": [
    "Image(url='https://git.io/JL5OD', width=600)"
   ]
  },
  {
   "cell_type": "code",
   "execution_count": 10,
   "metadata": {
    "colab": {
     "base_uri": "https://localhost:8080/",
     "height": 373
    },
    "id": "TVLqLnMXifCa",
    "outputId": "1ee4584d-ed19-497a-a255-0567a406de0e"
   },
   "outputs": [
    {
     "data": {
      "text/html": [
       "<img src=\"https://git.io/JL5OS\" width=\"800\"/>"
      ],
      "text/plain": [
       "<IPython.core.display.Image object>"
      ]
     },
     "execution_count": 10,
     "metadata": {
      "tags": []
     },
     "output_type": "execute_result"
    }
   ],
   "source": [
    "Image(url='https://git.io/JL5OS', width=800)"
   ]
  },
  {
   "cell_type": "code",
   "execution_count": 11,
   "metadata": {
    "colab": {
     "base_uri": "https://localhost:8080/"
    },
    "id": "I8VBXnCjifCa",
    "outputId": "b71c36c5-3d82-4da9-93ca-c754c3265e03"
   },
   "outputs": [
    {
     "name": "stdout",
     "output_type": "stream",
     "text": [
      "Conv2d 구현:\n",
      " [[11. 25. 32. 13.]\n",
      " [19. 25. 24. 13.]\n",
      " [13. 28. 25. 17.]\n",
      " [11. 17. 14.  9.]]\n",
      "싸이파이 결과:\n",
      " [[11 25 32 13]\n",
      " [19 25 24 13]\n",
      " [13 28 25 17]\n",
      " [11 17 14  9]]\n"
     ]
    }
   ],
   "source": [
    "import scipy.signal\n",
    "\n",
    "\n",
    "def conv2d(X, W, p=(0, 0), s=(1, 1)):\n",
    "    W_rot = np.array(W)[::-1,::-1]\n",
    "    X_orig = np.array(X)\n",
    "    n1 = X_orig.shape[0] + 2*p[0]\n",
    "    n2 = X_orig.shape[1] + 2*p[1]\n",
    "    X_padded = np.zeros(shape=(n1, n2))\n",
    "    X_padded[p[0]:p[0]+X_orig.shape[0],\n",
    "    p[1]:p[1]+X_orig.shape[1]] = X_orig\n",
    "\n",
    "    res = []\n",
    "    for i in range(0, int((X_padded.shape[0] - \n",
    "                           W_rot.shape[0])/s[0])+1, s[0]):\n",
    "        res.append([])\n",
    "        for j in range(0, int((X_padded.shape[1] - \n",
    "                               W_rot.shape[1])/s[1])+1, s[1]):\n",
    "            X_sub = X_padded[i:i+W_rot.shape[0],\n",
    "                             j:j+W_rot.shape[1]]\n",
    "            res[-1].append(np.sum(X_sub * W_rot))\n",
    "    return(np.array(res))\n",
    "\n",
    "X = [[1, 3, 2, 4], [5, 6, 1, 3], [1, 2, 0, 2], [3, 4, 3, 2]]\n",
    "W = [[1, 0, 3], [1, 2, 1], [0, 1, 1]]\n",
    "\n",
    "print('Conv2d 구현:\\n',\n",
    "    conv2d(X, W, p=(1, 1), s=(1, 1)))\n",
    "\n",
    "\n",
    "print('싸이파이 결과:\\n',\n",
    "    scipy.signal.convolve2d(X, W, mode='same'))"
   ]
  },
  {
   "cell_type": "markdown",
   "metadata": {
    "id": "RHePysibifCa"
   },
   "source": [
    "### 서브샘플링"
   ]
  },
  {
   "cell_type": "code",
   "execution_count": 12,
   "metadata": {
    "colab": {
     "base_uri": "https://localhost:8080/",
     "height": 365
    },
    "id": "kc1ZMqcLifCa",
    "outputId": "808a9ddc-cbd6-4c12-fcf5-07f7f9c1844e"
   },
   "outputs": [
    {
     "data": {
      "text/html": [
       "<img src=\"https://git.io/JL5OH\" width=\"700\"/>"
      ],
      "text/plain": [
       "<IPython.core.display.Image object>"
      ]
     },
     "execution_count": 12,
     "metadata": {
      "tags": []
     },
     "output_type": "execute_result"
    }
   ],
   "source": [
    "Image(url='https://git.io/JL5OH', width=700)"
   ]
  },
  {
   "cell_type": "markdown",
   "metadata": {
    "id": "57cBF6lxifCb"
   },
   "source": [
    "## 기본 구성 요소를 사용하여 심층 합성곱 신경망 구성\n",
    "\n",
    "### 여러 개의 입력 또는 컬러 채널 다루기"
   ]
  },
  {
   "cell_type": "code",
   "execution_count": 13,
   "metadata": {
    "colab": {
     "base_uri": "https://localhost:8080/",
     "height": 421
    },
    "id": "VdJuRn5AifCb",
    "outputId": "fe9a6649-460e-432a-a7d8-c7ff51e1fe94"
   },
   "outputs": [
    {
     "data": {
      "text/html": [
       "<img src=\"https://git.io/JL5O5\" width=\"800\"/>"
      ],
      "text/plain": [
       "<IPython.core.display.Image object>"
      ]
     },
     "execution_count": 13,
     "metadata": {
      "tags": []
     },
     "output_type": "execute_result"
    }
   ],
   "source": [
    "Image(url='https://git.io/JL5O5', width=800)"
   ]
  },
  {
   "cell_type": "markdown",
   "metadata": {
    "id": "ldWAgzDQifCb"
   },
   "source": [
    "**팁: 이미지 파일 읽기**"
   ]
  },
  {
   "cell_type": "code",
   "execution_count": 14,
   "metadata": {
    "colab": {
     "base_uri": "https://localhost:8080/"
    },
    "id": "U2_UgtcxvuJj",
    "outputId": "ad42ff96-c402-4b14-bab9-23e8736b1823"
   },
   "outputs": [
    {
     "name": "stdout",
     "output_type": "stream",
     "text": [
      "--2021-01-02 02:04:04--  https://git.io/JL5Ob\n",
      "Resolving git.io (git.io)... 34.198.20.103, 3.221.203.32, 34.193.233.154, ...\n",
      "Connecting to git.io (git.io)|34.198.20.103|:443... connected.\n",
      "HTTP request sent, awaiting response... 302 Found\n",
      "Location: https://github.com/rickiepark/python-machine-learning-book-3rd-edition/raw/master/ch15/example-image.png [following]\n",
      "--2021-01-02 02:04:05--  https://github.com/rickiepark/python-machine-learning-book-3rd-edition/raw/master/ch15/example-image.png\n",
      "Resolving github.com (github.com)... 140.82.114.4\n",
      "Connecting to github.com (github.com)|140.82.114.4|:443... connected.\n",
      "HTTP request sent, awaiting response... 302 Found\n",
      "Location: https://raw.githubusercontent.com/rickiepark/python-machine-learning-book-3rd-edition/master/ch15/example-image.png [following]\n",
      "--2021-01-02 02:04:05--  https://raw.githubusercontent.com/rickiepark/python-machine-learning-book-3rd-edition/master/ch15/example-image.png\n",
      "Resolving raw.githubusercontent.com (raw.githubusercontent.com)... 151.101.0.133, 151.101.64.133, 151.101.128.133, ...\n",
      "Connecting to raw.githubusercontent.com (raw.githubusercontent.com)|151.101.0.133|:443... connected.\n",
      "HTTP request sent, awaiting response... 200 OK\n",
      "Length: 22283 (22K) [image/png]\n",
      "Saving to: ‘example-image.png’\n",
      "\n",
      "example-image.png   100%[===================>]  21.76K  --.-KB/s    in 0s      \n",
      "\n",
      "2021-01-02 02:04:05 (49.8 MB/s) - ‘example-image.png’ saved [22283/22283]\n",
      "\n"
     ]
    }
   ],
   "source": [
    "# 코랩에서 실행할 경우 이미지를 먼저 다운로드합니다\n",
    "!wget https://git.io/JL5Ob -O example-image.png"
   ]
  },
  {
   "cell_type": "code",
   "execution_count": 15,
   "metadata": {
    "colab": {
     "base_uri": "https://localhost:8080/"
    },
    "id": "2lQymxAJifCb",
    "outputId": "ca5496f2-6523-4af2-c66e-b741eb2cc20b"
   },
   "outputs": [
    {
     "name": "stdout",
     "output_type": "stream",
     "text": [
      "이미지 크기: (252, 221, 3)\n",
      "채널 개수: 3\n",
      "이미지 데이터 타입: <dtype: 'uint8'>\n",
      "tf.Tensor(\n",
      "[[[179 134 110]\n",
      "  [182 136 112]]\n",
      "\n",
      " [[180 135 111]\n",
      "  [182 137 113]]], shape=(2, 2, 3), dtype=uint8)\n"
     ]
    }
   ],
   "source": [
    "import tensorflow as tf\n",
    "\n",
    "\n",
    "img_raw = tf.io.read_file('example-image.png')\n",
    "img = tf.image.decode_image(img_raw)\n",
    "print('이미지 크기:', img.shape)\n",
    "print('채널 개수:', img.shape[2])\n",
    "print('이미지 데이터 타입:', img.dtype)\n",
    "print(img[100:102, 100:102, :])"
   ]
  },
  {
   "cell_type": "code",
   "execution_count": 16,
   "metadata": {
    "colab": {
     "base_uri": "https://localhost:8080/"
    },
    "id": "qo8Ybg9wifCc",
    "outputId": "db8d73b0-77ba-401d-a9a2-5ce8e3334c1a"
   },
   "outputs": [
    {
     "name": "stdout",
     "output_type": "stream",
     "text": [
      "이미지 크기: (252, 221, 3)\n",
      "채널 개수: 3\n",
      "이미지 데이터 타입: uint8\n",
      "[[[179 134 110]\n",
      "  [182 136 112]]\n",
      "\n",
      " [[180 135 111]\n",
      "  [182 137 113]]]\n"
     ]
    }
   ],
   "source": [
    "import imageio\n",
    "\n",
    "\n",
    "img = imageio.imread('example-image.png')\n",
    "print('이미지 크기:', img.shape)\n",
    "print('채널 개수:', img.shape[2])\n",
    "print('이미지 데이터 타입:', img.dtype)\n",
    "print(img[100:102, 100:102, :])"
   ]
  },
  {
   "cell_type": "markdown",
   "metadata": {
    "id": "pRudlk4_ifCd"
   },
   "source": [
    "**노트: CNN 입력을 위한 흑백 이미지의 랭크**"
   ]
  },
  {
   "cell_type": "code",
   "execution_count": 17,
   "metadata": {
    "colab": {
     "base_uri": "https://localhost:8080/"
    },
    "id": "LeRSnSZEw45S",
    "outputId": "791a36a3-c619-4430-b58c-40048b26880f"
   },
   "outputs": [
    {
     "name": "stdout",
     "output_type": "stream",
     "text": [
      "--2021-01-02 02:04:06--  https://git.io/JL5Op\n",
      "Resolving git.io (git.io)... 34.198.20.103, 3.221.203.32, 34.193.233.154, ...\n",
      "Connecting to git.io (git.io)|34.198.20.103|:443... connected.\n",
      "HTTP request sent, awaiting response... 302 Found\n",
      "Location: https://github.com/rickiepark/python-machine-learning-book-3rd-edition/raw/master/ch15/example-image-gray.png [following]\n",
      "--2021-01-02 02:04:06--  https://github.com/rickiepark/python-machine-learning-book-3rd-edition/raw/master/ch15/example-image-gray.png\n",
      "Resolving github.com (github.com)... 140.82.113.3\n",
      "Connecting to github.com (github.com)|140.82.113.3|:443... connected.\n",
      "HTTP request sent, awaiting response... 302 Found\n",
      "Location: https://raw.githubusercontent.com/rickiepark/python-machine-learning-book-3rd-edition/master/ch15/example-image-gray.png [following]\n",
      "--2021-01-02 02:04:06--  https://raw.githubusercontent.com/rickiepark/python-machine-learning-book-3rd-edition/master/ch15/example-image-gray.png\n",
      "Resolving raw.githubusercontent.com (raw.githubusercontent.com)... 151.101.0.133, 151.101.64.133, 151.101.128.133, ...\n",
      "Connecting to raw.githubusercontent.com (raw.githubusercontent.com)|151.101.0.133|:443... connected.\n",
      "HTTP request sent, awaiting response... 200 OK\n",
      "Length: 8501 (8.3K) [image/png]\n",
      "Saving to: ‘example-image-gray.png’\n",
      "\n",
      "example-image-gray. 100%[===================>]   8.30K  --.-KB/s    in 0s      \n",
      "\n",
      "2021-01-02 02:04:06 (90.6 MB/s) - ‘example-image-gray.png’ saved [8501/8501]\n",
      "\n"
     ]
    }
   ],
   "source": [
    "# 코랩에서 실행할 경우 이미지를 먼저 다운로드합니다\n",
    "!wget https://git.io/JL5Op -O example-image-gray.png"
   ]
  },
  {
   "cell_type": "code",
   "execution_count": 18,
   "metadata": {
    "colab": {
     "base_uri": "https://localhost:8080/"
    },
    "id": "ZyCzEMJOifCd",
    "outputId": "14b03b8a-fdc1-45bc-e666-1432b097dee8"
   },
   "outputs": [
    {
     "name": "stdout",
     "output_type": "stream",
     "text": [
      "랭크: 3\n",
      "크기: TensorShape([252, 221, 1])\n"
     ]
    }
   ],
   "source": [
    "img_raw = tf.io.read_file('example-image-gray.png')\n",
    "img = tf.image.decode_image(img_raw)\n",
    "tf.print('랭크:', tf.rank(img))\n",
    "tf.print('크기:', img.shape)"
   ]
  },
  {
   "cell_type": "code",
   "execution_count": 19,
   "metadata": {
    "colab": {
     "base_uri": "https://localhost:8080/"
    },
    "id": "OwY7M7mxifCd",
    "outputId": "ce6b4c50-3060-483b-8cc7-6280af52ff25"
   },
   "outputs": [
    {
     "name": "stdout",
     "output_type": "stream",
     "text": [
      "랭크: 2\n",
      "크기: (252, 221)\n",
      "새로운 크기: TensorShape([252, 221, 1])\n"
     ]
    }
   ],
   "source": [
    "img = imageio.imread('example-image-gray.png')\n",
    "tf.print('랭크:', tf.rank(img))\n",
    "tf.print('크기:', img.shape)\n",
    "\n",
    "img_reshaped = tf.reshape(img, (img.shape[0], img.shape[1], 1))\n",
    "tf.print('새로운 크기:', img_reshaped.shape)"
   ]
  },
  {
   "cell_type": "markdown",
   "metadata": {
    "id": "Zy4sB8jVifCd"
   },
   "source": [
    "### 드롭아웃으로 신경망 규제"
   ]
  },
  {
   "cell_type": "code",
   "execution_count": 20,
   "metadata": {
    "colab": {
     "base_uri": "https://localhost:8080/",
     "height": 379
    },
    "id": "Lrc2CPzwifCe",
    "outputId": "0e5ca32a-381a-4c74-c13d-b457bcb15c42"
   },
   "outputs": [
    {
     "data": {
      "text/html": [
       "<img src=\"https://git.io/JL5Oh\" width=\"700\"/>"
      ],
      "text/plain": [
       "<IPython.core.display.Image object>"
      ]
     },
     "execution_count": 20,
     "metadata": {
      "tags": []
     },
     "output_type": "execute_result"
    }
   ],
   "source": [
    "Image(url='https://git.io/JL5Oh', width=700)"
   ]
  },
  {
   "cell_type": "code",
   "execution_count": 21,
   "metadata": {
    "id": "Mp-rHuGVifCe"
   },
   "outputs": [],
   "source": [
    "from tensorflow import keras\n",
    "\n",
    "\n",
    "conv_layer = keras.layers.Conv2D(\n",
    "    filters=16, kernel_size=(3, 3),\n",
    "    kernel_regularizer=keras.regularizers.l2(0.001))\n",
    "\n",
    "fc_layer = keras.layers.Dense(\n",
    "    units=16, kernel_regularizer=keras.regularizers.l2(0.001))"
   ]
  },
  {
   "cell_type": "markdown",
   "metadata": {
    "id": "Kv1zkQutifCe"
   },
   "source": [
    "### 분류를 위한 손실 함수\n",
    "\n",
    " * **`BinaryCrossentropy()`**\n",
    "   * `from_logits=False` \n",
    "   * `from_logits=True`\n",
    "\n",
    " * **`CategoricalCrossentropy()`**\n",
    "   * `from_logits=False`\n",
    "   * `from_logits=True`\n",
    "   \n",
    " * **`SparseCategoricalCrossentropy()`**\n",
    "   * `from_logits=False`\n",
    "   * `from_logits=True`"
   ]
  },
  {
   "cell_type": "code",
   "execution_count": 22,
   "metadata": {
    "colab": {
     "base_uri": "https://localhost:8080/",
     "height": 357
    },
    "id": "iOAinQEQifCe",
    "outputId": "5314da16-d14d-48c9-97da-2223d4807678"
   },
   "outputs": [
    {
     "data": {
      "text/html": [
       "<img src=\"https://git.io/JL53f\" width=\"800\"/>"
      ],
      "text/plain": [
       "<IPython.core.display.Image object>"
      ]
     },
     "execution_count": 22,
     "metadata": {
      "tags": []
     },
     "output_type": "execute_result"
    }
   ],
   "source": [
    "Image(url='https://git.io/JL53f', width=800)"
   ]
  },
  {
   "cell_type": "code",
   "execution_count": 23,
   "metadata": {
    "colab": {
     "base_uri": "https://localhost:8080/"
    },
    "id": "B5oj-jDgifCf",
    "outputId": "08140cba-9784-4096-8ad6-a014e30335a3"
   },
   "outputs": [
    {
     "name": "stdout",
     "output_type": "stream",
     "text": [
      "BCE (확률): 0.3711 (로짓): 0.3711\n",
      "CCE (확률): 0.5996 (로짓): 0.5996\n",
      "Sparse CCE (확률): 0.5996 (로짓): 0.5996\n"
     ]
    }
   ],
   "source": [
    "from distutils.version import LooseVersion as Version\n",
    "\n",
    "\n",
    "####### 이진 크로스 엔트로피\n",
    "bce_probas = tf.keras.losses.BinaryCrossentropy(from_logits=False)\n",
    "bce_logits = tf.keras.losses.BinaryCrossentropy(from_logits=True)\n",
    "\n",
    "logits = tf.constant([0.8])\n",
    "probas = tf.keras.activations.sigmoid(logits)\n",
    "\n",
    "tf.print(\n",
    "    'BCE (확률): {:.4f}'.format(\n",
    "    bce_probas(y_true=[1], y_pred=probas)),\n",
    "    '(로짓): {:.4f}'.format(\n",
    "    bce_logits(y_true=[1], y_pred=logits)))\n",
    "\n",
    "\n",
    "####### 범주형 크로스 엔트로피\n",
    "cce_probas = tf.keras.losses.CategoricalCrossentropy(\n",
    "    from_logits=False)\n",
    "cce_logits = tf.keras.losses.CategoricalCrossentropy(\n",
    "    from_logits=True)\n",
    "\n",
    "logits = tf.constant([[1.5, 0.8, 2.1]])\n",
    "probas = tf.keras.activations.softmax(logits)\n",
    "\n",
    "if Version(tf.__version__) >= '2.3.0':\n",
    "    tf.print(\n",
    "        'CCE (확률): {:.4f}'.format(\n",
    "        cce_probas(y_true=[[0, 0, 1]], y_pred=probas)),\n",
    "        '(로짓): {:.4f}'.format(\n",
    "        cce_logits(y_true=[[0, 0, 1]], y_pred=logits)))\n",
    "else:\n",
    "    tf.print(\n",
    "        'CCE (확률): {:.4f}'.format(\n",
    "        cce_probas(y_true=[0, 0, 1], y_pred=probas)),\n",
    "        '(로짓): {:.4f}'.format(\n",
    "        cce_logits(y_true=[0, 0, 1], y_pred=logits)))\n",
    "\n",
    "####### 희소 범주형 크로스 엔트로피\n",
    "sp_cce_probas = tf.keras.losses.SparseCategoricalCrossentropy(\n",
    "    from_logits=False)\n",
    "sp_cce_logits = tf.keras.losses.SparseCategoricalCrossentropy(\n",
    "    from_logits=True)\n",
    "\n",
    "tf.print(\n",
    "    'Sparse CCE (확률): {:.4f}'.format(\n",
    "    sp_cce_probas(y_true=[2], y_pred=probas)),\n",
    "    '(로짓): {:.4f}'.format(\n",
    "    sp_cce_logits(y_true=[2], y_pred=logits)))"
   ]
  },
  {
   "cell_type": "markdown",
   "metadata": {
    "id": "EcQnpguXifCf"
   },
   "source": [
    "## 텐서플로를 사용하여 심층 합성곱 신경망 구현\n",
    "\n",
    "### 다층 CNN 구조"
   ]
  },
  {
   "cell_type": "code",
   "execution_count": 24,
   "metadata": {
    "colab": {
     "base_uri": "https://localhost:8080/",
     "height": 288
    },
    "id": "n893uGaEifCf",
    "outputId": "ddd39a90-f796-4420-80b0-8086036135dd"
   },
   "outputs": [
    {
     "data": {
      "text/html": [
       "<img src=\"https://git.io/JL53U\" width=\"800\"/>"
      ],
      "text/plain": [
       "<IPython.core.display.Image object>"
      ]
     },
     "execution_count": 24,
     "metadata": {
      "tags": []
     },
     "output_type": "execute_result"
    }
   ],
   "source": [
    "Image(url='https://git.io/JL53U', width=800)"
   ]
  },
  {
   "cell_type": "markdown",
   "metadata": {
    "id": "klgI_t62ifCf"
   },
   "source": [
    "### 데이터 적재와 전처리"
   ]
  },
  {
   "cell_type": "code",
   "execution_count": 25,
   "metadata": {
    "id": "qGT2_kbKifCf"
   },
   "outputs": [],
   "source": [
    "import tensorflow_datasets as tfds\n",
    "import pandas as pd\n",
    "\n",
    "import matplotlib.pyplot as plt"
   ]
  },
  {
   "cell_type": "code",
   "execution_count": 26,
   "metadata": {
    "colab": {
     "base_uri": "https://localhost:8080/"
    },
    "id": "csMbYS6PifCf",
    "outputId": "eff76e54-c167-411d-b14c-de506e073b76"
   },
   "outputs": [
    {
     "name": "stdout",
     "output_type": "stream",
     "text": [
      "dict_keys(['test', 'train'])\n"
     ]
    }
   ],
   "source": [
    "## MNIST 데이터셋\n",
    "\n",
    "mnist_bldr = tfds.builder('mnist')\n",
    "mnist_bldr.download_and_prepare()\n",
    "datasets = mnist_bldr.as_dataset(shuffle_files=False)\n",
    "print(datasets.keys())\n",
    "mnist_train_orig, mnist_test_orig = datasets['train'], datasets['test']"
   ]
  },
  {
   "cell_type": "code",
   "execution_count": 27,
   "metadata": {
    "id": "B0b0Q15oifCg"
   },
   "outputs": [],
   "source": [
    "BUFFER_SIZE = 10000\n",
    "BATCH_SIZE = 64\n",
    "NUM_EPOCHS = 20"
   ]
  },
  {
   "cell_type": "code",
   "execution_count": 28,
   "metadata": {
    "id": "PnBbEngHifCg"
   },
   "outputs": [],
   "source": [
    "mnist_train = mnist_train_orig.map(\n",
    "    lambda item: (tf.cast(item['image'], tf.float32)/255.0, \n",
    "                  tf.cast(item['label'], tf.int32)))\n",
    "\n",
    "mnist_test = mnist_test_orig.map(\n",
    "    lambda item: (tf.cast(item['image'], tf.float32)/255.0, \n",
    "                  tf.cast(item['label'], tf.int32)))\n",
    "\n",
    "tf.random.set_seed(1)\n",
    "\n",
    "mnist_train = mnist_train.shuffle(buffer_size=BUFFER_SIZE,\n",
    "                                  reshuffle_each_iteration=False)\n",
    "\n",
    "mnist_valid = mnist_train.take(10000).batch(BATCH_SIZE)\n",
    "mnist_train = mnist_train.skip(10000).batch(BATCH_SIZE)"
   ]
  },
  {
   "cell_type": "markdown",
   "metadata": {
    "id": "HIa1GMPZifCg"
   },
   "source": [
    "### 텐서플로 케라스 API를 사용해 CNN 구현하기\n",
    "\n",
    "#### 케라스에서 CNN 층 설정하기\n",
    "\n",
    " * **Conv2D:** `tf.keras.layers.Conv2D`\n",
    "   * `filters`\n",
    "   * `kernel_size`\n",
    "   * `strides`\n",
    "   * `padding`\n",
    "   \n",
    "   \n",
    " * **MaxPool2D:** `tf.keras.layers.MaxPool2D`\n",
    "   * `pool_size`\n",
    "   * `strides`\n",
    "   * `padding`\n",
    "   \n",
    "   \n",
    " * **Dropout** `tf.keras.layers.Dropout2D`\n",
    "   * `rate`"
   ]
  },
  {
   "cell_type": "markdown",
   "metadata": {
    "id": "Dg1drzu5ifCg"
   },
   "source": [
    "#### 케라스로 CNN 구성하기"
   ]
  },
  {
   "cell_type": "code",
   "execution_count": 29,
   "metadata": {
    "id": "oZnaVWxQifCg"
   },
   "outputs": [],
   "source": [
    "model = tf.keras.Sequential()\n",
    "\n",
    "model.add(tf.keras.layers.Conv2D(\n",
    "    filters=32, kernel_size=(5, 5),\n",
    "    strides=(1, 1), padding='same',\n",
    "    data_format='channels_last',\n",
    "    name='conv_1', activation='relu'))\n",
    "\n",
    "model.add(tf.keras.layers.MaxPool2D(\n",
    "    pool_size=(2, 2), name='pool_1'))\n",
    "    \n",
    "model.add(tf.keras.layers.Conv2D(\n",
    "    filters=64, kernel_size=(5, 5),\n",
    "    strides=(1, 1), padding='same',\n",
    "    name='conv_2', activation='relu'))\n",
    "\n",
    "model.add(tf.keras.layers.MaxPool2D(pool_size=(2, 2), name='pool_2'))"
   ]
  },
  {
   "cell_type": "code",
   "execution_count": 30,
   "metadata": {
    "colab": {
     "base_uri": "https://localhost:8080/"
    },
    "id": "v5b9cESoifCg",
    "outputId": "4fce20e6-051d-454a-b8f9-14930d9f76d3"
   },
   "outputs": [
    {
     "data": {
      "text/plain": [
       "TensorShape([16, 7, 7, 64])"
      ]
     },
     "execution_count": 30,
     "metadata": {
      "tags": []
     },
     "output_type": "execute_result"
    }
   ],
   "source": [
    "model.compute_output_shape(input_shape=(16, 28, 28, 1))"
   ]
  },
  {
   "cell_type": "code",
   "execution_count": 31,
   "metadata": {
    "colab": {
     "base_uri": "https://localhost:8080/"
    },
    "id": "CinCB6uKifCg",
    "outputId": "c95db01b-a53b-460b-fbcf-1040d7077f7c"
   },
   "outputs": [
    {
     "data": {
      "text/plain": [
       "TensorShape([16, 3136])"
      ]
     },
     "execution_count": 31,
     "metadata": {
      "tags": []
     },
     "output_type": "execute_result"
    }
   ],
   "source": [
    "model.add(tf.keras.layers.Flatten())\n",
    "    \n",
    "model.compute_output_shape(input_shape=(16, 28, 28, 1))"
   ]
  },
  {
   "cell_type": "code",
   "execution_count": 32,
   "metadata": {
    "id": "9zQEJSKTifCh"
   },
   "outputs": [],
   "source": [
    "model.add(tf.keras.layers.Dense(\n",
    "    units=1024, name='fc_1', \n",
    "    activation='relu'))\n",
    "\n",
    "model.add(tf.keras.layers.Dropout(\n",
    "    rate=0.5))\n",
    "    \n",
    "model.add(tf.keras.layers.Dense(\n",
    "    units=10, name='fc_2',\n",
    "    activation='softmax'))"
   ]
  },
  {
   "cell_type": "code",
   "execution_count": 33,
   "metadata": {
    "colab": {
     "base_uri": "https://localhost:8080/"
    },
    "id": "xd3wAxU2ifCh",
    "outputId": "436ffafb-8be3-4b77-f036-6cf2afd80089"
   },
   "outputs": [
    {
     "data": {
      "text/plain": [
       "TensorShape([16, 10])"
      ]
     },
     "execution_count": 33,
     "metadata": {
      "tags": []
     },
     "output_type": "execute_result"
    }
   ],
   "source": [
    "tf.random.set_seed(1)\n",
    "model.build(input_shape=(None, 28, 28, 1))\n",
    "\n",
    "model.compute_output_shape(input_shape=(16, 28, 28, 1))"
   ]
  },
  {
   "cell_type": "code",
   "execution_count": 34,
   "metadata": {
    "colab": {
     "base_uri": "https://localhost:8080/"
    },
    "id": "sKsAwaKtifCh",
    "outputId": "62a6d9bb-18f1-4655-e087-b3ea6ea775ef"
   },
   "outputs": [
    {
     "name": "stdout",
     "output_type": "stream",
     "text": [
      "Model: \"sequential\"\n",
      "_________________________________________________________________\n",
      "Layer (type)                 Output Shape              Param #   \n",
      "=================================================================\n",
      "conv_1 (Conv2D)              (None, 28, 28, 32)        832       \n",
      "_________________________________________________________________\n",
      "pool_1 (MaxPooling2D)        (None, 14, 14, 32)        0         \n",
      "_________________________________________________________________\n",
      "conv_2 (Conv2D)              (None, 14, 14, 64)        51264     \n",
      "_________________________________________________________________\n",
      "pool_2 (MaxPooling2D)        (None, 7, 7, 64)          0         \n",
      "_________________________________________________________________\n",
      "flatten (Flatten)            (None, 3136)              0         \n",
      "_________________________________________________________________\n",
      "fc_1 (Dense)                 (None, 1024)              3212288   \n",
      "_________________________________________________________________\n",
      "dropout (Dropout)            (None, 1024)              0         \n",
      "_________________________________________________________________\n",
      "fc_2 (Dense)                 (None, 10)                10250     \n",
      "=================================================================\n",
      "Total params: 3,274,634\n",
      "Trainable params: 3,274,634\n",
      "Non-trainable params: 0\n",
      "_________________________________________________________________\n"
     ]
    }
   ],
   "source": [
    "model.summary()"
   ]
  },
  {
   "cell_type": "code",
   "execution_count": 35,
   "metadata": {
    "colab": {
     "base_uri": "https://localhost:8080/"
    },
    "id": "9-yPq6g9ifCh",
    "outputId": "4e636dc8-b050-4354-8cc2-9c158a1b0d0e"
   },
   "outputs": [
    {
     "name": "stdout",
     "output_type": "stream",
     "text": [
      "Epoch 1/20\n",
      "782/782 [==============================] - 12s 10ms/step - loss: 0.3113 - accuracy: 0.9011 - val_loss: 0.0481 - val_accuracy: 0.9844\n",
      "Epoch 2/20\n",
      "782/782 [==============================] - 6s 7ms/step - loss: 0.0480 - accuracy: 0.9849 - val_loss: 0.0417 - val_accuracy: 0.9872\n",
      "Epoch 3/20\n",
      "782/782 [==============================] - 6s 7ms/step - loss: 0.0304 - accuracy: 0.9901 - val_loss: 0.0493 - val_accuracy: 0.9858\n",
      "Epoch 4/20\n",
      "782/782 [==============================] - 6s 7ms/step - loss: 0.0253 - accuracy: 0.9921 - val_loss: 0.0393 - val_accuracy: 0.9892\n",
      "Epoch 5/20\n",
      "782/782 [==============================] - 6s 7ms/step - loss: 0.0184 - accuracy: 0.9939 - val_loss: 0.0441 - val_accuracy: 0.9890\n",
      "Epoch 6/20\n",
      "782/782 [==============================] - 6s 7ms/step - loss: 0.0175 - accuracy: 0.9944 - val_loss: 0.0422 - val_accuracy: 0.9894\n",
      "Epoch 7/20\n",
      "782/782 [==============================] - 6s 7ms/step - loss: 0.0110 - accuracy: 0.9963 - val_loss: 0.0428 - val_accuracy: 0.9901\n",
      "Epoch 8/20\n",
      "782/782 [==============================] - 6s 7ms/step - loss: 0.0115 - accuracy: 0.9962 - val_loss: 0.0456 - val_accuracy: 0.9892\n",
      "Epoch 9/20\n",
      "782/782 [==============================] - 6s 7ms/step - loss: 0.0089 - accuracy: 0.9971 - val_loss: 0.0485 - val_accuracy: 0.9899\n",
      "Epoch 10/20\n",
      "782/782 [==============================] - 6s 7ms/step - loss: 0.0105 - accuracy: 0.9965 - val_loss: 0.0421 - val_accuracy: 0.9898\n",
      "Epoch 11/20\n",
      "782/782 [==============================] - 6s 7ms/step - loss: 0.0093 - accuracy: 0.9970 - val_loss: 0.0446 - val_accuracy: 0.9916\n",
      "Epoch 12/20\n",
      "782/782 [==============================] - 6s 7ms/step - loss: 0.0077 - accuracy: 0.9975 - val_loss: 0.0578 - val_accuracy: 0.9890\n",
      "Epoch 13/20\n",
      "782/782 [==============================] - 6s 7ms/step - loss: 0.0073 - accuracy: 0.9982 - val_loss: 0.0508 - val_accuracy: 0.9918\n",
      "Epoch 14/20\n",
      "782/782 [==============================] - 7s 8ms/step - loss: 0.0046 - accuracy: 0.9983 - val_loss: 0.0688 - val_accuracy: 0.9890\n",
      "Epoch 15/20\n",
      "782/782 [==============================] - 6s 7ms/step - loss: 0.0062 - accuracy: 0.9980 - val_loss: 0.0548 - val_accuracy: 0.9907\n",
      "Epoch 16/20\n",
      "782/782 [==============================] - 6s 7ms/step - loss: 0.0100 - accuracy: 0.9970 - val_loss: 0.0592 - val_accuracy: 0.9911\n",
      "Epoch 17/20\n",
      "782/782 [==============================] - 6s 7ms/step - loss: 0.0046 - accuracy: 0.9984 - val_loss: 0.0600 - val_accuracy: 0.9910\n",
      "Epoch 18/20\n",
      "782/782 [==============================] - 6s 7ms/step - loss: 0.0064 - accuracy: 0.9980 - val_loss: 0.0704 - val_accuracy: 0.9897\n",
      "Epoch 19/20\n",
      "782/782 [==============================] - 6s 7ms/step - loss: 0.0052 - accuracy: 0.9983 - val_loss: 0.0638 - val_accuracy: 0.9899\n",
      "Epoch 20/20\n",
      "782/782 [==============================] - 6s 7ms/step - loss: 0.0047 - accuracy: 0.9984 - val_loss: 0.0553 - val_accuracy: 0.9917\n"
     ]
    }
   ],
   "source": [
    "model.compile(optimizer=tf.keras.optimizers.Adam(),\n",
    "              loss=tf.keras.losses.SparseCategoricalCrossentropy(),\n",
    "              metrics=['accuracy']) # same as `tf.keras.metrics.SparseCategoricalAccuracy(name='accuracy')`\n",
    "\n",
    "history = model.fit(mnist_train, epochs=NUM_EPOCHS, \n",
    "                    validation_data=mnist_valid, \n",
    "                    shuffle=True)"
   ]
  },
  {
   "cell_type": "code",
   "execution_count": 36,
   "metadata": {
    "colab": {
     "base_uri": "https://localhost:8080/",
     "height": 286
    },
    "id": "a06czk7ZifCh",
    "outputId": "a2661698-7225-4b51-f6a2-7b7167b78088"
   },
   "outputs": [
    {
     "data": {
      "image/png": "[encoded data removed]",
      "text/plain": [
       "<Figure size 864x288 with 2 Axes>"
      ]
     },
     "metadata": {
      "needs_background": "light",
      "tags": []
     },
     "output_type": "display_data"
    }
   ],
   "source": [
    "hist = history.history\n",
    "x_arr = np.arange(len(hist['loss'])) + 1\n",
    "\n",
    "fig = plt.figure(figsize=(12, 4))\n",
    "ax = fig.add_subplot(1, 2, 1)\n",
    "ax.plot(x_arr, hist['loss'], '-o', label='Train loss')\n",
    "ax.plot(x_arr, hist['val_loss'], '--<', label='Validation loss')\n",
    "ax.set_xlabel('Epoch', size=15)\n",
    "ax.set_ylabel('Loss', size=15)\n",
    "ax.legend(fontsize=15)\n",
    "ax = fig.add_subplot(1, 2, 2)\n",
    "ax.plot(x_arr, hist['accuracy'], '-o', label='Train acc.')\n",
    "ax.plot(x_arr, hist['val_accuracy'], '--<', label='Validation acc.')\n",
    "ax.legend(fontsize=15)\n",
    "ax.set_xlabel('Epoch', size=15)\n",
    "ax.set_ylabel('Accuracy', size=15)\n",
    "\n",
    "#plt.savefig('images/15_12.png', dpi=300)\n",
    "plt.show()"
   ]
  },
  {
   "cell_type": "code",
   "execution_count": 37,
   "metadata": {
    "colab": {
     "base_uri": "https://localhost:8080/"
    },
    "id": "d3dx-LhlifCi",
    "outputId": "59ccc88f-5f41-48cf-a9ca-e388aa329c4c"
   },
   "outputs": [
    {
     "name": "stdout",
     "output_type": "stream",
     "text": [
      "500/500 [==============================] - 2s 3ms/step - loss: 0.0449 - accuracy: 0.9927\n",
      "\n",
      "테스트 정확도 99.27%\n"
     ]
    }
   ],
   "source": [
    "test_results = model.evaluate(mnist_test.batch(20))\n",
    "print('\\n테스트 정확도 {:.2f}%'.format(test_results[1]*100))"
   ]
  },
  {
   "cell_type": "code",
   "execution_count": 38,
   "metadata": {
    "colab": {
     "base_uri": "https://localhost:8080/",
     "height": 283
    },
    "id": "T7kb_hRaifCi",
    "outputId": "361038a5-2432-4307-d0f8-26f16df2a92d",
    "scrolled": true
   },
   "outputs": [
    {
     "name": "stdout",
     "output_type": "stream",
     "text": [
      "TensorShape([12, 10])\n",
      "tf.Tensor([2 0 4 8 7 6 0 6 3 1 8 0], shape=(12,), dtype=int64)\n"
     ]
    },
    {
     "data": {
      "image/png": "[encoded data removed]",
      "text/plain": [
       "<Figure size 864x288 with 12 Axes>"
      ]
     },
     "metadata": {
      "tags": []
     },
     "output_type": "display_data"
    }
   ],
   "source": [
    "batch_test = next(iter(mnist_test.batch(12)))\n",
    "\n",
    "preds = model(batch_test[0])\n",
    "\n",
    "tf.print(preds.shape)\n",
    "preds = tf.argmax(preds, axis=1)\n",
    "print(preds)\n",
    "\n",
    "fig = plt.figure(figsize=(12, 4))\n",
    "for i in range(12):\n",
    "    ax = fig.add_subplot(2, 6, i+1)\n",
    "    ax.set_xticks([]); ax.set_yticks([])\n",
    "    img = batch_test[0][i, :, :, 0]\n",
    "    ax.imshow(img, cmap='gray_r')\n",
    "    ax.text(0.9, 0.1, '{}'.format(preds[i]), \n",
    "            size=15, color='blue',\n",
    "            horizontalalignment='center',\n",
    "            verticalalignment='center', \n",
    "            transform=ax.transAxes)\n",
    "    \n",
    "#plt.savefig('images/15_13.png', dpi=300)\n",
    "plt.show()"
   ]
  },
  {
   "cell_type": "code",
   "execution_count": 39,
   "metadata": {
    "id": "5sLLwpHLifCi"
   },
   "outputs": [],
   "source": [
    "import os\n",
    "\n",
    "if not os.path.exists('models'):\n",
    "    os.mkdir('models')\n",
    "\n",
    "\n",
    "model.save('models/mnist-cnn.h5')"
   ]
  }
 ],
 "metadata": {
  "accelerator": "GPU",
  "colab": {
   "name": "ch15_part1.ipynb",
   "provenance": []
  },
  "kernelspec": {
   "display_name": "Python 3",
   "language": "python",
   "name": "python3"
  },
  "language_info": {
   "codemirror_mode": {
    "name": "ipython",
    "version": 3
   },
   "file_extension": ".py",
   "mimetype": "text/x-python",
   "name": "python",
   "nbconvert_exporter": "python",
   "pygments_lexer": "ipython3",
   "version": "3.7.3"
  }
 },
 "nbformat": 4,
 "nbformat_minor": 4
}
