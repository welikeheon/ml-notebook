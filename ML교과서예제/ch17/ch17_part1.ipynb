{
 "cells": [
  {
   "cell_type": "markdown",
   "metadata": {
    "id": "9y222HgfM-OA"
   },
   "source": [
    "# 머신 러닝 교과서 3판"
   ]
  },
  {
   "cell_type": "markdown",
   "metadata": {
    "id": "-5SXCZX_M-OD"
   },
   "source": [
    "# 17장 - 새로운 데이터 합성을 위한 생성적 적대 신경망 (1/2)"
   ]
  },
  {
   "cell_type": "markdown",
   "metadata": {
    "id": "hx1MAB0FbouH"
   },
   "source": [
    "**아래 링크를 통해 이 노트북을 주피터 노트북 뷰어(nbviewer.jupyter.org)로 보거나 구글 코랩(colab.research.google.com)에서 실행할 수 있습니다.**\n",
    "\n",
    "<table class=\"tfo-notebook-buttons\" align=\"left\">\n",
    "  <td>\n",
    "    <a target=\"_blank\" href=\"https://nbviewer.jupyter.org/github/rickiepark/python-machine-learning-book-3rd-edition/blob/master/ch17/ch17_part1.ipynb\"><img src=\"https://jupyter.org/assets/main-logo.svg\" width=\"28\" />주피터 노트북 뷰어로 보기</a>\n",
    "  </td>\n",
    "  <td>\n",
    "    <a target=\"_blank\" href=\"https://colab.research.google.com/github/rickiepark/python-machine-learning-book-3rd-edition/blob/master/ch17/ch17_part1.ipynb\"><img src=\"https://www.tensorflow.org/images/colab_logo_32px.png\" />구글 코랩(Colab)에서 실행하기</a>\n",
    "  </td>\n",
    "</table>"
   ]
  },
  {
   "cell_type": "markdown",
   "metadata": {
    "id": "4wzfKSEhbouH"
   },
   "source": [
    "### 목차"
   ]
  },
  {
   "cell_type": "markdown",
   "metadata": {
    "id": "1vc8_zr4bouH"
   },
   "source": [
    "- 생성적 적대 신경망 소개\n",
    "    - 오토인코더\n",
    "    - 새로운 데이터 합성을 위한 생성 모델\n",
    "    - GAN으로 새로운 샘플 생성하기\n",
    "    - GAN의 생성자와 판별자 손실 함수 이해하기\n",
    "- 밑바닥부터 GAN 모델 구현하기\n",
    "    - 구글 코랩에서 GAN 모델 훈련하기\n",
    "    - 생성자와 판별자 신경망 구현하기\n",
    "    - 훈련 데이터셋 정의하기\n",
    "    - GAN 모델 훈련하기"
   ]
  },
  {
   "cell_type": "code",
   "execution_count": 1,
   "metadata": {
    "id": "2AfJgihdM-OE"
   },
   "outputs": [],
   "source": [
    "from IPython.display import Image"
   ]
  },
  {
   "cell_type": "markdown",
   "metadata": {
    "id": "41bk3eM5M-OE"
   },
   "source": [
    "# 생성적 적대 신경망 소개\n",
    "\n",
    "## 오토인코더"
   ]
  },
  {
   "cell_type": "code",
   "execution_count": 2,
   "metadata": {
    "colab": {
     "base_uri": "https://localhost:8080/",
     "height": 470
    },
    "id": "phbH6zGQM-OE",
    "outputId": "b1d09579-bc30-41c7-f2a2-31884ea1b97e"
   },
   "outputs": [
    {
     "data": {
      "text/html": [
       "<img src=\"https://git.io/JLAQ2\" width=\"500\"/>"
      ],
      "text/plain": [
       "<IPython.core.display.Image object>"
      ]
     },
     "execution_count": 2,
     "metadata": {
      "tags": []
     },
     "output_type": "execute_result"
    }
   ],
   "source": [
    "Image(url='https://git.io/JLAQ2', width=500)"
   ]
  },
  {
   "cell_type": "markdown",
   "metadata": {
    "id": "Cuw0DGR2M-OF"
   },
   "source": [
    "## 새로운 데이터 합성을 위한 생성 모델"
   ]
  },
  {
   "cell_type": "code",
   "execution_count": 3,
   "metadata": {
    "colab": {
     "base_uri": "https://localhost:8080/",
     "height": 437
    },
    "id": "ziTpZ3G5M-OF",
    "outputId": "df8f3c08-9031-4df8-80ab-23eb751b8701"
   },
   "outputs": [
    {
     "data": {
      "text/html": [
       "<img src=\"https://git.io/JLAQH\" width=\"700\"/>"
      ],
      "text/plain": [
       "<IPython.core.display.Image object>"
      ]
     },
     "execution_count": 3,
     "metadata": {
      "tags": []
     },
     "output_type": "execute_result"
    }
   ],
   "source": [
    "Image(url='https://git.io/JLAQH', width=700)"
   ]
  },
  {
   "cell_type": "markdown",
   "metadata": {
    "id": "U1DsTJvLM-OF"
   },
   "source": [
    "## GAN으로 새로운 샘플 생성하기"
   ]
  },
  {
   "cell_type": "code",
   "execution_count": 4,
   "metadata": {
    "colab": {
     "base_uri": "https://localhost:8080/",
     "height": 337
    },
    "id": "2DijKimVM-OF",
    "outputId": "f2f95fce-9401-4adf-8c88-7e71294b4f6f"
   },
   "outputs": [
    {
     "data": {
      "text/html": [
       "<img src=\"https://git.io/JLAQ7\" width=\"700\"/>"
      ],
      "text/plain": [
       "<IPython.core.display.Image object>"
      ]
     },
     "execution_count": 4,
     "metadata": {
      "tags": []
     },
     "output_type": "execute_result"
    }
   ],
   "source": [
    "Image(url='https://git.io/JLAQ7', width=700)"
   ]
  },
  {
   "cell_type": "markdown",
   "metadata": {
    "id": "iamOayQfM-OF"
   },
   "source": [
    "## GAN의 생성자와 판별자 손실 함수 이해하기"
   ]
  },
  {
   "cell_type": "code",
   "execution_count": 5,
   "metadata": {
    "colab": {
     "base_uri": "https://localhost:8080/",
     "height": 516
    },
    "id": "P0SEKNGpM-OG",
    "outputId": "adeb9885-752b-4d78-fa55-e9f131409444"
   },
   "outputs": [
    {
     "data": {
      "text/html": [
       "<img src=\"https://git.io/JLAQF\" width=\"800\"/>"
      ],
      "text/plain": [
       "<IPython.core.display.Image object>"
      ]
     },
     "execution_count": 5,
     "metadata": {
      "tags": []
     },
     "output_type": "execute_result"
    }
   ],
   "source": [
    "Image(url='https://git.io/JLAQF', width=800)"
   ]
  },
  {
   "cell_type": "markdown",
   "metadata": {
    "id": "mgleEEF1M-OG"
   },
   "source": [
    "# 밑바닥부터 GAN 모델 구현하기"
   ]
  },
  {
   "cell_type": "markdown",
   "metadata": {
    "id": "a1UBoKm_M-OG"
   },
   "source": [
    "## 구글 코랩에서 GAN 모델 훈련하기"
   ]
  },
  {
   "cell_type": "code",
   "execution_count": 6,
   "metadata": {
    "colab": {
     "base_uri": "https://localhost:8080/",
     "height": 507
    },
    "id": "sBdI0g22M-OG",
    "outputId": "f83c926f-ab99-45c5-ec4f-57acdaec9f9a"
   },
   "outputs": [
    {
     "data": {
      "text/html": [
       "<img src=\"https://git.io/JLAQb\" width=\"700\"/>"
      ],
      "text/plain": [
       "<IPython.core.display.Image object>"
      ]
     },
     "execution_count": 6,
     "metadata": {
      "tags": []
     },
     "output_type": "execute_result"
    }
   ],
   "source": [
    "Image(url='https://git.io/JLAQb', width=700)"
   ]
  },
  {
   "cell_type": "code",
   "execution_count": 7,
   "metadata": {
    "colab": {
     "base_uri": "https://localhost:8080/",
     "height": 526
    },
    "id": "Mf0pXqraM-OH",
    "outputId": "3e72f9d2-9668-4c09-f200-766994028877"
   },
   "outputs": [
    {
     "data": {
      "text/html": [
       "<img src=\"https://git.io/JLAQN\" width=\"600\"/>"
      ],
      "text/plain": [
       "<IPython.core.display.Image object>"
      ]
     },
     "execution_count": 7,
     "metadata": {
      "tags": []
     },
     "output_type": "execute_result"
    }
   ],
   "source": [
    "Image(url='https://git.io/JLAQN', width=600)"
   ]
  },
  {
   "cell_type": "code",
   "execution_count": 8,
   "metadata": {
    "colab": {
     "base_uri": "https://localhost:8080/",
     "height": 533
    },
    "id": "Nd67sNNIM-OH",
    "outputId": "201db3ea-722d-4c50-b686-5443a433a6c9"
   },
   "outputs": [
    {
     "data": {
      "text/html": [
       "<img src=\"https://git.io/JLAQA\" width=\"600\"/>"
      ],
      "text/plain": [
       "<IPython.core.display.Image object>"
      ]
     },
     "execution_count": 8,
     "metadata": {
      "tags": []
     },
     "output_type": "execute_result"
    }
   ],
   "source": [
    "Image(url='https://git.io/JLAQA', width=600)"
   ]
  },
  {
   "cell_type": "code",
   "execution_count": 9,
   "metadata": {
    "colab": {
     "base_uri": "https://localhost:8080/"
    },
    "id": "_khN3hi1xxQ-",
    "outputId": "0720637b-1802-433b-cdb9-f2a3eafc8caa"
   },
   "outputs": [
    {
     "name": "stdout",
     "output_type": "stream",
     "text": [
      "2.4.0\n",
      "GPU 여부: True\n",
      "/device:GPU:0\n"
     ]
    }
   ],
   "source": [
    "import tensorflow as tf\n",
    "print(tf.__version__)\n",
    "\n",
    "print(\"GPU 여부:\", len(tf.config.list_physical_devices('GPU')) > 0)\n",
    "\n",
    "if tf.config.list_physical_devices('GPU'):\n",
    "    device_name = tf.test.gpu_device_name()\n",
    "else:\n",
    "    device_name = 'cpu:0'\n",
    "    \n",
    "print(device_name)"
   ]
  },
  {
   "cell_type": "code",
   "execution_count": 10,
   "metadata": {
    "colab": {
     "base_uri": "https://localhost:8080/"
    },
    "id": "ceNFHOHHNVwz",
    "outputId": "f7d4997b-ea54-41f5-ace1-5d810f4e86b0"
   },
   "outputs": [
    {
     "data": {
      "text/plain": [
       "0"
      ]
     },
     "execution_count": 10,
     "metadata": {
      "tags": []
     },
     "output_type": "execute_result"
    }
   ],
   "source": [
    "tf.config.experimental.get_memory_usage('GPU:0')"
   ]
  },
  {
   "cell_type": "code",
   "execution_count": 11,
   "metadata": {
    "colab": {
     "base_uri": "https://localhost:8080/"
    },
    "id": "5sNcfuwHPQMs",
    "outputId": "ff3dfa5d-73c7-412c-aed8-ab6c950e3df3"
   },
   "outputs": [
    {
     "name": "stdout",
     "output_type": "stream",
     "text": [
      "Thu Jan  7 06:00:50 2021       \n",
      "+-----------------------------------------------------------------------------+\n",
      "| NVIDIA-SMI 460.27.04    Driver Version: 418.67       CUDA Version: 10.1     |\n",
      "|-------------------------------+----------------------+----------------------+\n",
      "| GPU  Name        Persistence-M| Bus-Id        Disp.A | Volatile Uncorr. ECC |\n",
      "| Fan  Temp  Perf  Pwr:Usage/Cap|         Memory-Usage | GPU-Util  Compute M. |\n",
      "|                               |                      |               MIG M. |\n",
      "|===============================+======================+======================|\n",
      "|   0  Tesla P4            Off  | 00000000:00:04.0 Off |                    0 |\n",
      "| N/A   37C    P0    23W /  75W |    209MiB /  7611MiB |      0%      Default |\n",
      "|                               |                      |                 ERR! |\n",
      "+-------------------------------+----------------------+----------------------+\n",
      "                                                                               \n",
      "+-----------------------------------------------------------------------------+\n",
      "| Processes:                                                                  |\n",
      "|  GPU   GI   CI        PID   Type   Process name                  GPU Memory |\n",
      "|        ID   ID                                                   Usage      |\n",
      "|=============================================================================|\n",
      "|  No running processes found                                                 |\n",
      "+-----------------------------------------------------------------------------+\n"
     ]
    }
   ],
   "source": [
    "!nvidia-smi"
   ]
  },
  {
   "cell_type": "code",
   "execution_count": 12,
   "metadata": {
    "colab": {
     "base_uri": "https://localhost:8080/"
    },
    "id": "4_yH3L4wTOLb",
    "outputId": "86aface1-6da2-4297-8b63-76273e4c96bc"
   },
   "outputs": [
    {
     "name": "stdout",
     "output_type": "stream",
     "text": [
      "No LSB modules are available.\n",
      "Distributor ID:\tUbuntu\n",
      "Description:\tUbuntu 18.04.5 LTS\n",
      "Release:\t18.04\n",
      "Codename:\tbionic\n"
     ]
    }
   ],
   "source": [
    "!lsb_release -a"
   ]
  },
  {
   "cell_type": "code",
   "execution_count": 13,
   "metadata": {
    "id": "ehoy80rqwNnl"
   },
   "outputs": [],
   "source": [
    "#from google.colab import drive\n",
    "#drive.mount('/content/drive/')"
   ]
  },
  {
   "cell_type": "markdown",
   "metadata": {
    "id": "jHHcQfM2M-OI"
   },
   "source": [
    "## 생성자와 판별자 신경망 구현하기"
   ]
  },
  {
   "cell_type": "code",
   "execution_count": 14,
   "metadata": {
    "colab": {
     "base_uri": "https://localhost:8080/",
     "height": 473
    },
    "id": "ig_rZtXqM-OI",
    "outputId": "1f16f27c-e6e9-43e6-e0b9-8288bf970091"
   },
   "outputs": [
    {
     "data": {
      "text/html": [
       "<img src=\"https://git.io/JLAQp\" width=\"600\"/>"
      ],
      "text/plain": [
       "<IPython.core.display.Image object>"
      ]
     },
     "execution_count": 14,
     "metadata": {
      "tags": []
     },
     "output_type": "execute_result"
    }
   ],
   "source": [
    "Image(url='https://git.io/JLAQp', width=600)"
   ]
  },
  {
   "cell_type": "code",
   "execution_count": 15,
   "metadata": {
    "colab": {
     "base_uri": "https://localhost:8080/",
     "height": 359
    },
    "id": "uc4FQzczM-OJ",
    "outputId": "4ff17041-dee5-48bd-f405-4f1f03a87995"
   },
   "outputs": [
    {
     "data": {
      "text/html": [
       "<img src=\"https://git.io/JLAQh\" width=\"600\"/>"
      ],
      "text/plain": [
       "<IPython.core.display.Image object>"
      ]
     },
     "execution_count": 15,
     "metadata": {
      "tags": []
     },
     "output_type": "execute_result"
    }
   ],
   "source": [
    "Image(url='https://git.io/JLAQh', width=600)"
   ]
  },
  {
   "cell_type": "code",
   "execution_count": 16,
   "metadata": {
    "id": "FRh8E66HwXRL"
   },
   "outputs": [],
   "source": [
    "import tensorflow as tf\n",
    "import tensorflow_datasets as tfds\n",
    "import numpy as np\n",
    "import matplotlib.pyplot as plt"
   ]
  },
  {
   "cell_type": "code",
   "execution_count": 17,
   "metadata": {
    "id": "tOL56FmXwoL-"
   },
   "outputs": [],
   "source": [
    "## 생성자 함수를 정의합니다:\n",
    "def make_generator_network(\n",
    "        num_hidden_layers=1,\n",
    "        num_hidden_units=100,\n",
    "        num_output_units=784):\n",
    "    model = tf.keras.Sequential()\n",
    "    for i in range(num_hidden_layers):\n",
    "        model.add(\n",
    "            tf.keras.layers.Dense(\n",
    "                units=num_hidden_units, \n",
    "                use_bias=False)\n",
    "            )\n",
    "        model.add(tf.keras.layers.LeakyReLU())\n",
    "        \n",
    "    model.add(tf.keras.layers.Dense(\n",
    "        units=num_output_units, activation='tanh'))\n",
    "    return model\n",
    "\n",
    "## 판별자 함수를 정의합니다:\n",
    "def make_discriminator_network(\n",
    "        num_hidden_layers=1,\n",
    "        num_hidden_units=100,\n",
    "        num_output_units=1):\n",
    "    model = tf.keras.Sequential()\n",
    "    for i in range(num_hidden_layers):\n",
    "        model.add(tf.keras.layers.Dense(units=num_hidden_units))\n",
    "        model.add(tf.keras.layers.LeakyReLU())\n",
    "        model.add(tf.keras.layers.Dropout(rate=0.5))\n",
    "        \n",
    "    model.add(\n",
    "        tf.keras.layers.Dense(\n",
    "            units=num_output_units, \n",
    "            activation=None)\n",
    "        )\n",
    "    return model"
   ]
  },
  {
   "cell_type": "code",
   "execution_count": 18,
   "metadata": {
    "colab": {
     "base_uri": "https://localhost:8080/"
    },
    "id": "9Z4JQb9MxD5p",
    "outputId": "ec093e68-9514-42af-ab7e-67b75519201e"
   },
   "outputs": [
    {
     "name": "stdout",
     "output_type": "stream",
     "text": [
      "Model: \"sequential\"\n",
      "_________________________________________________________________\n",
      "Layer (type)                 Output Shape              Param #   \n",
      "=================================================================\n",
      "dense (Dense)                (None, 100)               2000      \n",
      "_________________________________________________________________\n",
      "leaky_re_lu (LeakyReLU)      (None, 100)               0         \n",
      "_________________________________________________________________\n",
      "dense_1 (Dense)              (None, 784)               79184     \n",
      "=================================================================\n",
      "Total params: 81,184\n",
      "Trainable params: 81,184\n",
      "Non-trainable params: 0\n",
      "_________________________________________________________________\n"
     ]
    }
   ],
   "source": [
    "image_size = (28, 28)\n",
    "z_size = 20\n",
    "mode_z = 'uniform'  # 'uniform' vs. 'normal'\n",
    "gen_hidden_layers = 1\n",
    "gen_hidden_size = 100\n",
    "disc_hidden_layers = 1\n",
    "disc_hidden_size = 100\n",
    "\n",
    "tf.random.set_seed(1)\n",
    "\n",
    "gen_model = make_generator_network(\n",
    "    num_hidden_layers=gen_hidden_layers, \n",
    "    num_hidden_units=gen_hidden_size,\n",
    "    num_output_units=np.prod(image_size))\n",
    "\n",
    "gen_model.build(input_shape=(None, z_size))\n",
    "gen_model.summary()"
   ]
  },
  {
   "cell_type": "code",
   "execution_count": 19,
   "metadata": {
    "colab": {
     "base_uri": "https://localhost:8080/"
    },
    "id": "QAhbOUZHxN1b",
    "outputId": "64d2f5a3-1a94-4972-ef67-47186391b629"
   },
   "outputs": [
    {
     "name": "stdout",
     "output_type": "stream",
     "text": [
      "Model: \"sequential_1\"\n",
      "_________________________________________________________________\n",
      "Layer (type)                 Output Shape              Param #   \n",
      "=================================================================\n",
      "dense_2 (Dense)              (None, 100)               78500     \n",
      "_________________________________________________________________\n",
      "leaky_re_lu_1 (LeakyReLU)    (None, 100)               0         \n",
      "_________________________________________________________________\n",
      "dropout (Dropout)            (None, 100)               0         \n",
      "_________________________________________________________________\n",
      "dense_3 (Dense)              (None, 1)                 101       \n",
      "=================================================================\n",
      "Total params: 78,601\n",
      "Trainable params: 78,601\n",
      "Non-trainable params: 0\n",
      "_________________________________________________________________\n"
     ]
    }
   ],
   "source": [
    "disc_model = make_discriminator_network(\n",
    "    num_hidden_layers=disc_hidden_layers,\n",
    "    num_hidden_units=disc_hidden_size)\n",
    "\n",
    "disc_model.build(input_shape=(None, np.prod(image_size)))\n",
    "disc_model.summary()"
   ]
  },
  {
   "cell_type": "markdown",
   "metadata": {
    "id": "edHUQPQxM-OK"
   },
   "source": [
    "## 훈련 데이터셋 정의하기"
   ]
  },
  {
   "cell_type": "code",
   "execution_count": 20,
   "metadata": {
    "colab": {
     "base_uri": "https://localhost:8080/",
     "height": 290,
     "referenced_widgets": [
      "cb1a8a21d70841b4a2ba27ace07ccb11",
      "1dc2c5d3f42e4e51920b91c3098ba5c5",
      "f11d2daa89a149ad92ad5362f03de0b5",
      "d78d899c3e9c426fb049561894daf335",
      "527d1f8586a449df90bbdd38fd02c29f",
      "3d34dd3e0f09486294c41b372fd63a04",
      "bc37964978a747e883e94134035d847f",
      "bf41d9cedb7548868389eeab2134a90c"
     ]
    },
    "id": "ApQ1ICJixf2w",
    "outputId": "d7bc5247-1b52-4d9d-d224-6f7a59c302b2"
   },
   "outputs": [
    {
     "name": "stdout",
     "output_type": "stream",
     "text": [
      "\u001b[1mDownloading and preparing dataset mnist/3.0.1 (download: 11.06 MiB, generated: 21.00 MiB, total: 32.06 MiB) to /root/tensorflow_datasets/mnist/3.0.1...\u001b[0m\n"
     ]
    },
    {
     "name": "stderr",
     "output_type": "stream",
     "text": [
      "WARNING:absl:Dataset mnist is hosted on GCS. It will automatically be downloaded to your\n",
      "local data directory. If you'd instead prefer to read directly from our public\n",
      "GCS bucket (recommended if you're running on GCP), you can instead pass\n",
      "`try_gcs=True` to `tfds.load` or set `data_dir=gs://tfds-data/datasets`.\n",
      "\n"
     ]
    },
    {
     "data": {
      "application/vnd.jupyter.widget-view+json": {
       "model_id": "cb1a8a21d70841b4a2ba27ace07ccb11",
       "version_major": 2,
       "version_minor": 0
      },
      "text/plain": [
       "HBox(children=(FloatProgress(value=0.0, description='Dl Completed...', max=4.0, style=ProgressStyle(descriptio…"
      ]
     },
     "metadata": {
      "tags": []
     },
     "output_type": "display_data"
    },
    {
     "name": "stdout",
     "output_type": "stream",
     "text": [
      "\n",
      "\n",
      "\u001b[1mDataset mnist downloaded and prepared to /root/tensorflow_datasets/mnist/3.0.1. Subsequent calls will reuse this data.\u001b[0m\n",
      "전처리 전:  \n",
      "dtype:  <dtype: 'uint8'>  최소: 0 최대: 255\n",
      "전처리 후:  \n",
      "dtype:  <dtype: 'float32'>  최소: -0.8737728595733643 최대: 0.9460210800170898\n"
     ]
    }
   ],
   "source": [
    "mnist_bldr = tfds.builder('mnist')\n",
    "mnist_bldr.download_and_prepare()\n",
    "mnist = mnist_bldr.as_dataset(shuffle_files=False)\n",
    "\n",
    "def preprocess(ex, mode='uniform'):\n",
    "    image = ex['image']\n",
    "    image = tf.image.convert_image_dtype(image, tf.float32)\n",
    "    image = tf.reshape(image, [-1])\n",
    "    image = image*2 - 1.0\n",
    "    if mode == 'uniform':\n",
    "        input_z = tf.random.uniform(\n",
    "            shape=(z_size,), minval=-1.0, maxval=1.0)\n",
    "    elif mode == 'normal':\n",
    "        input_z = tf.random.normal(shape=(z_size,))\n",
    "    return input_z, image\n",
    "\n",
    "\n",
    "\n",
    "mnist_trainset = mnist['train']\n",
    "\n",
    "print('전처리 전:  ')\n",
    "example = next(iter(mnist_trainset))['image']\n",
    "print('dtype: ', example.dtype, ' 최소: {} 최대: {}'.format(np.min(example), np.max(example)))\n",
    "\n",
    "mnist_trainset = mnist_trainset.map(preprocess)\n",
    "\n",
    "print('전처리 후:  ')\n",
    "example = next(iter(mnist_trainset))[0]\n",
    "print('dtype: ', example.dtype, ' 최소: {} 최대: {}'.format(np.min(example), np.max(example)))"
   ]
  },
  {
   "cell_type": "markdown",
   "metadata": {
    "id": "HT57CGAz0RDr"
   },
   "source": [
    " * **데이터 흐름을 단계별로 밟아보기**"
   ]
  },
  {
   "cell_type": "code",
   "execution_count": 21,
   "metadata": {
    "colab": {
     "base_uri": "https://localhost:8080/"
    },
    "id": "kdAXXUtryFGs",
    "outputId": "f9a3aeea-2512-45d1-b3db-7eb22683f0df"
   },
   "outputs": [
    {
     "name": "stdout",
     "output_type": "stream",
     "text": [
      "input-z -- 크기: (32, 20)\n",
      "input-real -- 크기: (32, 784)\n",
      "생성자 출력 -- 크기: (32, 784)\n",
      "판별자 (진짜) -- 크기: (32, 1)\n",
      "판별자 (가짜) -- 크기: (32, 1)\n"
     ]
    }
   ],
   "source": [
    "mnist_trainset = mnist_trainset.batch(32, drop_remainder=True)\n",
    "input_z, input_real = next(iter(mnist_trainset))\n",
    "print('input-z -- 크기:', input_z.shape)\n",
    "print('input-real -- 크기:', input_real.shape)\n",
    "\n",
    "g_output = gen_model(input_z)\n",
    "print('생성자 출력 -- 크기:', g_output.shape)\n",
    "\n",
    "d_logits_real = disc_model(input_real)\n",
    "d_logits_fake = disc_model(g_output)\n",
    "print('판별자 (진짜) -- 크기:', d_logits_real.shape)\n",
    "print('판별자 (가짜) -- 크기:', d_logits_fake.shape)"
   ]
  },
  {
   "cell_type": "markdown",
   "metadata": {
    "id": "Nb2H-Ac3M-OK"
   },
   "source": [
    "## GAN 모델 훈련하기"
   ]
  },
  {
   "cell_type": "code",
   "execution_count": 22,
   "metadata": {
    "colab": {
     "base_uri": "https://localhost:8080/"
    },
    "id": "-c9xVvjJySZk",
    "outputId": "f868cd67-9c7e-4edb-859a-e3a32b4d32e7"
   },
   "outputs": [
    {
     "name": "stdout",
     "output_type": "stream",
     "text": [
      "생성자 손실: 0.7355\n",
      "판별자 손실: Real 1.5073 Fake 0.6583\n"
     ]
    }
   ],
   "source": [
    "loss_fn = tf.keras.losses.BinaryCrossentropy(from_logits=True)\n",
    "\n",
    "## 생성자 손실\n",
    "g_labels_real = tf.ones_like(d_logits_fake)\n",
    "g_loss = loss_fn(y_true=g_labels_real, y_pred=d_logits_fake)\n",
    "print('생성자 손실: {:.4f}'.format(g_loss))\n",
    "\n",
    "## 판별자 손실\n",
    "d_labels_real = tf.ones_like(d_logits_real)\n",
    "d_labels_fake = tf.zeros_like(d_logits_fake)\n",
    "\n",
    "d_loss_real = loss_fn(y_true=d_labels_real, y_pred=d_logits_real)\n",
    "d_loss_fake = loss_fn(y_true=d_labels_fake, y_pred=d_logits_fake)\n",
    "print('판별자 손실: 진짜 {:.4f} 가짜 {:.4f}'\n",
    "      .format(d_loss_real.numpy(), d_loss_fake.numpy()))"
   ]
  },
  {
   "cell_type": "markdown",
   "metadata": {
    "id": "jtxdTVyF0KCF"
   },
   "source": [
    " * **최종 훈련**"
   ]
  },
  {
   "cell_type": "code",
   "execution_count": 23,
   "metadata": {
    "colab": {
     "base_uri": "https://localhost:8080/"
    },
    "id": "yeFKLGNfAF5J",
    "outputId": "1a7d8f74-c692-41b3-be1b-c6bb6ec0093f"
   },
   "outputs": [
    {
     "name": "stdout",
     "output_type": "stream",
     "text": [
      "에포크 001 | 시간 0.42 min | 평균 손실 >> 생성자/판별자 2.8665/0.2895 [판별자-진짜: 0.0334 판별자-가짜: 0.2561]\n",
      "에포크 002 | 시간 0.81 min | 평균 손실 >> 생성자/판별자 5.2182/0.3529 [판별자-진짜: 0.1154 판별자-가짜: 0.2375]\n",
      "에포크 003 | 시간 1.20 min | 평균 손실 >> 생성자/판별자 3.0334/0.7355 [판별자-진짜: 0.3271 판별자-가짜: 0.4084]\n",
      "에포크 004 | 시간 1.60 min | 평균 손실 >> 생성자/판별자 2.2255/0.8048 [판별자-진짜: 0.4230 판별자-가짜: 0.3818]\n",
      "에포크 005 | 시간 1.99 min | 평균 손실 >> 생성자/판별자 2.1613/0.8179 [판별자-진짜: 0.4376 판별자-가짜: 0.3803]\n",
      "에포크 006 | 시간 2.38 min | 평균 손실 >> 생성자/판별자 1.8650/0.8739 [판별자-진짜: 0.4802 판별자-가짜: 0.3936]\n",
      "에포크 007 | 시간 2.76 min | 평균 손실 >> 생성자/판별자 1.5680/0.9967 [판별자-진짜: 0.5377 판별자-가짜: 0.4590]\n",
      "에포크 008 | 시간 3.14 min | 평균 손실 >> 생성자/판별자 1.4271/1.0091 [판별자-진짜: 0.5556 판별자-가짜: 0.4535]\n",
      "에포크 009 | 시간 3.53 min | 평균 손실 >> 생성자/판별자 1.4514/1.0203 [판별자-진짜: 0.5551 판별자-가짜: 0.4652]\n",
      "에포크 010 | 시간 3.92 min | 평균 손실 >> 생성자/판별자 1.3668/1.0605 [판별자-진짜: 0.5688 판별자-가짜: 0.4917]\n",
      "에포크 011 | 시간 4.30 min | 평균 손실 >> 생성자/판별자 1.4133/1.0507 [판별자-진짜: 0.5584 판별자-가짜: 0.4923]\n",
      "에포크 012 | 시간 4.68 min | 평균 손실 >> 생성자/판별자 1.3400/1.0857 [판별자-진짜: 0.5758 판별자-가짜: 0.5098]\n",
      "에포크 013 | 시간 5.07 min | 평균 손실 >> 생성자/판별자 1.2172/1.1498 [판별자-진짜: 0.5989 판별자-가짜: 0.5509]\n",
      "에포크 014 | 시간 5.45 min | 평균 손실 >> 생성자/판별자 1.2716/1.1640 [판별자-진짜: 0.5968 판별자-가짜: 0.5672]\n",
      "에포크 015 | 시간 5.83 min | 평균 손실 >> 생성자/판별자 1.1962/1.1786 [판별자-진짜: 0.6091 판별자-가짜: 0.5695]\n",
      "에포크 016 | 시간 6.22 min | 평균 손실 >> 생성자/판별자 1.1588/1.1767 [판별자-진짜: 0.6054 판별자-가짜: 0.5713]\n",
      "에포크 017 | 시간 6.62 min | 평균 손실 >> 생성자/판별자 1.1514/1.1734 [판별자-진짜: 0.6109 판별자-가짜: 0.5625]\n",
      "에포크 018 | 시간 7.01 min | 평균 손실 >> 생성자/판별자 1.2319/1.1455 [판별자-진짜: 0.5881 판별자-가짜: 0.5574]\n",
      "에포크 019 | 시간 7.39 min | 평균 손실 >> 생성자/판별자 1.1900/1.1483 [판별자-진짜: 0.5962 판별자-가짜: 0.5521]\n",
      "에포크 020 | 시간 7.77 min | 평균 손실 >> 생성자/판별자 1.1225/1.1948 [판별자-진짜: 0.6147 판별자-가짜: 0.5801]\n",
      "에포크 021 | 시간 8.14 min | 평균 손실 >> 생성자/판별자 1.1512/1.2045 [판별자-진짜: 0.6120 판별자-가짜: 0.5925]\n",
      "에포크 022 | 시간 8.52 min | 평균 손실 >> 생성자/판별자 1.0407/1.2206 [판별자-진짜: 0.6249 판별자-가짜: 0.5957]\n",
      "에포크 023 | 시간 8.90 min | 평균 손실 >> 생성자/판별자 1.0844/1.2081 [판별자-진짜: 0.6198 판별자-가짜: 0.5883]\n",
      "에포크 024 | 시간 9.28 min | 평균 손실 >> 생성자/판별자 1.1668/1.1909 [판별자-진짜: 0.6055 판별자-가짜: 0.5855]\n",
      "에포크 025 | 시간 9.65 min | 평균 손실 >> 생성자/판별자 1.0661/1.2190 [판별자-진짜: 0.6226 판별자-가짜: 0.5964]\n",
      "에포크 026 | 시간 10.02 min | 평균 손실 >> 생성자/판별자 1.0513/1.2232 [판별자-진짜: 0.6226 판별자-가짜: 0.6006]\n",
      "에포크 027 | 시간 10.41 min | 평균 손실 >> 생성자/판별자 1.0923/1.2147 [판별자-진짜: 0.6161 판별자-가짜: 0.5986]\n",
      "에포크 028 | 시간 10.78 min | 평균 손실 >> 생성자/판별자 1.0421/1.2480 [판별자-진짜: 0.6305 판별자-가짜: 0.6175]\n",
      "에포크 029 | 시간 11.16 min | 평균 손실 >> 생성자/판별자 1.0610/1.2395 [판별자-진짜: 0.6258 판별자-가짜: 0.6137]\n",
      "에포크 030 | 시간 11.56 min | 평균 손실 >> 생성자/판별자 1.0231/1.2459 [판별자-진짜: 0.6314 판별자-가짜: 0.6145]\n",
      "에포크 031 | 시간 11.98 min | 평균 손실 >> 생성자/판별자 1.0308/1.2368 [판별자-진짜: 0.6287 판별자-가짜: 0.6082]\n",
      "에포크 032 | 시간 12.37 min | 평균 손실 >> 생성자/판별자 1.0272/1.2536 [판별자-진짜: 0.6307 판별자-가짜: 0.6229]\n",
      "에포크 033 | 시간 12.75 min | 평균 손실 >> 생성자/판별자 1.0038/1.2614 [판별자-진짜: 0.6357 판별자-가짜: 0.6257]\n",
      "에포크 034 | 시간 13.14 min | 평균 손실 >> 생성자/판별자 0.9990/1.2590 [판별자-진짜: 0.6374 판별자-가짜: 0.6216]\n",
      "에포크 035 | 시간 13.52 min | 평균 손실 >> 생성자/판별자 1.0228/1.2793 [판별자-진짜: 0.6411 판별자-가짜: 0.6383]\n",
      "에포크 036 | 시간 13.90 min | 평균 손실 >> 생성자/판별자 0.9612/1.2889 [판별자-진짜: 0.6498 판별자-가짜: 0.6391]\n",
      "에포크 037 | 시간 14.28 min | 평균 손실 >> 생성자/판별자 0.9817/1.2900 [판별자-진짜: 0.6484 판별자-가짜: 0.6416]\n",
      "에포크 038 | 시간 14.66 min | 평균 손실 >> 생성자/판별자 0.9961/1.2786 [판별자-진짜: 0.6443 판별자-가짜: 0.6343]\n",
      "에포크 039 | 시간 15.04 min | 평균 손실 >> 생성자/판별자 0.9923/1.2694 [판별자-진짜: 0.6391 판별자-가짜: 0.6303]\n",
      "에포크 040 | 시간 15.42 min | 평균 손실 >> 생성자/판별자 0.9697/1.2814 [판별자-진짜: 0.6474 판별자-가짜: 0.6339]\n",
      "에포크 041 | 시간 15.81 min | 평균 손실 >> 생성자/판별자 1.0157/1.2776 [판별자-진짜: 0.6379 판별자-가짜: 0.6396]\n",
      "에포크 042 | 시간 16.19 min | 평균 손실 >> 생성자/판별자 0.9567/1.2866 [판별자-진짜: 0.6471 판별자-가짜: 0.6395]\n",
      "에포크 043 | 시간 16.57 min | 평균 손실 >> 생성자/판별자 0.8861/1.3179 [판별자-진짜: 0.6640 판별자-가짜: 0.6540]\n",
      "에포크 044 | 시간 16.97 min | 평균 손실 >> 생성자/판별자 1.0273/1.2787 [판별자-진짜: 0.6403 판별자-가짜: 0.6384]\n",
      "에포크 045 | 시간 17.37 min | 평균 손실 >> 생성자/판별자 1.0467/1.2610 [판별자-진짜: 0.6338 판별자-가짜: 0.6272]\n",
      "에포크 046 | 시간 17.75 min | 평균 손실 >> 생성자/판별자 0.9496/1.2831 [판별자-진짜: 0.6488 판별자-가짜: 0.6343]\n",
      "에포크 047 | 시간 18.13 min | 평균 손실 >> 생성자/판별자 0.9138/1.3107 [판별자-진짜: 0.6581 판별자-가짜: 0.6525]\n",
      "에포크 048 | 시간 18.52 min | 평균 손실 >> 생성자/판별자 0.9374/1.3018 [판별자-진짜: 0.6532 판별자-가짜: 0.6486]\n",
      "에포크 049 | 시간 18.91 min | 평균 손실 >> 생성자/판별자 0.9828/1.2856 [판별자-진짜: 0.6436 판별자-가짜: 0.6420]\n",
      "에포크 050 | 시간 19.29 min | 평균 손실 >> 생성자/판별자 0.9295/1.2975 [판별자-진짜: 0.6511 판별자-가짜: 0.6464]\n",
      "에포크 051 | 시간 19.68 min | 평균 손실 >> 생성자/판별자 0.9180/1.3116 [판별자-진짜: 0.6593 판별자-가짜: 0.6523]\n",
      "에포크 052 | 시간 20.06 min | 평균 손실 >> 생성자/판별자 0.9478/1.3045 [판별자-진짜: 0.6559 판별자-가짜: 0.6485]\n",
      "에포크 053 | 시간 20.44 min | 평균 손실 >> 생성자/판별자 0.9977/1.2845 [판별자-진짜: 0.6422 판별자-가짜: 0.6423]\n",
      "에포크 054 | 시간 20.83 min | 평균 손실 >> 생성자/판별자 0.9760/1.2877 [판별자-진짜: 0.6507 판별자-가짜: 0.6370]\n",
      "에포크 055 | 시간 21.21 min | 평균 손실 >> 생성자/판별자 0.9236/1.3009 [판별자-진짜: 0.6540 판별자-가짜: 0.6469]\n",
      "에포크 056 | 시간 21.59 min | 평균 손실 >> 생성자/판별자 0.9435/1.2951 [판별자-진짜: 0.6522 판별자-가짜: 0.6429]\n",
      "에포크 057 | 시간 21.98 min | 평균 손실 >> 생성자/판별자 0.9623/1.2953 [판별자-진짜: 0.6506 판별자-가짜: 0.6447]\n",
      "에포크 058 | 시간 22.39 min | 평균 손실 >> 생성자/판별자 0.9485/1.3007 [판별자-진짜: 0.6544 판별자-가짜: 0.6462]\n",
      "에포크 059 | 시간 22.77 min | 평균 손실 >> 생성자/판별자 0.9488/1.2967 [판별자-진짜: 0.6503 판별자-가짜: 0.6464]\n",
      "에포크 060 | 시간 23.15 min | 평균 손실 >> 생성자/판별자 0.9225/1.3088 [판별자-진짜: 0.6570 판별자-가짜: 0.6518]\n",
      "에포크 061 | 시간 23.53 min | 평균 손실 >> 생성자/판별자 0.9267/1.3077 [판별자-진짜: 0.6521 판별자-가짜: 0.6556]\n",
      "에포크 062 | 시간 23.92 min | 평균 손실 >> 생성자/판별자 0.9224/1.3105 [판별자-진짜: 0.6592 판별자-가짜: 0.6512]\n",
      "에포크 063 | 시간 24.30 min | 평균 손실 >> 생성자/판별자 0.9276/1.3111 [판별자-진짜: 0.6577 판별자-가짜: 0.6533]\n",
      "에포크 064 | 시간 24.68 min | 평균 손실 >> 생성자/판별자 0.9249/1.3098 [판별자-진짜: 0.6584 판별자-가짜: 0.6514]\n",
      "에포크 065 | 시간 25.07 min | 평균 손실 >> 생성자/판별자 0.9001/1.3109 [판별자-진짜: 0.6590 판별자-가짜: 0.6519]\n",
      "에포크 066 | 시간 25.44 min | 평균 손실 >> 생성자/판별자 0.9435/1.3136 [판별자-진짜: 0.6584 판별자-가짜: 0.6552]\n",
      "에포크 067 | 시간 25.81 min | 평균 손실 >> 생성자/판별자 0.9537/1.3059 [판별자-진짜: 0.6543 판별자-가짜: 0.6516]\n",
      "에포크 068 | 시간 26.19 min | 평균 손실 >> 생성자/판별자 0.8768/1.3154 [판별자-진짜: 0.6617 판별자-가짜: 0.6537]\n",
      "에포크 069 | 시간 26.56 min | 평균 손실 >> 생성자/판별자 0.8964/1.3219 [판별자-진짜: 0.6613 판별자-가짜: 0.6606]\n",
      "에포크 070 | 시간 26.93 min | 평균 손실 >> 생성자/판별자 0.9685/1.2944 [판별자-진짜: 0.6485 판별자-가짜: 0.6458]\n",
      "에포크 071 | 시간 27.32 min | 평균 손실 >> 생성자/판별자 0.9237/1.3043 [판별자-진짜: 0.6560 판별자-가짜: 0.6483]\n",
      "에포크 072 | 시간 27.71 min | 평균 손실 >> 생성자/판별자 0.9225/1.3055 [판별자-진짜: 0.6558 판별자-가짜: 0.6497]\n",
      "에포크 073 | 시간 28.10 min | 평균 손실 >> 생성자/판별자 0.9260/1.3028 [판별자-진짜: 0.6548 판별자-가짜: 0.6480]\n",
      "에포크 074 | 시간 28.48 min | 평균 손실 >> 생성자/판별자 0.9449/1.3015 [판별자-진짜: 0.6538 판별자-가짜: 0.6477]\n",
      "에포크 075 | 시간 28.86 min | 평균 손실 >> 생성자/판별자 0.9181/1.3067 [판별자-진짜: 0.6554 판별자-가짜: 0.6513]\n",
      "에포크 076 | 시간 29.23 min | 평균 손실 >> 생성자/판별자 0.9343/1.3056 [판별자-진짜: 0.6538 판별자-가짜: 0.6518]\n",
      "에포크 077 | 시간 29.61 min | 평균 손실 >> 생성자/판별자 0.9451/1.3091 [판별자-진짜: 0.6543 판별자-가짜: 0.6548]\n",
      "에포크 078 | 시간 29.98 min | 평균 손실 >> 생성자/판별자 0.9007/1.3105 [판별자-진짜: 0.6576 판별자-가짜: 0.6529]\n",
      "에포크 079 | 시간 30.36 min | 평균 손실 >> 생성자/판별자 0.9416/1.3068 [판별자-진짜: 0.6575 판별자-가짜: 0.6493]\n",
      "에포크 080 | 시간 30.73 min | 평균 손실 >> 생성자/판별자 0.9404/1.3020 [판별자-진짜: 0.6546 판별자-가짜: 0.6473]\n",
      "에포크 081 | 시간 31.11 min | 평균 손실 >> 생성자/판별자 0.9294/1.3046 [판별자-진짜: 0.6571 판별자-가짜: 0.6475]\n",
      "에포크 082 | 시간 31.48 min | 평균 손실 >> 생성자/판별자 0.9248/1.3172 [판별자-진짜: 0.6601 판별자-가짜: 0.6571]\n",
      "에포크 083 | 시간 31.86 min | 평균 손실 >> 생성자/판별자 0.9282/1.3183 [판별자-진짜: 0.6583 판별자-가짜: 0.6600]\n",
      "에포크 084 | 시간 32.23 min | 평균 손실 >> 생성자/판별자 0.8921/1.3230 [판별자-진짜: 0.6645 판별자-가짜: 0.6585]\n",
      "에포크 085 | 시간 32.63 min | 평균 손실 >> 생성자/판별자 0.9641/1.3053 [판별자-진짜: 0.6531 판별자-가짜: 0.6523]\n",
      "에포크 086 | 시간 33.01 min | 평균 손실 >> 생성자/판별자 0.9347/1.3058 [판별자-진짜: 0.6564 판별자-가짜: 0.6494]\n",
      "에포크 087 | 시간 33.39 min | 평균 손실 >> 생성자/판별자 0.8623/1.3313 [판별자-진짜: 0.6685 판별자-가짜: 0.6628]\n",
      "에포크 088 | 시간 33.76 min | 평균 손실 >> 생성자/판별자 0.9660/1.3011 [판별자-진짜: 0.6484 판별자-가짜: 0.6527]\n",
      "에포크 089 | 시간 34.14 min | 평균 손실 >> 생성자/판별자 0.9310/1.3067 [판별자-진짜: 0.6560 판별자-가짜: 0.6507]\n",
      "에포크 090 | 시간 34.52 min | 평균 손실 >> 생성자/판별자 0.9038/1.3144 [판별자-진짜: 0.6596 판별자-가짜: 0.6548]\n",
      "에포크 091 | 시간 34.89 min | 평균 손실 >> 생성자/판별자 0.9309/1.3168 [판별자-진짜: 0.6593 판별자-가짜: 0.6576]\n",
      "에포크 092 | 시간 35.27 min | 평균 손실 >> 생성자/판별자 0.9120/1.3118 [판별자-진짜: 0.6584 판별자-가짜: 0.6534]\n",
      "에포크 093 | 시간 35.64 min | 평균 손실 >> 생성자/판별자 0.9094/1.3180 [판별자-진짜: 0.6606 판별자-가짜: 0.6574]\n",
      "에포크 094 | 시간 36.02 min | 평균 손실 >> 생성자/판별자 0.9522/1.3056 [판별자-진짜: 0.6545 판별자-가짜: 0.6511]\n",
      "에포크 095 | 시간 36.39 min | 평균 손실 >> 생성자/판별자 0.9239/1.3115 [판별자-진짜: 0.6588 판별자-가짜: 0.6528]\n",
      "에포크 096 | 시간 36.77 min | 평균 손실 >> 생성자/판별자 0.8989/1.3177 [판별자-진짜: 0.6617 판별자-가짜: 0.6560]\n",
      "에포크 097 | 시간 37.15 min | 평균 손실 >> 생성자/판별자 0.9082/1.3182 [판별자-진짜: 0.6613 판별자-가짜: 0.6569]\n",
      "에포크 098 | 시간 37.54 min | 평균 손실 >> 생성자/판별자 0.9274/1.3184 [판별자-진짜: 0.6603 판별자-가짜: 0.6582]\n",
      "에포크 099 | 시간 37.92 min | 평균 손실 >> 생성자/판별자 0.9192/1.3157 [판별자-진짜: 0.6596 판별자-가짜: 0.6561]\n",
      "에포크 100 | 시간 38.29 min | 평균 손실 >> 생성자/판별자 0.9237/1.3179 [판별자-진짜: 0.6615 판별자-가짜: 0.6564]\n"
     ]
    }
   ],
   "source": [
    "import time\n",
    "\n",
    "\n",
    "num_epochs = 100\n",
    "batch_size = 64\n",
    "image_size = (28, 28)\n",
    "z_size = 20\n",
    "mode_z = 'uniform'\n",
    "gen_hidden_layers = 1\n",
    "gen_hidden_size = 100\n",
    "disc_hidden_layers = 1\n",
    "disc_hidden_size = 100\n",
    "\n",
    "tf.random.set_seed(1)\n",
    "np.random.seed(1)\n",
    "\n",
    "\n",
    "if mode_z == 'uniform':\n",
    "    fixed_z = tf.random.uniform(\n",
    "        shape=(batch_size, z_size),\n",
    "        minval=-1, maxval=1)\n",
    "elif mode_z == 'normal':\n",
    "    fixed_z = tf.random.normal(\n",
    "        shape=(batch_size, z_size))\n",
    "\n",
    "\n",
    "def create_samples(g_model, input_z):\n",
    "    g_output = g_model(input_z, training=False)\n",
    "    images = tf.reshape(g_output, (batch_size, *image_size))    \n",
    "    return (images+1)/2.0\n",
    "\n",
    "## 데이터셋 준비\n",
    "mnist_trainset = mnist['train']\n",
    "mnist_trainset = mnist_trainset.map(\n",
    "    lambda ex: preprocess(ex, mode=mode_z))\n",
    "\n",
    "mnist_trainset = mnist_trainset.shuffle(10000)\n",
    "mnist_trainset = mnist_trainset.batch(\n",
    "    batch_size, drop_remainder=True)\n",
    "\n",
    "## 모델 준비\n",
    "with tf.device(device_name):\n",
    "    gen_model = make_generator_network(\n",
    "        num_hidden_layers=gen_hidden_layers, \n",
    "        num_hidden_units=gen_hidden_size,\n",
    "        num_output_units=np.prod(image_size))\n",
    "    gen_model.build(input_shape=(None, z_size))\n",
    "\n",
    "    disc_model = make_discriminator_network(\n",
    "        num_hidden_layers=disc_hidden_layers,\n",
    "        num_hidden_units=disc_hidden_size)\n",
    "    disc_model.build(input_shape=(None, np.prod(image_size)))\n",
    "\n",
    "## 손실 함수와 옵티마이저:\n",
    "loss_fn = tf.keras.losses.BinaryCrossentropy(from_logits=True)\n",
    "g_optimizer = tf.keras.optimizers.Adam()\n",
    "d_optimizer = tf.keras.optimizers.Adam()\n",
    "\n",
    "all_losses = []\n",
    "all_d_vals = []\n",
    "epoch_samples = []\n",
    "\n",
    "start_time = time.time()\n",
    "for epoch in range(1, num_epochs+1):\n",
    "    epoch_losses, epoch_d_vals = [], []\n",
    "    for i,(input_z,input_real) in enumerate(mnist_trainset):\n",
    "        \n",
    "        ## 생성자 손실을 계산합니다\n",
    "        with tf.GradientTape() as g_tape:\n",
    "            g_output = gen_model(input_z)\n",
    "            d_logits_fake = disc_model(g_output, training=True)\n",
    "            labels_real = tf.ones_like(d_logits_fake)\n",
    "            g_loss = loss_fn(y_true=labels_real, y_pred=d_logits_fake)\n",
    "            \n",
    "        # g_loss의 그래디언트를 계산합니다\n",
    "        g_grads = g_tape.gradient(g_loss, gen_model.trainable_variables)\n",
    "        \n",
    "        # 최적화: 그래디언트를 적용합니다\n",
    "        g_optimizer.apply_gradients(\n",
    "            grads_and_vars=zip(g_grads, gen_model.trainable_variables))\n",
    "\n",
    "        ## 판별자 손실을 계산합니다\n",
    "        with tf.GradientTape() as d_tape:\n",
    "            d_logits_real = disc_model(input_real, training=True)\n",
    "\n",
    "            d_labels_real = tf.ones_like(d_logits_real)\n",
    "            \n",
    "            d_loss_real = loss_fn(\n",
    "                y_true=d_labels_real, y_pred=d_logits_real)\n",
    "\n",
    "            d_logits_fake = disc_model(g_output, training=True)\n",
    "            d_labels_fake = tf.zeros_like(d_logits_fake)\n",
    "\n",
    "            d_loss_fake = loss_fn(\n",
    "                y_true=d_labels_fake, y_pred=d_logits_fake)\n",
    "\n",
    "            d_loss = d_loss_real + d_loss_fake\n",
    "\n",
    "        ## d_loss의 그래디언트를 계산합니다\n",
    "        d_grads = d_tape.gradient(d_loss, disc_model.trainable_variables)\n",
    "        \n",
    "        ## 최적화: 그래디언트를 적용합니다\n",
    "        d_optimizer.apply_gradients(\n",
    "            grads_and_vars=zip(d_grads, disc_model.trainable_variables))\n",
    "                           \n",
    "        epoch_losses.append(\n",
    "            (g_loss.numpy(), d_loss.numpy(), \n",
    "             d_loss_real.numpy(), d_loss_fake.numpy()))\n",
    "        \n",
    "        d_probs_real = tf.reduce_mean(tf.sigmoid(d_logits_real))\n",
    "        d_probs_fake = tf.reduce_mean(tf.sigmoid(d_logits_fake))\n",
    "        epoch_d_vals.append((d_probs_real.numpy(), d_probs_fake.numpy()))        \n",
    "    all_losses.append(epoch_losses)\n",
    "    all_d_vals.append(epoch_d_vals)\n",
    "    print(\n",
    "        '에포크 {:03d} | 시간 {:.2f} min | 평균 손실 >>'\n",
    "        ' 생성자/판별자 {:.4f}/{:.4f} [판별자-진짜: {:.4f} 판별자-가짜: {:.4f}]'\n",
    "        .format(\n",
    "            epoch, (time.time() - start_time)/60, \n",
    "            *list(np.mean(all_losses[-1], axis=0))))\n",
    "    epoch_samples.append(\n",
    "        create_samples(gen_model, fixed_z).numpy())"
   ]
  },
  {
   "cell_type": "code",
   "execution_count": 24,
   "metadata": {
    "colab": {
     "base_uri": "https://localhost:8080/",
     "height": 413
    },
    "id": "TQyQ8deLaHmw",
    "outputId": "e75e7f10-148b-45a4-880d-bb151e3b82ee"
   },
   "outputs": [
    {
     "data": {
      "image/png": "[encoded data removed]",
      "text/plain": [
       "<Figure size 1152x432 with 4 Axes>"
      ]
     },
     "metadata": {
      "needs_background": "light",
      "tags": []
     },
     "output_type": "display_data"
    }
   ],
   "source": [
    "import itertools\n",
    "\n",
    "\n",
    "fig = plt.figure(figsize=(16, 6))\n",
    "\n",
    "## 손실 그래프\n",
    "ax = fig.add_subplot(1, 2, 1)\n",
    "g_losses = [item[0] for item in itertools.chain(*all_losses)]\n",
    "d_losses = [item[1]/2.0 for item in itertools.chain(*all_losses)]\n",
    "plt.plot(g_losses, label='Generator loss', alpha=0.95)\n",
    "plt.plot(d_losses, label='Discriminator loss', alpha=0.95)\n",
    "plt.legend(fontsize=20)\n",
    "ax.set_xlabel('Iteration', size=15)\n",
    "ax.set_ylabel('Loss', size=15)\n",
    "\n",
    "epochs = np.arange(1, 101)\n",
    "epoch2iter = lambda e: e*len(all_losses[-1])\n",
    "epoch_ticks = [1, 20, 40, 60, 80, 100]\n",
    "newpos = [epoch2iter(e) for e in epoch_ticks]\n",
    "ax2 = ax.twiny()\n",
    "ax2.set_xticks(newpos)\n",
    "ax2.set_xticklabels(epoch_ticks)\n",
    "ax2.xaxis.set_ticks_position('bottom')\n",
    "ax2.xaxis.set_label_position('bottom')\n",
    "ax2.spines['bottom'].set_position(('outward', 60))\n",
    "ax2.set_xlabel('Epoch', size=15)\n",
    "ax2.set_xlim(ax.get_xlim())\n",
    "ax.tick_params(axis='both', which='major', labelsize=15)\n",
    "ax2.tick_params(axis='both', which='major', labelsize=15)\n",
    "\n",
    "## 판별자의 출력\n",
    "ax = fig.add_subplot(1, 2, 2)\n",
    "d_vals_real = [item[0] for item in itertools.chain(*all_d_vals)]\n",
    "d_vals_fake = [item[1] for item in itertools.chain(*all_d_vals)]\n",
    "plt.plot(d_vals_real, alpha=0.75, label=r'Real: $D(\\mathbf{x})$')\n",
    "plt.plot(d_vals_fake, alpha=0.75, label=r'Fake: $D(G(\\mathbf{z}))$')\n",
    "plt.legend(fontsize=20)\n",
    "ax.set_xlabel('Iteration', size=15)\n",
    "ax.set_ylabel('Discriminator output', size=15)\n",
    "\n",
    "ax2 = ax.twiny()\n",
    "ax2.set_xticks(newpos)\n",
    "ax2.set_xticklabels(epoch_ticks)\n",
    "ax2.xaxis.set_ticks_position('bottom')\n",
    "ax2.xaxis.set_label_position('bottom')\n",
    "ax2.spines['bottom'].set_position(('outward', 60))\n",
    "ax2.set_xlabel('Epoch', size=15)\n",
    "ax2.set_xlim(ax.get_xlim())\n",
    "ax.tick_params(axis='both', which='major', labelsize=15)\n",
    "ax2.tick_params(axis='both', which='major', labelsize=15)\n",
    "\n",
    "plt.show()"
   ]
  },
  {
   "cell_type": "code",
   "execution_count": 25,
   "metadata": {
    "colab": {
     "base_uri": "https://localhost:8080/",
     "height": 783
    },
    "id": "iENdPX_gPoJ7",
    "outputId": "ef511e68-944c-4dc8-f719-aa59ea8d1084"
   },
   "outputs": [
    {
     "data": {
      "image/png": "[encoded data removed]",
      "text/plain": [
       "<Figure size 720x1008 with 30 Axes>"
      ]
     },
     "metadata": {
      "tags": []
     },
     "output_type": "display_data"
    }
   ],
   "source": [
    "selected_epochs = [1, 2, 4, 10, 50, 100]\n",
    "fig = plt.figure(figsize=(10, 14))\n",
    "for i,e in enumerate(selected_epochs):\n",
    "    for j in range(5):\n",
    "        ax = fig.add_subplot(6, 5, i*5+j+1)\n",
    "        ax.set_xticks([])\n",
    "        ax.set_yticks([])\n",
    "        if j == 0:\n",
    "            ax.text(\n",
    "                -0.06, 0.5, 'Epoch {}'.format(e),\n",
    "                rotation=90, size=18, color='red',\n",
    "                horizontalalignment='right',\n",
    "                verticalalignment='center', \n",
    "                transform=ax.transAxes)\n",
    "        \n",
    "        image = epoch_samples[e-1][j]\n",
    "        ax.imshow(image, cmap='gray_r')\n",
    "\n",
    "plt.show()"
   ]
  }
 ],
 "metadata": {
  "accelerator": "GPU",
  "colab": {
   "collapsed_sections": [],
   "name": "ch17-basic-GAN.ipynb",
   "provenance": [],
   "toc_visible": true
  },
  "kernelspec": {
   "display_name": "Python 3",
   "language": "python",
   "name": "python3"
  },
  "language_info": {
   "codemirror_mode": {
    "name": "ipython",
    "version": 3
   },
   "file_extension": ".py",
   "mimetype": "text/x-python",
   "name": "python",
   "nbconvert_exporter": "python",
   "pygments_lexer": "ipython3",
   "version": "3.7.3"
  },
  "widgets": {
   "application/vnd.jupyter.widget-state+json": {
    "1dc2c5d3f42e4e51920b91c3098ba5c5": {
     "model_module": "@jupyter-widgets/base",
     "model_name": "LayoutModel",
     "state": {
      "_model_module": "@jupyter-widgets/base",
      "_model_module_version": "1.2.0",
      "_model_name": "LayoutModel",
      "_view_count": null,
      "_view_module": "@jupyter-widgets/base",
      "_view_module_version": "1.2.0",
      "_view_name": "LayoutView",
      "align_content": null,
      "align_items": null,
      "align_self": null,
      "border": null,
      "bottom": null,
      "display": null,
      "flex": null,
      "flex_flow": null,
      "grid_area": null,
      "grid_auto_columns": null,
      "grid_auto_flow": null,
      "grid_auto_rows": null,
      "grid_column": null,
      "grid_gap": null,
      "grid_row": null,
      "grid_template_areas": null,
      "grid_template_columns": null,
      "grid_template_rows": null,
      "height": null,
      "justify_content": null,
      "justify_items": null,
      "left": null,
      "margin": null,
      "max_height": null,
      "max_width": null,
      "min_height": null,
      "min_width": null,
      "object_fit": null,
      "object_position": null,
      "order": null,
      "overflow": null,
      "overflow_x": null,
      "overflow_y": null,
      "padding": null,
      "right": null,
      "top": null,
      "visibility": null,
      "width": null
     }
    },
    "3d34dd3e0f09486294c41b372fd63a04": {
     "model_module": "@jupyter-widgets/base",
     "model_name": "LayoutModel",
     "state": {
      "_model_module": "@jupyter-widgets/base",
      "_model_module_version": "1.2.0",
      "_model_name": "LayoutModel",
      "_view_count": null,
      "_view_module": "@jupyter-widgets/base",
      "_view_module_version": "1.2.0",
      "_view_name": "LayoutView",
      "align_content": null,
      "align_items": null,
      "align_self": null,
      "border": null,
      "bottom": null,
      "display": null,
      "flex": null,
      "flex_flow": null,
      "grid_area": null,
      "grid_auto_columns": null,
      "grid_auto_flow": null,
      "grid_auto_rows": null,
      "grid_column": null,
      "grid_gap": null,
      "grid_row": null,
      "grid_template_areas": null,
      "grid_template_columns": null,
      "grid_template_rows": null,
      "height": null,
      "justify_content": null,
      "justify_items": null,
      "left": null,
      "margin": null,
      "max_height": null,
      "max_width": null,
      "min_height": null,
      "min_width": null,
      "object_fit": null,
      "object_position": null,
      "order": null,
      "overflow": null,
      "overflow_x": null,
      "overflow_y": null,
      "padding": null,
      "right": null,
      "top": null,
      "visibility": null,
      "width": null
     }
    },
    "527d1f8586a449df90bbdd38fd02c29f": {
     "model_module": "@jupyter-widgets/controls",
     "model_name": "ProgressStyleModel",
     "state": {
      "_model_module": "@jupyter-widgets/controls",
      "_model_module_version": "1.5.0",
      "_model_name": "ProgressStyleModel",
      "_view_count": null,
      "_view_module": "@jupyter-widgets/base",
      "_view_module_version": "1.2.0",
      "_view_name": "StyleView",
      "bar_color": null,
      "description_width": "initial"
     }
    },
    "bc37964978a747e883e94134035d847f": {
     "model_module": "@jupyter-widgets/controls",
     "model_name": "DescriptionStyleModel",
     "state": {
      "_model_module": "@jupyter-widgets/controls",
      "_model_module_version": "1.5.0",
      "_model_name": "DescriptionStyleModel",
      "_view_count": null,
      "_view_module": "@jupyter-widgets/base",
      "_view_module_version": "1.2.0",
      "_view_name": "StyleView",
      "description_width": ""
     }
    },
    "bf41d9cedb7548868389eeab2134a90c": {
     "model_module": "@jupyter-widgets/base",
     "model_name": "LayoutModel",
     "state": {
      "_model_module": "@jupyter-widgets/base",
      "_model_module_version": "1.2.0",
      "_model_name": "LayoutModel",
      "_view_count": null,
      "_view_module": "@jupyter-widgets/base",
      "_view_module_version": "1.2.0",
      "_view_name": "LayoutView",
      "align_content": null,
      "align_items": null,
      "align_self": null,
      "border": null,
      "bottom": null,
      "display": null,
      "flex": null,
      "flex_flow": null,
      "grid_area": null,
      "grid_auto_columns": null,
      "grid_auto_flow": null,
      "grid_auto_rows": null,
      "grid_column": null,
      "grid_gap": null,
      "grid_row": null,
      "grid_template_areas": null,
      "grid_template_columns": null,
      "grid_template_rows": null,
      "height": null,
      "justify_content": null,
      "justify_items": null,
      "left": null,
      "margin": null,
      "max_height": null,
      "max_width": null,
      "min_height": null,
      "min_width": null,
      "object_fit": null,
      "object_position": null,
      "order": null,
      "overflow": null,
      "overflow_x": null,
      "overflow_y": null,
      "padding": null,
      "right": null,
      "top": null,
      "visibility": null,
      "width": null
     }
    },
    "cb1a8a21d70841b4a2ba27ace07ccb11": {
     "model_module": "@jupyter-widgets/controls",
     "model_name": "HBoxModel",
     "state": {
      "_dom_classes": [],
      "_model_module": "@jupyter-widgets/controls",
      "_model_module_version": "1.5.0",
      "_model_name": "HBoxModel",
      "_view_count": null,
      "_view_module": "@jupyter-widgets/controls",
      "_view_module_version": "1.5.0",
      "_view_name": "HBoxView",
      "box_style": "",
      "children": [
       "IPY_MODEL_f11d2daa89a149ad92ad5362f03de0b5",
       "IPY_MODEL_d78d899c3e9c426fb049561894daf335"
      ],
      "layout": "IPY_MODEL_1dc2c5d3f42e4e51920b91c3098ba5c5"
     }
    },
    "d78d899c3e9c426fb049561894daf335": {
     "model_module": "@jupyter-widgets/controls",
     "model_name": "HTMLModel",
     "state": {
      "_dom_classes": [],
      "_model_module": "@jupyter-widgets/controls",
      "_model_module_version": "1.5.0",
      "_model_name": "HTMLModel",
      "_view_count": null,
      "_view_module": "@jupyter-widgets/controls",
      "_view_module_version": "1.5.0",
      "_view_name": "HTMLView",
      "description": "",
      "description_tooltip": null,
      "layout": "IPY_MODEL_bf41d9cedb7548868389eeab2134a90c",
      "placeholder": "​",
      "style": "IPY_MODEL_bc37964978a747e883e94134035d847f",
      "value": " 4/4 [00:00&lt;00:00,  5.35 file/s]"
     }
    },
    "f11d2daa89a149ad92ad5362f03de0b5": {
     "model_module": "@jupyter-widgets/controls",
     "model_name": "FloatProgressModel",
     "state": {
      "_dom_classes": [],
      "_model_module": "@jupyter-widgets/controls",
      "_model_module_version": "1.5.0",
      "_model_name": "FloatProgressModel",
      "_view_count": null,
      "_view_module": "@jupyter-widgets/controls",
      "_view_module_version": "1.5.0",
      "_view_name": "ProgressView",
      "bar_style": "success",
      "description": "Dl Completed...: 100%",
      "description_tooltip": null,
      "layout": "IPY_MODEL_3d34dd3e0f09486294c41b372fd63a04",
      "max": 4,
      "min": 0,
      "orientation": "horizontal",
      "style": "IPY_MODEL_527d1f8586a449df90bbdd38fd02c29f",
      "value": 4
     }
    }
   }
  }
 },
 "nbformat": 4,
 "nbformat_minor": 4
}
