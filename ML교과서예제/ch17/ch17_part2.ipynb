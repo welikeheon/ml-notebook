{
 "cells": [
  {
   "cell_type": "markdown",
   "metadata": {
    "id": "mhnVRDEso6TM"
   },
   "source": [
    "# 머신 러닝 교과서 3판"
   ]
  },
  {
   "cell_type": "markdown",
   "metadata": {
    "id": "iLYc3wMJo6TQ"
   },
   "source": [
    "# 17장 - 새로운 데이터 합성을 위한 생성적 적대 신경망 (2/2)"
   ]
  },
  {
   "cell_type": "markdown",
   "metadata": {
    "id": "zxnZcUDYo6TQ"
   },
   "source": [
    "**아래 링크를 통해 이 노트북을 주피터 노트북 뷰어(nbviewer.jupyter.org)로 보거나 구글 코랩(colab.research.google.com)에서 실행할 수 있습니다.**\n",
    "\n",
    "<table class=\"tfo-notebook-buttons\" align=\"left\">\n",
    "  <td>\n",
    "    <a target=\"_blank\" href=\"https://nbviewer.jupyter.org/github/rickiepark/python-machine-learning-book-3rd-edition/blob/master/ch17/ch17_part2.ipynb\"><img src=\"https://jupyter.org/assets/main-logo.svg\" width=\"28\" />주피터 노트북 뷰어로 보기</a>\n",
    "  </td>\n",
    "  <td>\n",
    "    <a target=\"_blank\" href=\"https://colab.research.google.com/github/rickiepark/python-machine-learning-book-3rd-edition/blob/master/ch17/ch17_part2.ipynb\"><img src=\"https://www.tensorflow.org/images/colab_logo_32px.png\" />구글 코랩(Colab)에서 실행하기</a>\n",
    "  </td>\n",
    "</table>"
   ]
  },
  {
   "cell_type": "markdown",
   "metadata": {
    "id": "ILMW7pJpo6TR"
   },
   "source": [
    "### 목차"
   ]
  },
  {
   "cell_type": "markdown",
   "metadata": {
    "id": "2XQEMAilo6TR"
   },
   "source": [
    "- 합성곱 GAN과 와서스테인 GAN을 사용하여 합성 이미지의 품질 높이기\n",
    "    - 전치 합성곱\n",
    "    - 배치 정규화\n",
    "    - 생성자와 판별자 구현하기\n",
    "    - 두 분포 사이의 거리 측정하기\n",
    "    - GAN에 EM 거리 사용하기\n",
    "    - 그래디언트 페널티\n",
    "    - WGAN-GP로 DCGAN 모델 훈련하기\n",
    "    - 모드 붕괴\n",
    "- 다른 GAN 애플리케이션\n",
    "- 요약"
   ]
  },
  {
   "cell_type": "code",
   "execution_count": 1,
   "metadata": {
    "id": "fJJx82wno6TR"
   },
   "outputs": [],
   "source": [
    "from IPython.display import Image"
   ]
  },
  {
   "cell_type": "markdown",
   "metadata": {
    "id": "I8VoaURPo6TS"
   },
   "source": [
    "# 합성곱 GAN과 와서스테인 GAN을 사용하여 합성 이미지의 품질 높이기"
   ]
  },
  {
   "cell_type": "markdown",
   "metadata": {
    "id": "0J8TdXgIo6TS"
   },
   "source": [
    "## 전치 합성곱"
   ]
  },
  {
   "cell_type": "code",
   "execution_count": 2,
   "metadata": {
    "colab": {
     "base_uri": "https://localhost:8080/",
     "height": 268
    },
    "id": "doWkKGeMo6TS",
    "outputId": "d8a242be-ec26-4b27-f959-33c8a6decd66"
   },
   "outputs": [
    {
     "data": {
      "text/html": [
       "<img src=\"https://git.io/JLjn7\" width=\"700\"/>"
      ],
      "text/plain": [
       "<IPython.core.display.Image object>"
      ]
     },
     "execution_count": 2,
     "metadata": {
      "tags": []
     },
     "output_type": "execute_result"
    }
   ],
   "source": [
    "Image(url='https://git.io/JLjn7', width=700)"
   ]
  },
  {
   "cell_type": "code",
   "execution_count": 3,
   "metadata": {
    "colab": {
     "base_uri": "https://localhost:8080/",
     "height": 361
    },
    "id": "wXQNEuWJo6TT",
    "outputId": "235fbb56-1629-45d2-e4bd-318d99d2aec6"
   },
   "outputs": [
    {
     "data": {
      "text/html": [
       "<img src=\"https://git.io/JLjnb\" width=\"700\"/>"
      ],
      "text/plain": [
       "<IPython.core.display.Image object>"
      ]
     },
     "execution_count": 3,
     "metadata": {
      "tags": []
     },
     "output_type": "execute_result"
    }
   ],
   "source": [
    "Image(url='https://git.io/JLjnb', width=700)"
   ]
  },
  {
   "cell_type": "markdown",
   "metadata": {
    "id": "v5OXSjCHo6TT"
   },
   "source": [
    "## 배치 정규화"
   ]
  },
  {
   "cell_type": "code",
   "execution_count": 4,
   "metadata": {
    "colab": {
     "base_uri": "https://localhost:8080/",
     "height": 479
    },
    "id": "T8sfMSHio6TT",
    "outputId": "b6f34e47-8074-4102-82e3-a9d0a9014157"
   },
   "outputs": [
    {
     "data": {
      "text/html": [
       "<img src=\"https://git.io/JLjnA\" width=\"700\"/>"
      ],
      "text/plain": [
       "<IPython.core.display.Image object>"
      ]
     },
     "execution_count": 4,
     "metadata": {
      "tags": []
     },
     "output_type": "execute_result"
    }
   ],
   "source": [
    "Image(url='https://git.io/JLjnA', width=700)"
   ]
  },
  {
   "cell_type": "markdown",
   "metadata": {
    "id": "7pqd-bBPo6TT"
   },
   "source": [
    "## 생성자와 판별자 구현하기"
   ]
  },
  {
   "cell_type": "code",
   "execution_count": 5,
   "metadata": {
    "colab": {
     "base_uri": "https://localhost:8080/",
     "height": 311
    },
    "id": "Botu3kjko6TT",
    "outputId": "765ebc0a-b094-439f-a45d-b5a51fefe8b6"
   },
   "outputs": [
    {
     "data": {
      "text/html": [
       "<img src=\"https://git.io/JLjnx\" width=\"700\"/>"
      ],
      "text/plain": [
       "<IPython.core.display.Image object>"
      ]
     },
     "execution_count": 5,
     "metadata": {
      "tags": []
     },
     "output_type": "execute_result"
    }
   ],
   "source": [
    "Image(url='https://git.io/JLjnx', width=700)"
   ]
  },
  {
   "cell_type": "code",
   "execution_count": 6,
   "metadata": {
    "colab": {
     "base_uri": "https://localhost:8080/",
     "height": 386
    },
    "id": "bR-z6gxto6TU",
    "outputId": "0ddd11b2-e508-49b7-efc5-33e865ac1a6b"
   },
   "outputs": [
    {
     "data": {
      "text/html": [
       "<img src=\"https://git.io/JLjnj\" width=\"700\"/>"
      ],
      "text/plain": [
       "<IPython.core.display.Image object>"
      ]
     },
     "execution_count": 6,
     "metadata": {
      "tags": []
     },
     "output_type": "execute_result"
    }
   ],
   "source": [
    "Image(url='https://git.io/JLjnj', width=700)"
   ]
  },
  {
   "cell_type": "markdown",
   "metadata": {
    "id": "gjndBoHAo6TU"
   },
   "source": [
    " * **구글 코랩 설정**"
   ]
  },
  {
   "cell_type": "code",
   "execution_count": 7,
   "metadata": {
    "id": "XnOWggQN3RbT"
   },
   "outputs": [],
   "source": [
    "#from google.colab import drive\n",
    "#drive.mount('/content/drive/')"
   ]
  },
  {
   "cell_type": "code",
   "execution_count": 8,
   "metadata": {
    "colab": {
     "base_uri": "https://localhost:8080/"
    },
    "id": "O9XN3qSZ6Kbr",
    "outputId": "172b872d-3d46-40e9-a389-881c81ed71f6"
   },
   "outputs": [
    {
     "name": "stdout",
     "output_type": "stream",
     "text": [
      "2.4.0\n",
      "GPU 여부: True\n",
      "/device:GPU:0\n"
     ]
    }
   ],
   "source": [
    "import tensorflow as tf\n",
    "\n",
    "\n",
    "print(tf.__version__)\n",
    "\n",
    "print(\"GPU 여부:\", len(tf.config.list_physical_devices('GPU')) > 0)\n",
    "\n",
    "if tf.config.list_physical_devices('GPU'):\n",
    "    device_name = tf.test.gpu_device_name()\n",
    "else:\n",
    "    device_name = 'CPU:0'\n",
    "    \n",
    "print(device_name)"
   ]
  },
  {
   "cell_type": "code",
   "execution_count": 9,
   "metadata": {
    "id": "VXasfQIW3XeR"
   },
   "outputs": [],
   "source": [
    "import tensorflow_datasets as tfds\n",
    "import numpy as np\n",
    "import matplotlib.pyplot as plt\n",
    "%matplotlib inline"
   ]
  },
  {
   "cell_type": "code",
   "execution_count": 10,
   "metadata": {
    "id": "O9QIFmPZ3jjg"
   },
   "outputs": [],
   "source": [
    "def make_dcgan_generator(\n",
    "        z_size=20, \n",
    "        output_size=(28, 28, 1),\n",
    "        n_filters=128, \n",
    "        n_blocks=2):\n",
    "    size_factor = 2**n_blocks\n",
    "    hidden_size = (\n",
    "        output_size[0]//size_factor, \n",
    "        output_size[1]//size_factor\n",
    "    )\n",
    "    \n",
    "    model = tf.keras.Sequential([\n",
    "        tf.keras.layers.Input(shape=(z_size,)),\n",
    "        \n",
    "        tf.keras.layers.Dense(\n",
    "            units=n_filters*np.prod(hidden_size), \n",
    "            use_bias=False),\n",
    "        tf.keras.layers.BatchNormalization(),\n",
    "        tf.keras.layers.LeakyReLU(),\n",
    "        tf.keras.layers.Reshape(\n",
    "            (hidden_size[0], hidden_size[1], n_filters)),\n",
    "    \n",
    "        tf.keras.layers.Conv2DTranspose(\n",
    "            filters=n_filters, kernel_size=(5, 5), strides=(1, 1),\n",
    "            padding='same', use_bias=False),\n",
    "        tf.keras.layers.BatchNormalization(),\n",
    "        tf.keras.layers.LeakyReLU()\n",
    "    ])\n",
    "        \n",
    "    nf = n_filters\n",
    "    for i in range(n_blocks):\n",
    "        nf = nf // 2\n",
    "        model.add(\n",
    "            tf.keras.layers.Conv2DTranspose(\n",
    "                filters=nf, kernel_size=(5, 5), strides=(2, 2),\n",
    "                padding='same', use_bias=False))\n",
    "        model.add(tf.keras.layers.BatchNormalization())\n",
    "        model.add(tf.keras.layers.LeakyReLU())\n",
    "                \n",
    "    model.add(\n",
    "        tf.keras.layers.Conv2DTranspose(\n",
    "            filters=output_size[2], kernel_size=(5, 5), \n",
    "            strides=(1, 1), padding='same', use_bias=False, \n",
    "            activation='tanh'))\n",
    "        \n",
    "    return model\n",
    "\n",
    "def make_dcgan_discriminator(\n",
    "        input_size=(28, 28, 1),\n",
    "        n_filters=64, \n",
    "        n_blocks=2):\n",
    "    model = tf.keras.Sequential([\n",
    "        tf.keras.layers.Input(shape=input_size),\n",
    "        tf.keras.layers.Conv2D(\n",
    "            filters=n_filters, kernel_size=5, \n",
    "            strides=(1, 1), padding='same'),\n",
    "        tf.keras.layers.BatchNormalization(),\n",
    "        tf.keras.layers.LeakyReLU()\n",
    "    ])\n",
    "    \n",
    "    nf = n_filters\n",
    "    for i in range(n_blocks):\n",
    "        nf = nf*2\n",
    "        model.add(\n",
    "            tf.keras.layers.Conv2D(\n",
    "                filters=nf, kernel_size=(5, 5), \n",
    "                strides=(2, 2),padding='same'))\n",
    "        model.add(tf.keras.layers.BatchNormalization())\n",
    "        model.add(tf.keras.layers.LeakyReLU())\n",
    "        model.add(tf.keras.layers.Dropout(0.3))\n",
    "        \n",
    "    model.add(tf.keras.layers.Conv2D(\n",
    "            filters=1, kernel_size=(7, 7), padding='valid'))\n",
    "    \n",
    "    model.add(tf.keras.layers.Reshape((1,)))\n",
    "    \n",
    "    return model"
   ]
  },
  {
   "cell_type": "code",
   "execution_count": 11,
   "metadata": {
    "colab": {
     "base_uri": "https://localhost:8080/"
    },
    "id": "DX4INL735ARw",
    "outputId": "2bd2c455-faf2-47ab-c751-f3ce85c9edf1"
   },
   "outputs": [
    {
     "name": "stdout",
     "output_type": "stream",
     "text": [
      "Model: \"sequential\"\n",
      "_________________________________________________________________\n",
      "Layer (type)                 Output Shape              Param #   \n",
      "=================================================================\n",
      "dense (Dense)                (None, 6272)              125440    \n",
      "_________________________________________________________________\n",
      "batch_normalization (BatchNo (None, 6272)              25088     \n",
      "_________________________________________________________________\n",
      "leaky_re_lu (LeakyReLU)      (None, 6272)              0         \n",
      "_________________________________________________________________\n",
      "reshape (Reshape)            (None, 7, 7, 128)         0         \n",
      "_________________________________________________________________\n",
      "conv2d_transpose (Conv2DTran (None, 7, 7, 128)         409600    \n",
      "_________________________________________________________________\n",
      "batch_normalization_1 (Batch (None, 7, 7, 128)         512       \n",
      "_________________________________________________________________\n",
      "leaky_re_lu_1 (LeakyReLU)    (None, 7, 7, 128)         0         \n",
      "_________________________________________________________________\n",
      "conv2d_transpose_1 (Conv2DTr (None, 14, 14, 64)        204800    \n",
      "_________________________________________________________________\n",
      "batch_normalization_2 (Batch (None, 14, 14, 64)        256       \n",
      "_________________________________________________________________\n",
      "leaky_re_lu_2 (LeakyReLU)    (None, 14, 14, 64)        0         \n",
      "_________________________________________________________________\n",
      "conv2d_transpose_2 (Conv2DTr (None, 28, 28, 32)        51200     \n",
      "_________________________________________________________________\n",
      "batch_normalization_3 (Batch (None, 28, 28, 32)        128       \n",
      "_________________________________________________________________\n",
      "leaky_re_lu_3 (LeakyReLU)    (None, 28, 28, 32)        0         \n",
      "_________________________________________________________________\n",
      "conv2d_transpose_3 (Conv2DTr (None, 28, 28, 1)         800       \n",
      "=================================================================\n",
      "Total params: 817,824\n",
      "Trainable params: 804,832\n",
      "Non-trainable params: 12,992\n",
      "_________________________________________________________________\n",
      "Model: \"sequential_1\"\n",
      "_________________________________________________________________\n",
      "Layer (type)                 Output Shape              Param #   \n",
      "=================================================================\n",
      "conv2d (Conv2D)              (None, 28, 28, 64)        1664      \n",
      "_________________________________________________________________\n",
      "batch_normalization_4 (Batch (None, 28, 28, 64)        256       \n",
      "_________________________________________________________________\n",
      "leaky_re_lu_4 (LeakyReLU)    (None, 28, 28, 64)        0         \n",
      "_________________________________________________________________\n",
      "conv2d_1 (Conv2D)            (None, 14, 14, 128)       204928    \n",
      "_________________________________________________________________\n",
      "batch_normalization_5 (Batch (None, 14, 14, 128)       512       \n",
      "_________________________________________________________________\n",
      "leaky_re_lu_5 (LeakyReLU)    (None, 14, 14, 128)       0         \n",
      "_________________________________________________________________\n",
      "dropout (Dropout)            (None, 14, 14, 128)       0         \n",
      "_________________________________________________________________\n",
      "conv2d_2 (Conv2D)            (None, 7, 7, 256)         819456    \n",
      "_________________________________________________________________\n",
      "batch_normalization_6 (Batch (None, 7, 7, 256)         1024      \n",
      "_________________________________________________________________\n",
      "leaky_re_lu_6 (LeakyReLU)    (None, 7, 7, 256)         0         \n",
      "_________________________________________________________________\n",
      "dropout_1 (Dropout)          (None, 7, 7, 256)         0         \n",
      "_________________________________________________________________\n",
      "conv2d_3 (Conv2D)            (None, 1, 1, 1)           12545     \n",
      "_________________________________________________________________\n",
      "reshape_1 (Reshape)          (None, 1)                 0         \n",
      "=================================================================\n",
      "Total params: 1,040,385\n",
      "Trainable params: 1,039,489\n",
      "Non-trainable params: 896\n",
      "_________________________________________________________________\n"
     ]
    }
   ],
   "source": [
    "gen_model = make_dcgan_generator()\n",
    "gen_model.summary()\n",
    "\n",
    "disc_model = make_dcgan_discriminator()\n",
    "disc_model.summary()"
   ]
  },
  {
   "cell_type": "markdown",
   "metadata": {
    "id": "72tpmJjOo6TV"
   },
   "source": [
    "## 두 분포 사이의 거리 측정하기"
   ]
  },
  {
   "cell_type": "code",
   "execution_count": 12,
   "metadata": {
    "colab": {
     "base_uri": "https://localhost:8080/",
     "height": 356
    },
    "id": "-bKtNGBbo6TV",
    "outputId": "fe6e5b27-35c5-4153-f795-f3cd5441b6f2"
   },
   "outputs": [
    {
     "data": {
      "text/html": [
       "<img src=\"https://git.io/JLjcf\" width=\"700\"/>"
      ],
      "text/plain": [
       "<IPython.core.display.Image object>"
      ]
     },
     "execution_count": 12,
     "metadata": {
      "tags": []
     },
     "output_type": "execute_result"
    }
   ],
   "source": [
    "Image(url='https://git.io/JLjcf', width=700)"
   ]
  },
  {
   "cell_type": "code",
   "execution_count": 13,
   "metadata": {
    "colab": {
     "base_uri": "https://localhost:8080/",
     "height": 554
    },
    "id": "QGqJNr5so6TW",
    "outputId": "8ae56d17-3072-43e6-baba-14da6a2e4357"
   },
   "outputs": [
    {
     "data": {
      "text/html": [
       "<img src=\"https://git.io/JLjcJ\" width=\"800\"/>"
      ],
      "text/plain": [
       "<IPython.core.display.Image object>"
      ]
     },
     "execution_count": 13,
     "metadata": {
      "tags": []
     },
     "output_type": "execute_result"
    }
   ],
   "source": [
    "Image(url='https://git.io/JLjcJ', width=800)"
   ]
  },
  {
   "cell_type": "markdown",
   "metadata": {
    "id": "MGNV_luKo6TW"
   },
   "source": [
    "## GAN에 EM 거리 사용하기\n",
    "\n",
    "## 그래디언트 페널티\n",
    "\n",
    "## WGAN-GP로 DCGAN 모델 훈련하기"
   ]
  },
  {
   "cell_type": "code",
   "execution_count": 14,
   "metadata": {
    "colab": {
     "base_uri": "https://localhost:8080/",
     "height": 222,
     "referenced_widgets": [
      "416af751fbd942748515e66729e350f6",
      "01e70031995542778c40039ec17ce8a4",
      "b50e2ed713d6437080e959cf4f4a0644",
      "67ce659ac3f74ef3bae1223dc32b87fe",
      "151503edf3524511a6eec70782f71b4e",
      "543afb144eb0431bb1f3e0a00f6c15f3",
      "7cdeca53cabc4bb4b7b11c5c7bd666e2",
      "4da9fa1f466d4e57b8e92f51c8dc76e1"
     ]
    },
    "id": "-iAGk1Ta6xmQ",
    "outputId": "916af84f-b28d-4d92-9d9d-edcc8e43cd86"
   },
   "outputs": [
    {
     "name": "stdout",
     "output_type": "stream",
     "text": [
      "\u001b[1mDownloading and preparing dataset mnist/3.0.1 (download: 11.06 MiB, generated: 21.00 MiB, total: 32.06 MiB) to /root/tensorflow_datasets/mnist/3.0.1...\u001b[0m\n"
     ]
    },
    {
     "name": "stderr",
     "output_type": "stream",
     "text": [
      "WARNING:absl:Dataset mnist is hosted on GCS. It will automatically be downloaded to your\n",
      "local data directory. If you'd instead prefer to read directly from our public\n",
      "GCS bucket (recommended if you're running on GCP), you can instead pass\n",
      "`try_gcs=True` to `tfds.load` or set `data_dir=gs://tfds-data/datasets`.\n",
      "\n"
     ]
    },
    {
     "data": {
      "application/vnd.jupyter.widget-view+json": {
       "model_id": "416af751fbd942748515e66729e350f6",
       "version_major": 2,
       "version_minor": 0
      },
      "text/plain": [
       "HBox(children=(FloatProgress(value=0.0, description='Dl Completed...', max=4.0, style=ProgressStyle(descriptio…"
      ]
     },
     "metadata": {
      "tags": []
     },
     "output_type": "display_data"
    },
    {
     "name": "stdout",
     "output_type": "stream",
     "text": [
      "\n",
      "\n",
      "\u001b[1mDataset mnist downloaded and prepared to /root/tensorflow_datasets/mnist/3.0.1. Subsequent calls will reuse this data.\u001b[0m\n"
     ]
    }
   ],
   "source": [
    "mnist_bldr = tfds.builder('mnist')\n",
    "mnist_bldr.download_and_prepare()\n",
    "mnist = mnist_bldr.as_dataset(shuffle_files=False)\n",
    "\n",
    "def preprocess(ex, mode='uniform'):\n",
    "    image = ex['image']\n",
    "    image = tf.image.convert_image_dtype(image, tf.float32)\n",
    "\n",
    "    image = image*2 - 1.0\n",
    "    if mode == 'uniform':\n",
    "        input_z = tf.random.uniform(\n",
    "            shape=(z_size,), minval=-1.0, maxval=1.0)\n",
    "    elif mode == 'normal':\n",
    "        input_z = tf.random.normal(shape=(z_size,))\n",
    "    return input_z, image"
   ]
  },
  {
   "cell_type": "code",
   "execution_count": 15,
   "metadata": {
    "colab": {
     "base_uri": "https://localhost:8080/"
    },
    "id": "HCX0mOwEo6TW",
    "outputId": "cc0fdf06-8a8b-4a46-f21d-8f9ed322a292"
   },
   "outputs": [
    {
     "name": "stdout",
     "output_type": "stream",
     "text": [
      "Model: \"sequential_2\"\n",
      "_________________________________________________________________\n",
      "Layer (type)                 Output Shape              Param #   \n",
      "=================================================================\n",
      "dense_1 (Dense)              (None, 6272)              125440    \n",
      "_________________________________________________________________\n",
      "batch_normalization_7 (Batch (None, 6272)              25088     \n",
      "_________________________________________________________________\n",
      "leaky_re_lu_7 (LeakyReLU)    (None, 6272)              0         \n",
      "_________________________________________________________________\n",
      "reshape_2 (Reshape)          (None, 7, 7, 128)         0         \n",
      "_________________________________________________________________\n",
      "conv2d_transpose_4 (Conv2DTr (None, 7, 7, 128)         409600    \n",
      "_________________________________________________________________\n",
      "batch_normalization_8 (Batch (None, 7, 7, 128)         512       \n",
      "_________________________________________________________________\n",
      "leaky_re_lu_8 (LeakyReLU)    (None, 7, 7, 128)         0         \n",
      "_________________________________________________________________\n",
      "conv2d_transpose_5 (Conv2DTr (None, 14, 14, 64)        204800    \n",
      "_________________________________________________________________\n",
      "batch_normalization_9 (Batch (None, 14, 14, 64)        256       \n",
      "_________________________________________________________________\n",
      "leaky_re_lu_9 (LeakyReLU)    (None, 14, 14, 64)        0         \n",
      "_________________________________________________________________\n",
      "conv2d_transpose_6 (Conv2DTr (None, 28, 28, 32)        51200     \n",
      "_________________________________________________________________\n",
      "batch_normalization_10 (Batc (None, 28, 28, 32)        128       \n",
      "_________________________________________________________________\n",
      "leaky_re_lu_10 (LeakyReLU)   (None, 28, 28, 32)        0         \n",
      "_________________________________________________________________\n",
      "conv2d_transpose_7 (Conv2DTr (None, 28, 28, 1)         800       \n",
      "=================================================================\n",
      "Total params: 817,824\n",
      "Trainable params: 804,832\n",
      "Non-trainable params: 12,992\n",
      "_________________________________________________________________\n",
      "Model: \"sequential_3\"\n",
      "_________________________________________________________________\n",
      "Layer (type)                 Output Shape              Param #   \n",
      "=================================================================\n",
      "conv2d_4 (Conv2D)            (None, 28, 28, 64)        1664      \n",
      "_________________________________________________________________\n",
      "batch_normalization_11 (Batc (None, 28, 28, 64)        256       \n",
      "_________________________________________________________________\n",
      "leaky_re_lu_11 (LeakyReLU)   (None, 28, 28, 64)        0         \n",
      "_________________________________________________________________\n",
      "conv2d_5 (Conv2D)            (None, 14, 14, 128)       204928    \n",
      "_________________________________________________________________\n",
      "batch_normalization_12 (Batc (None, 14, 14, 128)       512       \n",
      "_________________________________________________________________\n",
      "leaky_re_lu_12 (LeakyReLU)   (None, 14, 14, 128)       0         \n",
      "_________________________________________________________________\n",
      "dropout_2 (Dropout)          (None, 14, 14, 128)       0         \n",
      "_________________________________________________________________\n",
      "conv2d_6 (Conv2D)            (None, 7, 7, 256)         819456    \n",
      "_________________________________________________________________\n",
      "batch_normalization_13 (Batc (None, 7, 7, 256)         1024      \n",
      "_________________________________________________________________\n",
      "leaky_re_lu_13 (LeakyReLU)   (None, 7, 7, 256)         0         \n",
      "_________________________________________________________________\n",
      "dropout_3 (Dropout)          (None, 7, 7, 256)         0         \n",
      "_________________________________________________________________\n",
      "conv2d_7 (Conv2D)            (None, 1, 1, 1)           12545     \n",
      "_________________________________________________________________\n",
      "reshape_3 (Reshape)          (None, 1)                 0         \n",
      "=================================================================\n",
      "Total params: 1,040,385\n",
      "Trainable params: 1,039,489\n",
      "Non-trainable params: 896\n",
      "_________________________________________________________________\n"
     ]
    }
   ],
   "source": [
    "num_epochs = 100\n",
    "batch_size = 128\n",
    "image_size = (28, 28)\n",
    "z_size = 20\n",
    "mode_z = 'uniform'\n",
    "lambda_gp = 10.0\n",
    "\n",
    "tf.random.set_seed(1)\n",
    "np.random.seed(1)\n",
    "\n",
    "## 데이터셋 준비\n",
    "mnist_trainset = mnist['train']\n",
    "mnist_trainset = mnist_trainset.map(preprocess)\n",
    "\n",
    "mnist_trainset = mnist_trainset.shuffle(10000)\n",
    "mnist_trainset = mnist_trainset.batch(\n",
    "    batch_size, drop_remainder=True)\n",
    "\n",
    "## 모델 생성\n",
    "with tf.device(device_name):\n",
    "    gen_model = make_dcgan_generator()\n",
    "    gen_model.build(input_shape=(None, z_size))\n",
    "    gen_model.summary()\n",
    "\n",
    "    disc_model = make_dcgan_discriminator()\n",
    "    disc_model.build(input_shape=(None, np.prod(image_size)))\n",
    "    disc_model.summary()"
   ]
  },
  {
   "cell_type": "code",
   "execution_count": 16,
   "metadata": {
    "colab": {
     "base_uri": "https://localhost:8080/"
    },
    "id": "caAjzvI_o6TW",
    "outputId": "db09d8b9-6be7-40df-e8ba-e1995cbec7ee"
   },
   "outputs": [
    {
     "name": "stdout",
     "output_type": "stream",
     "text": [
      "에포크   1 | 시간 1.67 min | 평균 손실 >> 생성자/판별자 305.13/-534.89 [판별자-진짜: -318.62 판별자-가짜: -305.13]\n",
      "에포크   2 | 시간 3.18 min | 평균 손실 >> 생성자/판별자 190.64/-86.26 [판별자-진짜: -129.03 판별자-가짜: -190.64]\n",
      "에포크   3 | 시간 4.68 min | 평균 손실 >> 생성자/판별자 123.30/ 21.33 [판별자-진짜: -42.70 판별자-가짜: -123.30]\n",
      "에포크   4 | 시간 6.19 min | 평균 손실 >> 생성자/판별자 102.26/ 32.41 [판별자-진짜:  25.68 판별자-가짜: -102.26]\n",
      "에포크   5 | 시간 7.70 min | 평균 손실 >> 생성자/판별자  54.20/  9.88 [판별자-진짜:  -5.44 판별자-가짜: -54.20]\n",
      "에포크   6 | 시간 9.20 min | 평균 손실 >> 생성자/판별자  50.77/ -4.14 [판별자-진짜:  11.89 판별자-가짜: -50.77]\n",
      "에포크   7 | 시간 10.71 min | 평균 손실 >> 생성자/판별자  41.85/-14.51 [판별자-진짜:   5.98 판별자-가짜: -41.85]\n",
      "에포크   8 | 시간 12.21 min | 평균 손실 >> 생성자/판별자  62.54/-16.72 [판별자-진짜:  36.70 판별자-가짜: -62.54]\n",
      "에포크   9 | 시간 13.71 min | 평균 손실 >> 생성자/판별자  60.24/-30.69 [판별자-진짜:  23.61 판별자-가짜: -60.24]\n",
      "에포크  10 | 시간 15.22 min | 평균 손실 >> 생성자/판별자  46.40/-30.99 [판별자-진짜:   5.00 판별자-가짜: -46.40]\n",
      "에포크  11 | 시간 16.72 min | 평균 손실 >> 생성자/판별자  89.44/-43.41 [판별자-진짜:  35.87 판별자-가짜: -89.44]\n",
      "에포크  12 | 시간 18.23 min | 평균 손실 >> 생성자/판별자  71.22/-35.30 [판별자-진짜:  27.52 판별자-가짜: -71.22]\n",
      "에포크  13 | 시간 19.73 min | 평균 손실 >> 생성자/판별자  67.26/-42.42 [판별자-진짜:  -0.39 판별자-가짜: -67.26]\n",
      "에포크  14 | 시간 21.23 min | 평균 손실 >> 생성자/판별자  70.21/-32.18 [판별자-진짜:  18.88 판별자-가짜: -70.21]\n",
      "에포크  15 | 시간 22.73 min | 평균 손실 >> 생성자/판별자  67.00/-34.25 [판별자-진짜:  20.82 판별자-가짜: -67.00]\n",
      "에포크  16 | 시간 24.23 min | 평균 손실 >> 생성자/판별자  95.22/-45.52 [판별자-진짜:  41.88 판별자-가짜: -95.22]\n",
      "에포크  17 | 시간 25.73 min | 평균 손실 >> 생성자/판별자 132.51/-38.23 [판별자-진짜:  85.03 판별자-가짜: -132.51]\n",
      "에포크  18 | 시간 27.23 min | 평균 손실 >> 생성자/판별자  96.69/-37.52 [판별자-진짜:  39.74 판별자-가짜: -96.69]\n",
      "에포크  19 | 시간 28.73 min | 평균 손실 >> 생성자/판별자  68.87/-31.12 [판별자-진짜:  25.42 판별자-가짜: -68.87]\n",
      "에포크  20 | 시간 30.23 min | 평균 손실 >> 생성자/판별자 107.47/-40.87 [판별자-진짜:  53.50 판별자-가짜: -107.47]\n",
      "에포크  21 | 시간 31.73 min | 평균 손실 >> 생성자/판별자  98.44/-36.00 [판별자-진짜:  48.21 판별자-가짜: -98.44]\n",
      "에포크  22 | 시간 33.23 min | 평균 손실 >> 생성자/판별자  92.44/-37.71 [판별자-진짜:  43.77 판별자-가짜: -92.44]\n",
      "에포크  23 | 시간 34.73 min | 평균 손실 >> 생성자/판별자  78.62/-39.16 [판별자-진짜:  25.99 판별자-가짜: -78.62]\n",
      "에포크  24 | 시간 36.23 min | 평균 손실 >> 생성자/판별자  97.79/-41.31 [판별자-진짜:  49.23 판별자-가짜: -97.79]\n",
      "에포크  25 | 시간 37.73 min | 평균 손실 >> 생성자/판별자 106.70/-39.09 [판별자-진짜:  55.44 판별자-가짜: -106.70]\n",
      "에포크  26 | 시간 39.23 min | 평균 손실 >> 생성자/판별자 192.73/-15.76 [판별자-진짜: 158.91 판별자-가짜: -192.73]\n",
      "에포크  27 | 시간 40.73 min | 평균 손실 >> 생성자/판별자 147.80/-33.13 [판별자-진짜:  89.11 판별자-가짜: -147.80]\n",
      "에포크  28 | 시간 42.24 min | 평균 손실 >> 생성자/판별자 113.28/ -1.34 [판별자-진짜:  96.47 판별자-가짜: -113.28]\n",
      "에포크  29 | 시간 43.74 min | 평균 손실 >> 생성자/판별자 115.91/-30.90 [판별자-진짜:  79.82 판별자-가짜: -115.91]\n",
      "에포크  30 | 시간 45.24 min | 평균 손실 >> 생성자/판별자  72.01/-37.79 [판별자-진짜:  26.69 판별자-가짜: -72.01]\n",
      "에포크  31 | 시간 46.74 min | 평균 손실 >> 생성자/판별자  94.02/-49.95 [판별자-진짜:  34.54 판별자-가짜: -94.02]\n",
      "에포크  32 | 시간 48.24 min | 평균 손실 >> 생성자/판별자 139.58/-35.37 [판별자-진짜:  81.65 판별자-가짜: -139.58]\n",
      "에포크  33 | 시간 49.74 min | 평균 손실 >> 생성자/판별자 176.33/-36.02 [판별자-진짜: 131.43 판별자-가짜: -176.33]\n",
      "에포크  34 | 시간 51.24 min | 평균 손실 >> 생성자/판별자 148.64/-37.40 [판별자-진짜:  97.04 판별자-가짜: -148.64]\n",
      "에포크  35 | 시간 52.74 min | 평균 손실 >> 생성자/판별자 216.30/-39.66 [판별자-진짜: 162.14 판별자-가짜: -216.30]\n",
      "에포크  36 | 시간 54.24 min | 평균 손실 >> 생성자/판별자 172.72/-31.00 [판별자-진짜: 130.30 판별자-가짜: -172.72]\n",
      "에포크  37 | 시간 55.74 min | 평균 손실 >> 생성자/판별자 199.65/-42.26 [판별자-진짜: 150.07 판별자-가짜: -199.65]\n",
      "에포크  38 | 시간 57.25 min | 평균 손실 >> 생성자/판별자 175.64/-32.98 [판별자-진짜: 134.44 판별자-가짜: -175.64]\n",
      "에포크  39 | 시간 58.75 min | 평균 손실 >> 생성자/판별자 253.23/-35.17 [판별자-진짜: 198.41 판별자-가짜: -253.23]\n",
      "에포크  40 | 시간 60.25 min | 평균 손실 >> 생성자/판별자 215.00/-37.39 [판별자-진짜: 168.72 판별자-가짜: -215.00]\n",
      "에포크  41 | 시간 61.75 min | 평균 손실 >> 생성자/판별자 296.04/-39.96 [판별자-진짜: 247.17 판별자-가짜: -296.04]\n",
      "에포크  42 | 시간 63.25 min | 평균 손실 >> 생성자/판별자 442.54/-49.30 [판별자-진짜: 386.13 판별자-가짜: -442.54]\n",
      "에포크  43 | 시간 64.75 min | 평균 손실 >> 생성자/판별자 496.49/-58.53 [판별자-진짜: 432.24 판별자-가짜: -496.49]\n",
      "에포크  44 | 시간 66.25 min | 평균 손실 >> 생성자/판별자 458.61/-57.16 [판별자-진짜: 379.55 판별자-가짜: -458.61]\n",
      "에포크  45 | 시간 67.75 min | 평균 손실 >> 생성자/판별자 571.54/-65.78 [판별자-진짜: 496.95 판별자-가짜: -571.54]\n",
      "에포크  46 | 시간 69.26 min | 평균 손실 >> 생성자/판별자 570.84/-79.92 [판별자-진짜: 485.63 판별자-가짜: -570.84]\n",
      "에포크  47 | 시간 70.76 min | 평균 손실 >> 생성자/판별자 665.51/-88.09 [판별자-진짜: 563.83 판별자-가짜: -665.51]\n",
      "에포크  48 | 시간 72.26 min | 평균 손실 >> 생성자/판별자 718.82/-93.33 [판별자-진짜: 619.27 판별자-가짜: -718.82]\n",
      "에포크  49 | 시간 73.76 min | 평균 손실 >> 생성자/판별자 790.11/-91.80 [판별자-진짜: 689.10 판별자-가짜: -790.11]\n",
      "에포크  50 | 시간 75.26 min | 평균 손실 >> 생성자/판별자 777.07/-95.76 [판별자-진짜: 670.67 판별자-가짜: -777.07]\n",
      "에포크  51 | 시간 76.76 min | 평균 손실 >> 생성자/판별자 789.35/-122.81 [판별자-진짜: 649.77 판별자-가짜: -789.35]\n",
      "에포크  52 | 시간 78.27 min | 평균 손실 >> 생성자/판별자 789.85/-28.28 [판별자-진짜: 698.55 판별자-가짜: -789.85]\n",
      "에포크  53 | 시간 79.77 min | 평균 손실 >> 생성자/판별자 976.71/-127.37 [판별자-진짜: 841.49 판별자-가짜: -976.71]\n",
      "에포크  54 | 시간 81.27 min | 평균 손실 >> 생성자/판별자 1111.54/-136.59 [판별자-진짜: 954.00 판별자-가짜: -1111.54]\n",
      "에포크  55 | 시간 82.77 min | 평균 손실 >> 생성자/판별자 1144.08/-157.33 [판별자-진짜: 968.13 판별자-가짜: -1144.08]\n",
      "에포크  56 | 시간 84.27 min | 평균 손실 >> 생성자/판별자 1179.81/-201.14 [판별자-진짜: 967.95 판별자-가짜: -1179.81]\n",
      "에포크  57 | 시간 85.77 min | 평균 손실 >> 생성자/판별자 1268.67/-216.95 [판별자-진짜: 1034.90 판별자-가짜: -1268.67]\n",
      "에포크  58 | 시간 87.28 min | 평균 손실 >> 생성자/판별자 1339.78/-248.07 [판별자-진짜: 1075.25 판별자-가짜: -1339.78]\n",
      "에포크  59 | 시간 88.78 min | 평균 손실 >> 생성자/판별자 1468.62/-291.61 [판별자-진짜: 1149.45 판별자-가짜: -1468.62]\n",
      "에포크  60 | 시간 90.28 min | 평균 손실 >> 생성자/판별자 1611.28/-360.93 [판별자-진짜: 1215.94 판별자-가짜: -1611.28]\n",
      "에포크  61 | 시간 91.78 min | 평균 손실 >> 생성자/판별자 1637.11/-335.24 [판별자-진짜: 1282.43 판별자-가짜: -1637.11]\n",
      "에포크  62 | 시간 93.28 min | 평균 손실 >> 생성자/판별자 1824.18/-455.97 [판별자-진짜: 1341.47 판별자-가짜: -1824.18]\n",
      "에포크  63 | 시간 94.78 min | 평균 손실 >> 생성자/판별자 1627.37/-405.35 [판별자-진짜: 1199.90 판별자-가짜: -1627.37]\n",
      "에포크  64 | 시간 96.29 min | 평균 손실 >> 생성자/판별자 1722.45/-398.06 [판별자-진짜: 1307.17 판별자-가짜: -1722.45]\n",
      "에포크  65 | 시간 97.79 min | 평균 손실 >> 생성자/판별자 2191.62/-527.24 [판별자-진짜: 1640.56 판별자-가짜: -2191.62]\n",
      "에포크  66 | 시간 99.29 min | 평균 손실 >> 생성자/판별자 2243.45/-489.60 [판별자-진짜: 1675.04 판별자-가짜: -2243.45]\n",
      "에포크  67 | 시간 100.79 min | 평균 손실 >> 생성자/판별자 2275.81/-492.67 [판별자-진짜: 1762.09 판별자-가짜: -2275.81]\n",
      "에포크  68 | 시간 102.29 min | 평균 손실 >> 생성자/판별자 2538.29/-603.28 [판별자-진짜: 1901.72 판별자-가짜: -2538.29]\n",
      "에포크  69 | 시간 103.80 min | 평균 손실 >> 생성자/판별자 2700.40/-666.24 [판별자-진짜: 2001.80 판별자-가짜: -2700.40]\n",
      "에포크  70 | 시간 105.30 min | 평균 손실 >> 생성자/판별자 2359.31/-606.84 [판별자-진짜: 1732.22 판별자-가짜: -2359.31]\n",
      "에포크  71 | 시간 106.80 min | 평균 손실 >> 생성자/판별자 2973.34/-748.02 [판별자-진짜: 2165.29 판별자-가짜: -2973.34]\n",
      "에포크  72 | 시간 108.31 min | 평균 손실 >> 생성자/판별자 2580.53/-656.12 [판별자-진짜: 1880.34 판별자-가짜: -2580.53]\n",
      "에포크  73 | 시간 109.81 min | 평균 손실 >> 생성자/판별자 3196.27/-826.74 [판별자-진짜: 2340.16 판별자-가짜: -3196.27]\n",
      "에포크  74 | 시간 111.31 min | 평균 손실 >> 생성자/판별자 3512.29/-935.73 [판별자-진짜: 2522.87 판별자-가짜: -3512.29]\n",
      "에포크  75 | 시간 112.81 min | 평균 손실 >> 생성자/판별자 3516.79/-958.28 [판별자-진짜: 2517.64 판별자-가짜: -3516.79]\n",
      "에포크  76 | 시간 114.32 min | 평균 손실 >> 생성자/판별자 3694.90/-894.61 [판별자-진짜: 2655.34 판별자-가짜: -3694.90]\n",
      "에포크  77 | 시간 115.82 min | 평균 손실 >> 생성자/판별자 3777.24/-958.84 [판별자-진짜: 2793.92 판별자-가짜: -3777.24]\n",
      "에포크  78 | 시간 117.32 min | 평균 손실 >> 생성자/판별자 4103.32/-1137.78 [판별자-진짜: 2932.01 판별자-가짜: -4103.32]\n",
      "에포크  79 | 시간 118.83 min | 평균 손실 >> 생성자/판별자 4231.96/-1209.68 [판별자-진짜: 2971.13 판별자-가짜: -4231.96]\n",
      "에포크  80 | 시간 120.33 min | 평균 손실 >> 생성자/판별자 4474.03/-1196.86 [판별자-진짜: 3172.77 판별자-가짜: -4474.03]\n",
      "에포크  81 | 시간 121.83 min | 평균 손실 >> 생성자/판별자 4527.14/-1296.22 [판별자-진짜: 3157.82 판별자-가짜: -4527.14]\n",
      "에포크  82 | 시간 123.33 min | 평균 손실 >> 생성자/판별자 4697.23/-1358.45 [판별자-진짜: 3297.97 판별자-가짜: -4697.23]\n",
      "에포크  83 | 시간 124.84 min | 평균 손실 >> 생성자/판별자 4991.05/-1456.23 [판별자-진짜: 3498.42 판별자-가짜: -4991.05]\n",
      "에포크  84 | 시간 126.34 min | 평균 손실 >> 생성자/판별자 5189.51/-1386.75 [판별자-진짜: 3664.86 판별자-가짜: -5189.51]\n",
      "에포크  85 | 시간 127.84 min | 평균 손실 >> 생성자/판별자 5326.85/-1593.85 [판별자-진짜: 3703.34 판별자-가짜: -5326.85]\n",
      "에포크  86 | 시간 129.35 min | 평균 손실 >> 생성자/판별자 5475.61/-1658.66 [판별자-진짜: 3760.63 판별자-가짜: -5475.61]\n",
      "에포크  87 | 시간 130.85 min | 평균 손실 >> 생성자/판별자 4957.83/-1376.09 [판별자-진짜: 3486.02 판별자-가짜: -4957.83]\n",
      "에포크  88 | 시간 132.36 min | 평균 손실 >> 생성자/판별자 5540.91/-1351.74 [판별자-진짜: 3982.25 판별자-가짜: -5540.91]\n",
      "에포크  89 | 시간 133.86 min | 평균 손실 >> 생성자/판별자 5855.23/-1710.55 [판별자-진짜: 4110.46 판별자-가짜: -5855.23]\n",
      "에포크  90 | 시간 135.37 min | 평균 손실 >> 생성자/판별자 6001.08/-1742.30 [판별자-진짜: 4216.05 판별자-가짜: -6001.08]\n",
      "에포크  91 | 시간 136.87 min | 평균 손실 >> 생성자/판별자 6285.06/-1771.97 [판별자-진짜: 4422.87 판별자-가짜: -6285.06]\n",
      "에포크  92 | 시간 138.37 min | 평균 손실 >> 생성자/판별자 6157.36/-1787.11 [판별자-진짜: 4305.37 판별자-가짜: -6157.36]\n",
      "에포크  93 | 시간 139.88 min | 평균 손실 >> 생성자/판별자 6675.51/-1953.54 [판별자-진짜: 4663.26 판별자-가짜: -6675.51]\n",
      "에포크  94 | 시간 141.38 min | 평균 손실 >> 생성자/판별자 5622.43/-1169.85 [판별자-진짜: 4082.56 판별자-가짜: -5622.43]\n",
      "에포크  95 | 시간 142.88 min | 평균 손실 >> 생성자/판별자 6958.16/-1894.04 [판별자-진짜: 5020.77 판별자-가짜: -6958.16]\n",
      "에포크  96 | 시간 144.39 min | 평균 손실 >> 생성자/판별자 7072.43/-2064.77 [판별자-진짜: 4955.78 판별자-가짜: -7072.43]\n",
      "에포크  97 | 시간 145.89 min | 평균 손실 >> 생성자/판별자 7162.84/-2021.37 [판별자-진짜: 5044.16 판별자-가짜: -7162.84]\n",
      "에포크  98 | 시간 147.39 min | 평균 손실 >> 생성자/판별자 7447.10/-2257.35 [판별자-진짜: 5108.76 판별자-가짜: -7447.10]\n",
      "에포크  99 | 시간 148.89 min | 평균 손실 >> 생성자/판별자 5035.28/-1524.32 [판별자-진짜: 3305.25 판별자-가짜: -5035.28]\n",
      "에포크 100 | 시간 150.40 min | 평균 손실 >> 생성자/판별자 6875.64/-1929.97 [판별자-진짜: 4903.52 판별자-가짜: -6875.64]\n"
     ]
    }
   ],
   "source": [
    "import time\n",
    "\n",
    "\n",
    "## 옵티마이저:\n",
    "g_optimizer = tf.keras.optimizers.Adam(0.0002)\n",
    "d_optimizer = tf.keras.optimizers.Adam(0.0002)\n",
    "\n",
    "if mode_z == 'uniform':\n",
    "    fixed_z = tf.random.uniform(\n",
    "        shape=(batch_size, z_size),\n",
    "        minval=-1, maxval=1)\n",
    "elif mode_z == 'normal':\n",
    "    fixed_z = tf.random.normal(\n",
    "        shape=(batch_size, z_size))\n",
    "\n",
    "def create_samples(g_model, input_z):\n",
    "    g_output = g_model(input_z, training=False)\n",
    "    images = tf.reshape(g_output, (batch_size, *image_size))    \n",
    "    return (images+1)/2.0\n",
    "\n",
    "all_losses = []\n",
    "epoch_samples = []\n",
    "\n",
    "start_time = time.time()\n",
    "\n",
    "for epoch in range(1, num_epochs+1):\n",
    "    epoch_losses = []\n",
    "    for i,(input_z,input_real) in enumerate(mnist_trainset):\n",
    "        \n",
    "        with tf.GradientTape() as d_tape, tf.GradientTape() as g_tape:\n",
    "            g_output = gen_model(input_z, training=True)\n",
    "            \n",
    "            d_critics_real = disc_model(input_real, training=True)\n",
    "            d_critics_fake = disc_model(g_output, training=True)\n",
    "\n",
    "            ## 생성자 손실을 계산합니다:\n",
    "            g_loss = -tf.math.reduce_mean(d_critics_fake)\n",
    "\n",
    "            ## 판별자 손실을 계산합니다:\n",
    "            d_loss_real = -tf.math.reduce_mean(d_critics_real)\n",
    "            d_loss_fake =  tf.math.reduce_mean(d_critics_fake)\n",
    "            d_loss = d_loss_real + d_loss_fake\n",
    "\n",
    "            ## 그래디언트 페널티:\n",
    "            with tf.GradientTape() as gp_tape:\n",
    "                alpha = tf.random.uniform(\n",
    "                    shape=[d_critics_real.shape[0], 1, 1, 1], \n",
    "                    minval=0.0, maxval=1.0)\n",
    "                interpolated = (\n",
    "                    alpha*input_real + (1-alpha)*g_output)\n",
    "                gp_tape.watch(interpolated)\n",
    "                d_critics_intp = disc_model(interpolated)\n",
    "            \n",
    "            grads_intp = gp_tape.gradient(\n",
    "                d_critics_intp, [interpolated,])[0]\n",
    "            grads_intp_l2 = tf.sqrt(\n",
    "                tf.reduce_sum(tf.square(grads_intp), axis=[1, 2, 3]))\n",
    "            grad_penalty = tf.reduce_mean(tf.square(grads_intp_l2 - 1.0))\n",
    "        \n",
    "            d_loss = d_loss + lambda_gp*grad_penalty\n",
    "        \n",
    "        ## 최적화: 그래디언트를 계산하고 적용합니다\n",
    "        d_grads = d_tape.gradient(d_loss, disc_model.trainable_variables)\n",
    "        d_optimizer.apply_gradients(\n",
    "            grads_and_vars=zip(d_grads, disc_model.trainable_variables))\n",
    "        \n",
    "        g_grads = g_tape.gradient(g_loss, gen_model.trainable_variables)\n",
    "        g_optimizer.apply_gradients(\n",
    "            grads_and_vars=zip(g_grads, gen_model.trainable_variables))\n",
    "\n",
    "        epoch_losses.append(\n",
    "            (g_loss.numpy(), d_loss.numpy(), \n",
    "             d_loss_real.numpy(), d_loss_fake.numpy()))\n",
    "                    \n",
    "    all_losses.append(epoch_losses)\n",
    "    \n",
    "    print('에포크 {:-3d} | 시간 {:.2f} min | 평균 손실 >>'\n",
    "          ' 생성자/판별자 {:6.2f}/{:6.2f} [판별자-진짜: {:6.2f} 판별자-가짜: {:6.2f}]'\n",
    "          .format(epoch, (time.time() - start_time)/60, \n",
    "                  *list(np.mean(all_losses[-1], axis=0)))\n",
    "    )\n",
    "    \n",
    "    epoch_samples.append(\n",
    "        create_samples(gen_model, fixed_z).numpy()\n",
    "    )"
   ]
  },
  {
   "cell_type": "code",
   "execution_count": 17,
   "metadata": {
    "colab": {
     "base_uri": "https://localhost:8080/",
     "height": 458
    },
    "id": "EhyoIu75o6TX",
    "outputId": "58fcad3f-0fe0-4841-ff1c-dc848c39b6aa"
   },
   "outputs": [
    {
     "data": {
      "image/png": "[encoded data removed]",
      "text/plain": [
       "<Figure size 576x432 with 2 Axes>"
      ]
     },
     "metadata": {
      "needs_background": "light",
      "tags": []
     },
     "output_type": "display_data"
    }
   ],
   "source": [
    "import itertools\n",
    "\n",
    "\n",
    "fig = plt.figure(figsize=(8, 6))\n",
    "\n",
    "## 손실 그래프\n",
    "ax = fig.add_subplot(1, 1, 1)\n",
    "g_losses = [item[0] for item in itertools.chain(*all_losses)]\n",
    "d_losses = [item[1] for item in itertools.chain(*all_losses)]\n",
    "plt.plot(g_losses, label='Generator loss', alpha=0.95)\n",
    "plt.plot(d_losses, label='Discriminator loss', alpha=0.95)\n",
    "plt.legend(fontsize=20)\n",
    "ax.set_xlabel('Iteration', size=15)\n",
    "ax.set_ylabel('Loss', size=15)\n",
    "\n",
    "epochs = np.arange(1, 101)\n",
    "epoch2iter = lambda e: e*len(all_losses[-1])\n",
    "epoch_ticks = [1, 20, 40, 60, 80, 100]\n",
    "newpos   = [epoch2iter(e) for e in epoch_ticks]\n",
    "ax2 = ax.twiny()\n",
    "ax2.set_xticks(newpos)\n",
    "ax2.set_xticklabels(epoch_ticks)\n",
    "ax2.xaxis.set_ticks_position('bottom')\n",
    "ax2.xaxis.set_label_position('bottom')\n",
    "ax2.spines['bottom'].set_position(('outward', 60))\n",
    "ax2.set_xlabel('Epoch', size=15)\n",
    "ax2.set_xlim(ax.get_xlim())\n",
    "ax.tick_params(axis='both', which='major', labelsize=15)\n",
    "ax2.tick_params(axis='both', which='major', labelsize=15)\n",
    "\n",
    "plt.show()"
   ]
  },
  {
   "cell_type": "code",
   "execution_count": 18,
   "metadata": {
    "colab": {
     "base_uri": "https://localhost:8080/",
     "height": 783
    },
    "id": "FPW5iPQeo6TX",
    "outputId": "dd425b19-8368-4b5b-f625-2a1213ddb5fd"
   },
   "outputs": [
    {
     "data": {
      "image/png": "[encoded data removed]",
      "text/plain": [
       "<Figure size 720x1008 with 30 Axes>"
      ]
     },
     "metadata": {
      "tags": []
     },
     "output_type": "display_data"
    }
   ],
   "source": [
    "selected_epochs = [1, 2, 4, 10, 50, 100]\n",
    "fig = plt.figure(figsize=(10, 14))\n",
    "for i,e in enumerate(selected_epochs):\n",
    "    for j in range(5):\n",
    "        ax = fig.add_subplot(6, 5, i*5+j+1)\n",
    "        ax.set_xticks([])\n",
    "        ax.set_yticks([])\n",
    "        if j == 0:\n",
    "            ax.text(\n",
    "                -0.06, 0.5, 'Epoch {}'.format(e),\n",
    "                rotation=90, size=18, color='red',\n",
    "                horizontalalignment='right',\n",
    "                verticalalignment='center', \n",
    "                transform=ax.transAxes)\n",
    "        \n",
    "        image = epoch_samples[e-1][j]\n",
    "        ax.imshow(image, cmap='gray_r')\n",
    "\n",
    "plt.show()"
   ]
  },
  {
   "cell_type": "markdown",
   "metadata": {
    "id": "YBrkP6vWo6TY"
   },
   "source": [
    "## 모드 붕괴"
   ]
  },
  {
   "cell_type": "code",
   "execution_count": 19,
   "metadata": {
    "colab": {
     "base_uri": "https://localhost:8080/",
     "height": 621
    },
    "id": "y0a0y7LEo6TY",
    "outputId": "038261f1-497b-4a13-fa28-7909753bda29"
   },
   "outputs": [
    {
     "data": {
      "text/html": [
       "<img src=\"https://git.io/JLjcT\" width=\"600\"/>"
      ],
      "text/plain": [
       "<IPython.core.display.Image object>"
      ]
     },
     "execution_count": 19,
     "metadata": {
      "tags": []
     },
     "output_type": "execute_result"
    }
   ],
   "source": [
    "Image(url='https://git.io/JLjcT', width=600)"
   ]
  }
 ],
 "metadata": {
  "accelerator": "GPU",
  "colab": {
   "collapsed_sections": [],
   "name": "ch17-DCGAN.ipynb",
   "provenance": []
  },
  "kernelspec": {
   "display_name": "Python 3",
   "language": "python",
   "name": "python3"
  },
  "language_info": {
   "codemirror_mode": {
    "name": "ipython",
    "version": 3
   },
   "file_extension": ".py",
   "mimetype": "text/x-python",
   "name": "python",
   "nbconvert_exporter": "python",
   "pygments_lexer": "ipython3",
   "version": "3.7.3"
  },
  "widgets": {
   "application/vnd.jupyter.widget-state+json": {
    "01e70031995542778c40039ec17ce8a4": {
     "model_module": "@jupyter-widgets/base",
     "model_name": "LayoutModel",
     "state": {
      "_model_module": "@jupyter-widgets/base",
      "_model_module_version": "1.2.0",
      "_model_name": "LayoutModel",
      "_view_count": null,
      "_view_module": "@jupyter-widgets/base",
      "_view_module_version": "1.2.0",
      "_view_name": "LayoutView",
      "align_content": null,
      "align_items": null,
      "align_self": null,
      "border": null,
      "bottom": null,
      "display": null,
      "flex": null,
      "flex_flow": null,
      "grid_area": null,
      "grid_auto_columns": null,
      "grid_auto_flow": null,
      "grid_auto_rows": null,
      "grid_column": null,
      "grid_gap": null,
      "grid_row": null,
      "grid_template_areas": null,
      "grid_template_columns": null,
      "grid_template_rows": null,
      "height": null,
      "justify_content": null,
      "justify_items": null,
      "left": null,
      "margin": null,
      "max_height": null,
      "max_width": null,
      "min_height": null,
      "min_width": null,
      "object_fit": null,
      "object_position": null,
      "order": null,
      "overflow": null,
      "overflow_x": null,
      "overflow_y": null,
      "padding": null,
      "right": null,
      "top": null,
      "visibility": null,
      "width": null
     }
    },
    "151503edf3524511a6eec70782f71b4e": {
     "model_module": "@jupyter-widgets/controls",
     "model_name": "ProgressStyleModel",
     "state": {
      "_model_module": "@jupyter-widgets/controls",
      "_model_module_version": "1.5.0",
      "_model_name": "ProgressStyleModel",
      "_view_count": null,
      "_view_module": "@jupyter-widgets/base",
      "_view_module_version": "1.2.0",
      "_view_name": "StyleView",
      "bar_color": null,
      "description_width": "initial"
     }
    },
    "416af751fbd942748515e66729e350f6": {
     "model_module": "@jupyter-widgets/controls",
     "model_name": "HBoxModel",
     "state": {
      "_dom_classes": [],
      "_model_module": "@jupyter-widgets/controls",
      "_model_module_version": "1.5.0",
      "_model_name": "HBoxModel",
      "_view_count": null,
      "_view_module": "@jupyter-widgets/controls",
      "_view_module_version": "1.5.0",
      "_view_name": "HBoxView",
      "box_style": "",
      "children": [
       "IPY_MODEL_b50e2ed713d6437080e959cf4f4a0644",
       "IPY_MODEL_67ce659ac3f74ef3bae1223dc32b87fe"
      ],
      "layout": "IPY_MODEL_01e70031995542778c40039ec17ce8a4"
     }
    },
    "4da9fa1f466d4e57b8e92f51c8dc76e1": {
     "model_module": "@jupyter-widgets/base",
     "model_name": "LayoutModel",
     "state": {
      "_model_module": "@jupyter-widgets/base",
      "_model_module_version": "1.2.0",
      "_model_name": "LayoutModel",
      "_view_count": null,
      "_view_module": "@jupyter-widgets/base",
      "_view_module_version": "1.2.0",
      "_view_name": "LayoutView",
      "align_content": null,
      "align_items": null,
      "align_self": null,
      "border": null,
      "bottom": null,
      "display": null,
      "flex": null,
      "flex_flow": null,
      "grid_area": null,
      "grid_auto_columns": null,
      "grid_auto_flow": null,
      "grid_auto_rows": null,
      "grid_column": null,
      "grid_gap": null,
      "grid_row": null,
      "grid_template_areas": null,
      "grid_template_columns": null,
      "grid_template_rows": null,
      "height": null,
      "justify_content": null,
      "justify_items": null,
      "left": null,
      "margin": null,
      "max_height": null,
      "max_width": null,
      "min_height": null,
      "min_width": null,
      "object_fit": null,
      "object_position": null,
      "order": null,
      "overflow": null,
      "overflow_x": null,
      "overflow_y": null,
      "padding": null,
      "right": null,
      "top": null,
      "visibility": null,
      "width": null
     }
    },
    "543afb144eb0431bb1f3e0a00f6c15f3": {
     "model_module": "@jupyter-widgets/base",
     "model_name": "LayoutModel",
     "state": {
      "_model_module": "@jupyter-widgets/base",
      "_model_module_version": "1.2.0",
      "_model_name": "LayoutModel",
      "_view_count": null,
      "_view_module": "@jupyter-widgets/base",
      "_view_module_version": "1.2.0",
      "_view_name": "LayoutView",
      "align_content": null,
      "align_items": null,
      "align_self": null,
      "border": null,
      "bottom": null,
      "display": null,
      "flex": null,
      "flex_flow": null,
      "grid_area": null,
      "grid_auto_columns": null,
      "grid_auto_flow": null,
      "grid_auto_rows": null,
      "grid_column": null,
      "grid_gap": null,
      "grid_row": null,
      "grid_template_areas": null,
      "grid_template_columns": null,
      "grid_template_rows": null,
      "height": null,
      "justify_content": null,
      "justify_items": null,
      "left": null,
      "margin": null,
      "max_height": null,
      "max_width": null,
      "min_height": null,
      "min_width": null,
      "object_fit": null,
      "object_position": null,
      "order": null,
      "overflow": null,
      "overflow_x": null,
      "overflow_y": null,
      "padding": null,
      "right": null,
      "top": null,
      "visibility": null,
      "width": null
     }
    },
    "67ce659ac3f74ef3bae1223dc32b87fe": {
     "model_module": "@jupyter-widgets/controls",
     "model_name": "HTMLModel",
     "state": {
      "_dom_classes": [],
      "_model_module": "@jupyter-widgets/controls",
      "_model_module_version": "1.5.0",
      "_model_name": "HTMLModel",
      "_view_count": null,
      "_view_module": "@jupyter-widgets/controls",
      "_view_module_version": "1.5.0",
      "_view_name": "HTMLView",
      "description": "",
      "description_tooltip": null,
      "layout": "IPY_MODEL_4da9fa1f466d4e57b8e92f51c8dc76e1",
      "placeholder": "​",
      "style": "IPY_MODEL_7cdeca53cabc4bb4b7b11c5c7bd666e2",
      "value": " 4/4 [00:00&lt;00:00,  8.04 file/s]"
     }
    },
    "7cdeca53cabc4bb4b7b11c5c7bd666e2": {
     "model_module": "@jupyter-widgets/controls",
     "model_name": "DescriptionStyleModel",
     "state": {
      "_model_module": "@jupyter-widgets/controls",
      "_model_module_version": "1.5.0",
      "_model_name": "DescriptionStyleModel",
      "_view_count": null,
      "_view_module": "@jupyter-widgets/base",
      "_view_module_version": "1.2.0",
      "_view_name": "StyleView",
      "description_width": ""
     }
    },
    "b50e2ed713d6437080e959cf4f4a0644": {
     "model_module": "@jupyter-widgets/controls",
     "model_name": "FloatProgressModel",
     "state": {
      "_dom_classes": [],
      "_model_module": "@jupyter-widgets/controls",
      "_model_module_version": "1.5.0",
      "_model_name": "FloatProgressModel",
      "_view_count": null,
      "_view_module": "@jupyter-widgets/controls",
      "_view_module_version": "1.5.0",
      "_view_name": "ProgressView",
      "bar_style": "success",
      "description": "Dl Completed...: 100%",
      "description_tooltip": null,
      "layout": "IPY_MODEL_543afb144eb0431bb1f3e0a00f6c15f3",
      "max": 4,
      "min": 0,
      "orientation": "horizontal",
      "style": "IPY_MODEL_151503edf3524511a6eec70782f71b4e",
      "value": 4
     }
    }
   }
  }
 },
 "nbformat": 4,
 "nbformat_minor": 4
}
